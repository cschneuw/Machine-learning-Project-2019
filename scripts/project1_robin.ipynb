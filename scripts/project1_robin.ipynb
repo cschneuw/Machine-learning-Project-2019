{
 "cells": [
  {
   "cell_type": "code",
   "execution_count": 1,
   "metadata": {},
   "outputs": [],
   "source": [
    "# Useful starting lines\n",
    "%matplotlib inline\n",
    "import numpy as np\n",
    "import matplotlib.pyplot as plt\n",
    "%load_ext autoreload\n",
    "%autoreload 2"
   ]
  },
  {
   "cell_type": "markdown",
   "metadata": {},
   "source": [
    "## Load the training data into feature matrix, class labels, and event ids:"
   ]
  },
  {
   "cell_type": "code",
   "execution_count": 2,
   "metadata": {},
   "outputs": [],
   "source": [
    "from proj1_helpers import *\n",
    "from implementations import *\n",
    "import os\n",
    "data_base_path = os.path.join(os.pardir, 'data')\n",
    "data_folder = 'train.csv'\n",
    "data_path = os.path.join(data_base_path, data_folder)\n",
    "y, tX, ids = load_csv_data(data_path)"
   ]
  },
  {
   "cell_type": "markdown",
   "metadata": {},
   "source": [
    "### Change later : Simple data description \n",
    "- all variables are floating point, except PRI_jet_num which is integer\n",
    "- variables prefixed with PRI (for PRImitives) are “raw” quantities about the bunch collision as measured by the detector.\n",
    "- variables prefixed with DER (for DERived) are quantities computed from the primitive features, which were selected by the physicists of ATLAS.\n",
    "- it can happen that for some entries some variables are meaningless or cannot be computed; in this case, their value is −999.0, which is outside the normal range of all variables."
   ]
  },
  {
   "cell_type": "code",
   "execution_count": 3,
   "metadata": {
    "scrolled": false
   },
   "outputs": [
    {
     "name": "stdout",
     "output_type": "stream",
     "text": [
      "y shape = (250000,)\n",
      "tX shape =(250000, 30)\n",
      "ids shape = (250000,)\n"
     ]
    }
   ],
   "source": [
    "print('y shape = ' + str(y.shape) + '\\ntX shape =' + str(tX.shape) + '\\nids shape = ' + str(ids.shape))"
   ]
  },
  {
   "cell_type": "markdown",
   "metadata": {},
   "source": [
    "## Changing cv"
   ]
  },
  {
   "cell_type": "code",
   "execution_count": 4,
   "metadata": {},
   "outputs": [],
   "source": [
    "tX = np.delete(tX, 22, axis=1)\n",
    "tX, to_remove = missingness_filter(tX, 0.1)\n",
    "to_remove = np.append(to_remove, 22)\n",
    "tX = impute_median(tX)"
   ]
  },
  {
   "cell_type": "code",
   "execution_count": 5,
   "metadata": {},
   "outputs": [
    {
     "name": "stdout",
     "output_type": "stream",
     "text": [
      "(250000, 18)\n",
      "[ 0  4  5  6 12 22 23 24 25 26 27 22]\n"
     ]
    }
   ],
   "source": [
    "print(tX.shape)\n",
    "print(to_remove)"
   ]
  },
  {
   "cell_type": "code",
   "execution_count": null,
   "metadata": {},
   "outputs": [],
   "source": [
    "y = np.where(y==-1, 0, y)"
   ]
  },
  {
   "cell_type": "code",
   "execution_count": null,
   "metadata": {
    "scrolled": true
   },
   "outputs": [],
   "source": [
    "seed = 1\n",
    "degree_ri = 1\n",
    "k_fold = 4\n",
    "lambdas = np.logspace(-12, 0, 5)\n",
    "degrees = range(1, 5)\n",
    "\n",
    "k_indices = build_k_indices(y[0:10000,], k_fold, seed)\n",
    "\n",
    "rmse_tr_ri, rmse_te_ri, acc_measures = cross_validation_wAcc(y[0:10000,], tX[0:10000,:], k_indices, k_fold, degrees, \n",
    "                                          lambdas , ml_function = 'ri', max_iters = 100, \n",
    "                                          gamma = 0.05, verbose = True, interaction=True)"
   ]
  },
  {
   "cell_type": "code",
   "execution_count": null,
   "metadata": {
    "scrolled": false
   },
   "outputs": [],
   "source": [
    "plt.figure(figsize=(10,10))\n",
    "plt.subplot(2, 2, 1)\n",
    "cross_validation_visualization(degrees, acc_measures[\"acc_tr\"], acc_measures[\"acc_te\"], lambdas, \"accuracy\")\n",
    "plt.subplot(2, 2, 2)\n",
    "cross_validation_visualization(degrees, acc_measures[\"pre_tr\"], acc_measures[\"pre_te\"], lambdas, \"precision\")\n",
    "plt.subplot(2, 2, 3)\n",
    "cross_validation_visualization(degrees, acc_measures[\"rec_tr\"], acc_measures[\"rec_te\"], lambdas, \"recall\")\n",
    "plt.subplot(2, 2, 4)\n",
    "cross_validation_visualization(degrees, acc_measures[\"f1_tr\"], acc_measures[\"f1_te\"], lambdas, \"F1\")"
   ]
  },
  {
   "cell_type": "code",
   "execution_count": null,
   "metadata": {},
   "outputs": [],
   "source": [
    "seed = 1\n",
    "degree_ri = 1\n",
    "k_fold = 4\n",
    "lambdas = np.logspace(-12, 0, 5)\n",
    "degrees = range(1, 5)\n",
    "\n",
    "k_indices = build_k_indices(y[0:10000,], k_fold, seed)\n",
    "\n",
    "rmse_tr_ri, rmse_te_ri, acc_measures = cross_validation_wAcc(y[0:10000,], tX[0:10000,:], k_indices, k_fold, degrees, \n",
    "                                          lambdas , ml_function = 'lr', max_iters = 100, \n",
    "                                          gamma = 0.05, verbose = True, interaction=False)"
   ]
  },
  {
   "cell_type": "code",
   "execution_count": null,
   "metadata": {},
   "outputs": [],
   "source": [
    "def vis_cv_acc(degrees,lambdas,acc_measures):\n",
    "    plt.figure(figsize=(10,10))\n",
    "    plt.subplot(2, 2, 1)\n",
    "    cross_validation_visualization(degrees, acc_measures[\"acc_tr\"], acc_measures[\"acc_te\"], lambdas, \"accuracy\")\n",
    "    plt.subplot(2, 2, 2)\n",
    "    cross_validation_visualization(degrees, acc_measures[\"pre_tr\"], acc_measures[\"pre_te\"], lambdas, \"precision\")\n",
    "    plt.subplot(2, 2, 3)\n",
    "    cross_validation_visualization(degrees, acc_measures[\"rec_tr\"], acc_measures[\"rec_te\"], lambdas, \"recall\")\n",
    "    plt.subplot(2, 2, 4)\n",
    "    cross_validation_visualization(degrees, acc_measures[\"f1_tr\"], acc_measures[\"f1_te\"], lambdas, \"F1\")"
   ]
  },
  {
   "cell_type": "code",
   "execution_count": null,
   "metadata": {},
   "outputs": [],
   "source": [
    "vis_cv_acc(degrees,lambdas,acc_measures)"
   ]
  },
  {
   "cell_type": "code",
   "execution_count": null,
   "metadata": {},
   "outputs": [],
   "source": [
    "lambdas = np.logspace(-9, -3, 7)\n",
    "print(lambdas)"
   ]
  },
  {
   "cell_type": "markdown",
   "metadata": {},
   "source": [
    "## Do your thing crazy machine learning thing here :) ..."
   ]
  },
  {
   "cell_type": "markdown",
   "metadata": {},
   "source": [
    "## Generate predictions and save ouput in csv format for submission:"
   ]
  },
  {
   "cell_type": "code",
   "execution_count": null,
   "metadata": {},
   "outputs": [],
   "source": [
    "DATA_TEST_PATH = '' # TODO: download train data and supply path here \n",
    "_, tX_test, ids_test = load_csv_data(DATA_TEST_PATH)"
   ]
  },
  {
   "cell_type": "code",
   "execution_count": null,
   "metadata": {},
   "outputs": [],
   "source": [
    "OUTPUT_PATH = '' # TODO: fill in desired name of output file for submission\n",
    "y_pred = predict_labels(weights, tX_test)\n",
    "create_csv_submission(ids_test, y_pred, OUTPUT_PATH)"
   ]
  },
  {
   "cell_type": "code",
   "execution_count": null,
   "metadata": {},
   "outputs": [],
   "source": []
  }
 ],
 "metadata": {
  "anaconda-cloud": {},
  "kernelspec": {
   "display_name": "Python 3",
   "language": "python",
   "name": "python3"
  },
  "language_info": {
   "codemirror_mode": {
    "name": "ipython",
    "version": 3
   },
   "file_extension": ".py",
   "mimetype": "text/x-python",
   "name": "python",
   "nbconvert_exporter": "python",
   "pygments_lexer": "ipython3",
   "version": "3.7.4"
  }
 },
 "nbformat": 4,
 "nbformat_minor": 1
}
