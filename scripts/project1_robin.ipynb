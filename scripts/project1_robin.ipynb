{
 "cells": [
  {
   "cell_type": "code",
   "execution_count": 1,
   "metadata": {},
   "outputs": [],
   "source": [
    "# Useful starting lines\n",
    "%matplotlib inline\n",
    "import numpy as np\n",
    "import matplotlib.pyplot as plt\n",
    "%load_ext autoreload\n",
    "%autoreload 2"
   ]
  },
  {
   "cell_type": "markdown",
   "metadata": {},
   "source": [
    "## Load the training data into feature matrix, class labels, and event ids:"
   ]
  },
  {
   "cell_type": "code",
   "execution_count": 2,
   "metadata": {},
   "outputs": [],
   "source": [
    "from proj1_helpers import *\n",
    "from implementations import *\n",
    "import os\n",
    "data_base_path = os.path.join(os.pardir, 'data')\n",
    "data_folder = 'train.csv'\n",
    "data_path = os.path.join(data_base_path, data_folder)\n",
    "y, tX, ids = load_csv_data(data_path)"
   ]
  },
  {
   "cell_type": "markdown",
   "metadata": {},
   "source": [
    "### Change later : Simple data description \n",
    "- all variables are floating point, except PRI_jet_num which is integer\n",
    "- variables prefixed with PRI (for PRImitives) are “raw” quantities about the bunch collision as measured by the detector.\n",
    "- variables prefixed with DER (for DERived) are quantities computed from the primitive features, which were selected by the physicists of ATLAS.\n",
    "- it can happen that for some entries some variables are meaningless or cannot be computed; in this case, their value is −999.0, which is outside the normal range of all variables."
   ]
  },
  {
   "cell_type": "code",
   "execution_count": 3,
   "metadata": {
    "scrolled": false
   },
   "outputs": [
    {
     "name": "stdout",
     "output_type": "stream",
     "text": [
      "y shape = (250000,)\n",
      "tX shape =(250000, 30)\n",
      "ids shape = (250000,)\n"
     ]
    }
   ],
   "source": [
    "print('y shape = ' + str(y.shape) + '\\ntX shape =' + str(tX.shape) + '\\nids shape = ' + str(ids.shape))"
   ]
  },
  {
   "cell_type": "markdown",
   "metadata": {},
   "source": [
    "## Changing cv"
   ]
  },
  {
   "cell_type": "code",
   "execution_count": 4,
   "metadata": {},
   "outputs": [],
   "source": [
    "def standardize_train(x):\n",
    "    \n",
    "    mean_x = np.mean(x, axis = 0)\n",
    "    std_x = np.std(x, axis = 0)\n",
    "    \n",
    "    std_x = np.where(std_x == 0, 1, std_x)\n",
    "    \n",
    "    x = x - mean_x\n",
    "    \n",
    "    x = x / std_x\n",
    "        \n",
    "    return x, mean_x, std_x\n",
    "\n",
    "def standardize_test(x, tr_mean, tr_std):\n",
    "    \n",
    "    x = x - tr_mean\n",
    "\n",
    "    x = x / tr_std\n",
    "    return x\n",
    "\n",
    "def standardize_both(x_train, x_test):\n",
    "    \n",
    "    std_train_x, mean_x, std_x = standardize_train(x_train)\n",
    "    std_test_x = standardize_test(x_test, mean_x, std_x)\n",
    "    \n",
    "    return std_train_x, std_test_x"
   ]
  },
  {
   "cell_type": "code",
   "execution_count": 5,
   "metadata": {},
   "outputs": [],
   "source": [
    "def cross_validation_wAcc(y, x, k_indices, k_fold, degrees, lambdas = [0], ml_function = 'ls', max_iters = 0, gamma = 0.05, verbose = False):\n",
    "    \"\"\" Returns a list the train losses and test losses of the cross validation.\"\"\"\n",
    "\n",
    "    losses_tr_cv = np.empty((len(lambdas), len(degrees)))\n",
    "    losses_te_cv = np.empty((len(lambdas), len(degrees)))\n",
    "    acc_tr_cv = np.empty((len(lambdas), len(degrees)))\n",
    "    acc_te_cv = np.empty((len(lambdas), len(degrees)))\n",
    "\n",
    "    for index_lambda, lambda_ in enumerate(lambdas):\n",
    "        for index_degree, degree in enumerate(degrees):\n",
    "            losses_tr = np.empty(k_fold)\n",
    "            losses_te = np.empty(k_fold)\n",
    "            accuracies_tr = np.empty(k_fold)\n",
    "            accuracies_te = np.empty(k_fold)\n",
    "            for k in range(k_fold):\n",
    "                loss_tr = 0\n",
    "                loss_te = 0\n",
    "                te_indices = k_indices[k]\n",
    "                tr_indices = [ind for split in k_indices for ind in split if ind not in te_indices]\n",
    "                \n",
    "                x_tr = x[tr_indices, :].copy()\n",
    "                x_te = x[te_indices, :].copy()\n",
    "                \n",
    "                x_tr, x_te = standardize_both(x_tr, x_te)\n",
    "                \n",
    "                \n",
    "                y_tr = y[tr_indices]\n",
    "                y_te = y[te_indices]\n",
    "\n",
    "                tx_tr = build_poly(x_tr, np.int(degree))\n",
    "                tx_te = build_poly(x_te, np.int(degree))\n",
    "                \n",
    "\n",
    "                if ml_function == 'gd':\n",
    "                    initial_w = np.zeros(tx_tr.shape[1])\n",
    "                    w_tr, loss_tr = least_squares_GD(y_tr, tx_tr, initial_w, max_iters, gamma)\n",
    "                    loss_te = compute_mse(y_te, tx_te, w_tr)\n",
    "\n",
    "                if ml_function == 'sgd' :\n",
    "                    initial_w = np.zeros(tx_tr.shape[1])\n",
    "                    w_tr, loss_tr = least_squares_SGD(y_tr, tx_tr, initial_w, max_iters, gamma)\n",
    "                    loss_te = compute_mse(y_te, tx_te, w_tr)\n",
    "\n",
    "                if ml_function == 'ri':\n",
    "                    w_tr, loss_tr = ridge_regression(y_tr, tx_tr, lambda_)\n",
    "                    loss_te = compute_mse(y_te, tx_te, w_tr)\n",
    "                    \n",
    "                #print(\"After ridge\")\n",
    "\n",
    "                if ml_function == 'lr':\n",
    "                    initial_w = np.zeros(tx_tr.shape[1])\n",
    "                    w_tr, loss_tr = logistic_regression(y_tr, tx_tr, initial_w, max_iters, gamma)\n",
    "                    loss_te = compute_loglikelihood(y_te, tx_te, w_tr)\n",
    "\n",
    "                if ml_function == 'rlr':\n",
    "                    initial_w = np.zeros(tx_tr.shape[1])\n",
    "                    w_tr, loss_tr = reg_logistic_regression(y_tr, tx_tr, lambda_, initial_w, max_iters, gamma)\n",
    "                    loss_te = compute_loglikelihood(y_te, tx_te, w_tr)\n",
    "\n",
    "                losses_tr[k] = loss_tr\n",
    "                losses_te[k] = loss_te\n",
    "                \n",
    "                \n",
    "                if np.isnan(w_tr).any():\n",
    "                    print(np.sum(np.isnan(w_tr), axis = 0)/w_tr.shape[0], \" weights are nan \\n\")\n",
    "                \n",
    "                if ml_function == 'lr' or ml_function == 'rlr':\n",
    "                    y_tr_pred = our_predict_labels(w_tr, tx_tr, True)\n",
    "                    y_te_pred = our_predict_labels(w_tr, tx_te, True)\n",
    "                else:\n",
    "                    y_tr_pred = our_predict_labels(w_tr, tx_tr)\n",
    "                    y_te_pred = our_predict_labels(w_tr, tx_te)\n",
    "                    \n",
    "                \n",
    "                \n",
    "                accuracies_tr[k], _, _, _ = compute_accuracy_measures(y_tr, y_tr_pred)\n",
    "                accuracies_te[k], _, _, _ = compute_accuracy_measures(y_te, y_te_pred)\n",
    "\n",
    "\n",
    "            if ml_function == 'gd' or 'sgd' or 'ri':\n",
    "                losses_tr_cv[index_lambda][index_degree] = np.mean(np.sqrt(2*losses_tr))\n",
    "                losses_te_cv[index_lambda][index_degree] = np.mean(np.sqrt(2*losses_te))\n",
    "\n",
    "            if ml_function == 'lr' or 'rlr':\n",
    "                losses_tr_cv[index_lambda][index_degree] = np.mean(losses_tr)\n",
    "                losses_te_cv[index_lambda][index_degree] = np.mean(losses_te)\n",
    "                \n",
    "            acc_tr_cv[index_lambda][index_degree] = np.mean(accuracies_tr)\n",
    "            acc_te_cv[index_lambda][index_degree] = np.mean(accuracies_te)\n",
    "            \n",
    "            if verbose == True:\n",
    "                print('Completed degree '+str(degree)+'/'+str(len(degrees)),end=\"\\r\",flush=True)\n",
    "\n",
    "        if verbose == True:\n",
    "            print('\\n Completed lambda '+str(index_lambda+1)+'/'+str(len(lambdas)) + '\\n',end=\"\\r\",flush=True)\n",
    "\n",
    "    return losses_tr_cv, losses_te_cv, acc_tr_cv, acc_te_cv\n"
   ]
  },
  {
   "cell_type": "code",
   "execution_count": 6,
   "metadata": {},
   "outputs": [
    {
     "name": "stdout",
     "output_type": "stream",
     "text": [
      "(250000, 19)\n",
      "[ 0  4  5  6 12 22 23 24 25 26 27 22]\n",
      "(250000,)\n"
     ]
    }
   ],
   "source": [
    "# remove categorical data\n",
    "tX = np.delete(tX, 22, axis=1)\n",
    "# keep only columns that do not have too much missing data\n",
    "tX, rmX = train_data_formatting(tX, degree = 1, cutoff = 0.1, \n",
    "                      imputation = impute_median, interaction = False)\n",
    "# standarize the data\n",
    "rmX = np.append(rmX, 22)\n",
    "#tX = np.apply_along_axis(standardize, 1, tX)\n",
    "print(tX.shape)\n",
    "print(rmX)\n",
    "print(y.shape)"
   ]
  },
  {
   "cell_type": "code",
   "execution_count": 17,
   "metadata": {
    "scrolled": true
   },
   "outputs": [
    {
     "name": "stdout",
     "output_type": "stream",
     "text": [
      "Completed degree 4/4\n",
      " Completed lambda 1/5\n",
      "Completed degree 4/4\n",
      " Completed lambda 2/5\n",
      "Completed degree 4/4\n",
      " Completed lambda 3/5\n",
      "Completed degree 4/4\n",
      " Completed lambda 4/5\n",
      "Completed degree 4/4\n",
      " Completed lambda 5/5\n",
      "\r"
     ]
    }
   ],
   "source": [
    "seed = 1\n",
    "degree_ri = 1\n",
    "k_fold = 4\n",
    "lambdas = np.logspace(-12, 0, 5)\n",
    "degrees = range(1, 5)\n",
    "\n",
    "k_indices = build_k_indices(y[0:10000,], k_fold, seed)\n",
    "\n",
    "rmse_tr_ri, rmse_te_ri, acc_tr_ri, acc_te_ri = cross_validation_wAcc(y[0:10000,], tX[0:10000,:], k_indices, k_fold, degrees, \n",
    "                                          lambdas , ml_function = 'rlr', max_iters = 100, \n",
    "                                          gamma = 0.05, verbose = True)"
   ]
  },
  {
   "cell_type": "code",
   "execution_count": 18,
   "metadata": {
    "scrolled": false
   },
   "outputs": [
    {
     "data": {
      "image/png": "[encoded data removed]",
      "text/plain": [
       "<Figure size 432x288 with 1 Axes>"
      ]
     },
     "metadata": {
      "needs_background": "light"
     },
     "output_type": "display_data"
    }
   ],
   "source": [
    "cross_validation_visualization(degrees, acc_tr_ri, acc_te_ri, lambdas)"
   ]
  },
  {
   "cell_type": "code",
   "execution_count": 19,
   "metadata": {},
   "outputs": [
    {
     "name": "stdout",
     "output_type": "stream",
     "text": [
      "lambda*=1e-12\n",
      "\n",
      "degree*=1\n",
      "\n",
      "acc train=0.6992\n",
      "\n",
      "acc test=0.6986 \n",
      "\n",
      "rmse train=nan\n",
      "\n",
      "rmse test=nan\n"
     ]
    }
   ],
   "source": [
    "idx = np.unravel_index(np.nanargmax(acc_te_ri), acc_te_ri.shape)\n",
    "lambda_ri = lambdas[idx[0]]\n",
    "degree_ri = degrees[idx[1]]\n",
    "\n",
    "print(\"lambda*={lambda_}\\n\\ndegree*={degree}\\n\\nacc train={acc_tr}\\n\\nacc test={acc_te} \\n\\nrmse train={rmse_tr}\\n\\nrmse test={rmse_te}\".format(\n",
    "    lambda_=lambda_ri, degree=degree_ri, acc_tr=acc_tr_ri[idx], acc_te=acc_te_ri[idx], rmse_tr=rmse_tr_ri[idx], rmse_te=rmse_te_ri[idx]))"
   ]
  },
  {
   "cell_type": "code",
   "execution_count": null,
   "metadata": {
    "scrolled": true
   },
   "outputs": [],
   "source": [
    "cross_validation_visualization(degrees, rmse_tr_ri, rmse_te_ri, lambdas)"
   ]
  },
  {
   "cell_type": "code",
   "execution_count": null,
   "metadata": {},
   "outputs": [],
   "source": [
    "idx = np.unravel_index(np.nanargmin(rmse_te_ri), rmse_te_ri.shape)\n",
    "lambda_ri = lambdas[idx[0]]\n",
    "degree_ri = degrees[idx[1]]\n",
    "\n",
    "print(\"lambda*={lambda_}\\n\\ndegree*={degree}\\n\\nacc train={acc_tr}\\n\\nacc test={acc_te} \\n\\nrmse train={rmse_tr}\\n\\nrmse test={rmse_te}\".format(\n",
    "    lambda_=lambda_ri, degree=degree_ri, acc_tr=acc_tr_ri[idx], acc_te=acc_te_ri[idx], rmse_tr=rmse_tr_ri[idx], rmse_te=rmse_te_ri[idx]))"
   ]
  },
  {
   "cell_type": "markdown",
   "metadata": {},
   "source": [
    "## Do your thing crazy machine learning thing here :) ..."
   ]
  },
  {
   "cell_type": "markdown",
   "metadata": {},
   "source": [
    "## Generate predictions and save ouput in csv format for submission:"
   ]
  },
  {
   "cell_type": "code",
   "execution_count": null,
   "metadata": {},
   "outputs": [],
   "source": [
    "DATA_TEST_PATH = '' # TODO: download train data and supply path here \n",
    "_, tX_test, ids_test = load_csv_data(DATA_TEST_PATH)"
   ]
  },
  {
   "cell_type": "code",
   "execution_count": null,
   "metadata": {},
   "outputs": [],
   "source": [
    "OUTPUT_PATH = '' # TODO: fill in desired name of output file for submission\n",
    "y_pred = predict_labels(weights, tX_test)\n",
    "create_csv_submission(ids_test, y_pred, OUTPUT_PATH)"
   ]
  },
  {
   "cell_type": "code",
   "execution_count": null,
   "metadata": {},
   "outputs": [],
   "source": []
  }
 ],
 "metadata": {
  "anaconda-cloud": {},
  "kernelspec": {
   "display_name": "Python 3",
   "language": "python",
   "name": "python3"
  },
  "language_info": {
   "codemirror_mode": {
    "name": "ipython",
    "version": 3
   },
   "file_extension": ".py",
   "mimetype": "text/x-python",
   "name": "python",
   "nbconvert_exporter": "python",
   "pygments_lexer": "ipython3",
   "version": "3.7.4"
  }
 },
 "nbformat": 4,
 "nbformat_minor": 1
}
