{
 "cells": [
  {
   "cell_type": "code",
   "execution_count": 16,
   "metadata": {},
   "outputs": [
    {
     "name": "stdout",
     "output_type": "stream",
     "text": [
      "The autoreload extension is already loaded. To reload it, use:\n",
      "  %reload_ext autoreload\n"
     ]
    }
   ],
   "source": [
    "# Useful starting lines\n",
    "%matplotlib inline\n",
    "import numpy as np\n",
    "import matplotlib.pyplot as plt\n",
    "%load_ext autoreload\n",
    "%autoreload 2"
   ]
  },
  {
   "cell_type": "markdown",
   "metadata": {},
   "source": [
    "## Load the training data into feature matrix, class labels, and event ids:"
   ]
  },
  {
   "cell_type": "code",
   "execution_count": 17,
   "metadata": {},
   "outputs": [],
   "source": [
    "from proj1_helpers import *\n",
    "DATA_TRAIN_PATH = '../data/train.csv'\n",
    "y, tX, ids = load_csv_data(DATA_TRAIN_PATH)"
   ]
  },
  {
   "cell_type": "markdown",
   "metadata": {},
   "source": [
    "### Change later : Simple data description \n",
    "- all variables are floating point, except PRI_jet_num which is integer\n",
    "- variables prefixed with PRI (for PRImitives) are “raw” quantities about the bunch collision as measured by the detector.\n",
    "- variables prefixed with DER (for DERived) are quantities computed from the primitive features, which were selected by the physicists of ATLAS.\n",
    "- it can happen that for some entries some variables are meaningless or cannot be computed; in this case, their value is −999.0, which is outside the normal range of all variables."
   ]
  },
  {
   "cell_type": "code",
   "execution_count": 18,
   "metadata": {},
   "outputs": [
    {
     "name": "stdout",
     "output_type": "stream",
     "text": [
      "y shape = (250000,)\n",
      "tX shape =(250000, 30)\n",
      "ids shape = (250000,)\n"
     ]
    }
   ],
   "source": [
    "print('y shape = ' + str(y.shape) + '\\ntX shape =' + str(tX.shape) + '\\nids shape = ' + str(ids.shape))"
   ]
  },
  {
   "cell_type": "markdown",
   "metadata": {},
   "source": [
    "Description of the data:\n",
    "- `y` (N) is composed of the labels (-1 or 1) of all the samples.  \n",
    "- `tX` (N x F) is composed of the values of the features (F) for all samples (N)  \n",
    "- `ids` (N) is composed of all the index (100000-349999) of the samples (N)  \n",
    "  \n",
    "Moreover, the number of features is 30 (F=30) and the number of samples is 250'000 (N=250'000). Non recorded data has value `-999`. "
   ]
  },
  {
   "cell_type": "markdown",
   "metadata": {},
   "source": [
    "## Machine learning"
   ]
  },
  {
   "cell_type": "code",
   "execution_count": 19,
   "metadata": {},
   "outputs": [],
   "source": [
    "from implementations import *"
   ]
  },
  {
   "cell_type": "markdown",
   "metadata": {},
   "source": [
    "### Data pre-processing "
   ]
  },
  {
   "cell_type": "code",
   "execution_count": 20,
   "metadata": {},
   "outputs": [],
   "source": [
    "# remove categorical data\n",
    "tX = np.delete(tX, 22, axis=1)\n",
    "# keep only columns that do not have too much missing data\n",
    "tX, rmX = train_data_formatting(tX, degree = 1, cutoff = 0.7, \n",
    "                      imputation = impute_median, interaction = False)\n",
    "# standarize the data\n",
    "rmX = np.append(rmX, 22)\n",
    "tX = np.apply_along_axis(standardize, 1, tX)"
   ]
  },
  {
   "cell_type": "code",
   "execution_count": 21,
   "metadata": {},
   "outputs": [
    {
     "name": "stdout",
     "output_type": "stream",
     "text": [
      "(250000, 23)\n",
      "[ 4  5  6 12 25 26 27 22]\n"
     ]
    }
   ],
   "source": [
    "y = np.where(y==-1, 0, y)\n",
    "#y = np.where(y==0, -1, y)\n",
    "print(tX.shape)\n",
    "print(rmX)"
   ]
  },
  {
   "cell_type": "markdown",
   "metadata": {},
   "source": [
    "### Exploratory analysis"
   ]
  },
  {
   "cell_type": "code",
   "execution_count": null,
   "metadata": {},
   "outputs": [],
   "source": []
  },
  {
   "cell_type": "markdown",
   "metadata": {},
   "source": [
    "### Feature processing"
   ]
  },
  {
   "cell_type": "markdown",
   "metadata": {},
   "source": [
    "**Least squares**"
   ]
  },
  {
   "cell_type": "code",
   "execution_count": 8,
   "metadata": {
    "scrolled": true
   },
   "outputs": [
    {
     "name": "stdout",
     "output_type": "stream",
     "text": [
      "w* =[-16.56951516  35.88425074  35.42478643  35.25855094  35.916411\n",
      "  55.45245225  35.68153769  17.01370023  27.77076767  38.33938397\n",
      "  55.51886911  35.86844342  35.81816687  55.28049928  35.80434264\n",
      "  35.87852209  36.00576372  35.79756981  35.76836281  35.86807982\n",
      "  35.84880384  35.76951103  54.60559432]\n",
      "\n",
      "mse=0.3424792276001996\n"
     ]
    }
   ],
   "source": [
    "(w_ls, loss_ls) = least_squares(y, tX)\n",
    "\n",
    "print(\"w* ={w}\\n\\nmse={loss}\".format(w=w_ls, loss=loss_ls))"
   ]
  },
  {
   "cell_type": "markdown",
   "metadata": {},
   "source": [
    "**Least squares with Gradient Descent**"
   ]
  },
  {
   "cell_type": "code",
   "execution_count": 9,
   "metadata": {},
   "outputs": [],
   "source": [
    "#define parameters\n",
    "\n",
    "initial_w = np.zeros(tX.shape[1])\n",
    "max_iters = 100\n",
    "gammas = np.logspace(-6, 0, 20)\n",
    "\n",
    "losses_gd = np.empty(len(gammas))\n",
    "ws_gd = np.empty((len(gammas), len(initial_w)))\n",
    "\n",
    "for idx, gamma in enumerate(gammas):\n",
    "    (w, loss) = least_squares_GD(y, tX, initial_w, max_iters, gamma)\n",
    "    losses_gd[idx] = loss\n",
    "    ws_gd[idx, :]=w"
   ]
  },
  {
   "cell_type": "code",
   "execution_count": 10,
   "metadata": {},
   "outputs": [
    {
     "data": {
      "image/png": "[encoded data removed]",
      "text/plain": [
       "<Figure size 432x288 with 1 Axes>"
      ]
     },
     "metadata": {
      "needs_background": "light"
     },
     "output_type": "display_data"
    }
   ],
   "source": [
    "#plot the losses per gamma\n",
    "\n",
    "fig, ax = plt.subplots()\n",
    "ax.semilogx(gammas, losses_gd)\n",
    "\n",
    "ax.set(xlabel='gamma', ylabel='MSE',\n",
    "       title='Mean square error per choice of learning rate')\n",
    "ax.grid()\n",
    "ax.set_ylim([0, 0.8])\n",
    "plt.show()"
   ]
  },
  {
   "cell_type": "code",
   "execution_count": 11,
   "metadata": {},
   "outputs": [
    {
     "name": "stdout",
     "output_type": "stream",
     "text": [
      "w* =[ 0.02609106  0.05341248 -0.44641379 -0.03264295  0.08259964  0.03039605\n",
      " -0.04811413  0.06357741  0.01703471  0.03853398  0.22273243  0.02759897\n",
      "  0.02686089 -0.06915206  0.02769682  0.02836934 -0.05294179  0.02791485\n",
      " -0.0562567   0.01170168  0.02777256  0.02771762 -0.03448906]\n",
      "\n",
      "mse=0.3673712553116703\n",
      "\n",
      "gamma=0.05455594781168514\n"
     ]
    }
   ],
   "source": [
    "idx = np.nanargmin(losses_gd)\n",
    "\n",
    "w_gd = ws_gd[idx]\n",
    "gamma_gd = gammas[idx]\n",
    "\n",
    "print(\"w* ={w}\\n\\nmse={loss}\\n\\ngamma={gamma}\".format(\n",
    "    w=w_gd, loss=losses_gd[idx], gamma=gamma_gd))"
   ]
  },
  {
   "cell_type": "markdown",
   "metadata": {},
   "source": [
    "**Least squares with Stochastic Gradient Descent**"
   ]
  },
  {
   "cell_type": "code",
   "execution_count": 12,
   "metadata": {},
   "outputs": [],
   "source": [
    "initial_w = np.zeros(tX.shape[1])\n",
    "max_iters = 100\n",
    "gammas = np.logspace(-6, 0, 20)\n",
    "\n",
    "losses_sgd = np.empty(len(gammas))\n",
    "ws_sgd = np.empty((len(gammas), len(initial_w)))\n",
    "for idx, gamma in enumerate(gammas):\n",
    "    (w, loss) = least_squares_SGD(y, tX, initial_w, max_iters, gamma)\n",
    "    losses_sgd[idx] = loss\n",
    "    ws_sgd[idx,:] = w"
   ]
  },
  {
   "cell_type": "code",
   "execution_count": 13,
   "metadata": {},
   "outputs": [
    {
     "data": {
      "image/png": "[encoded data removed]",
      "text/plain": [
       "<Figure size 432x288 with 1 Axes>"
      ]
     },
     "metadata": {
      "needs_background": "light"
     },
     "output_type": "display_data"
    }
   ],
   "source": [
    "#plot the losses per gamma used\n",
    "fig, ax = plt.subplots()\n",
    "ax.semilogx(gammas, losses_sgd)\n",
    "\n",
    "ax.set(xlabel='gamma', ylabel='MSE',\n",
    "       title='Mean square error per choice of learning rate')\n",
    "ax.grid()\n",
    "ax.set_ylim([0, 1])\n",
    "plt.show()"
   ]
  },
  {
   "cell_type": "code",
   "execution_count": 14,
   "metadata": {},
   "outputs": [
    {
     "name": "stdout",
     "output_type": "stream",
     "text": [
      "w* =[ 0.01097178 -0.02663429 -0.04306816 -0.01123603  0.01107146  0.01057602\n",
      " -0.00705762 -0.00654987  0.01025162  0.01232088  0.01113753  0.01074778\n",
      "  0.0118238  -0.00945316  0.01076729  0.01156967 -0.00958143  0.0116025\n",
      " -0.0333758  -0.01337005  0.01164202  0.011241    0.01460305]\n",
      "\n",
      "mse=0.43739843049210964\n",
      "\n",
      "gamma=0.0014384498882876629\n"
     ]
    }
   ],
   "source": [
    "idx = np.nanargmin(losses_sgd)\n",
    "\n",
    "w_sgd = ws_sgd[idx]\n",
    "gamma_sgd = gammas[idx]\n",
    "\n",
    "print(\"w* ={w}\\n\\nmse={loss}\\n\\ngamma={gamma}\".format(\n",
    "    w=w_sgd, loss=losses_sgd[idx], gamma=gamma_sgd ))"
   ]
  },
  {
   "cell_type": "markdown",
   "metadata": {},
   "source": [
    "**Ridge regression**\n",
    "\n",
    "For ridge regression, we have two parameters to optimize, the lambda (penality) and degree (complexity). To do so, we use a cross validation and bias-variance decomposition respectively. \n",
    "\n",
    "As the two are interdependent, we can just run them in a loop (each cells after the others, so first the cross-validation, then biais-variance decomposition, again cross-validation, etc.) to have the best parameters. "
   ]
  },
  {
   "cell_type": "markdown",
   "metadata": {},
   "source": [
    "***Cross-validation hyperparameter selection***"
   ]
  },
  {
   "cell_type": "code",
   "execution_count": 16,
   "metadata": {},
   "outputs": [],
   "source": [
    "def cross_validation_visualization(lambds, degrees, loss_tr, loss_te):    \n",
    "    \"\"\"visualization the curves of train error and test error.\"\"\"\n",
    "    N = len(degrees)\n",
    "    cmap = plt.get_cmap('jet_r')\n",
    "    for index_degree, degree in enumerate(degrees):\n",
    "        color = cmap(float(index_degree)/N)\n",
    "        plt.semilogx(lambds, loss_tr[:, index_degree], marker=\".\", linewidth = 0.5, color = color, label='deg'+str(degree))\n",
    "        plt.semilogx(lambds, loss_te[:, index_degree], marker=\"*\", linewidth = 0.5, color = color,  label='deg'+str(degree))\n",
    "    plt.xlabel(\"lambda\")\n",
    "    plt.ylabel(\"error\")\n",
    "    plt.title(\"cross validation\")\n",
    "    plt.legend(loc=1)\n",
    "    plt.grid(True)"
   ]
  },
  {
   "cell_type": "code",
   "execution_count": 17,
   "metadata": {},
   "outputs": [],
   "source": [
    "seed = 1\n",
    "degree_ri = 1\n",
    "k_fold = 4\n",
    "lambdas = np.logspace(-12, 0, 20)\n",
    "degrees = range(1, 12)"
   ]
  },
  {
   "cell_type": "code",
   "execution_count": 18,
   "metadata": {},
   "outputs": [],
   "source": [
    "k_indices = build_k_indices(y, k_fold, seed)\n",
    "rmse_tr_cv = np.empty((len(lambdas), len(degrees)))\n",
    "rmse_te_cv = np.empty((len(lambdas), len(degrees)))\n",
    "\n",
    "for index_lambda, lambda_ in  enumerate(lambdas):\n",
    "    for index_degree, degree in enumerate(degrees):\n",
    "        l_rmse_tr = np.empty(k_fold)\n",
    "        l_rmse_te = np.empty(k_fold)\n",
    "        for k in range(k_fold):\n",
    "            loss_tr, loss_te = cross_validation(y, tX, k_indices, k, lambda_, degree)\n",
    "            l_rmse_tr[k] = np.sqrt(2*loss_tr)\n",
    "            l_rmse_te[k] = np.sqrt(2*loss_te)\n",
    "        rmse_tr_cv[index_lambda][index_degree] = np.mean(l_rmse_tr)\n",
    "        rmse_te_cv[index_lambda][index_degree] = np.mean(l_rmse_te)"
   ]
  },
  {
   "cell_type": "code",
   "execution_count": 19,
   "metadata": {},
   "outputs": [
    {
     "data": {
      "image/png": "[encoded data removed]",
      "text/plain": [
       "<Figure size 432x288 with 1 Axes>"
      ]
     },
     "metadata": {
      "needs_background": "light"
     },
     "output_type": "display_data"
    }
   ],
   "source": [
    "cross_validation_visualization(lambdas, degrees, rmse_tr_cv, rmse_te_cv)"
   ]
  },
  {
   "cell_type": "code",
   "execution_count": 26,
   "metadata": {},
   "outputs": [
    {
     "name": "stdout",
     "output_type": "stream",
     "text": [
      "lambda*=1e-12\n",
      "\n",
      "degree*=7\n",
      "\n",
      "rmse train=0.7983686200059185\n",
      "\n",
      "rmse test=0.8019613957970286\n"
     ]
    }
   ],
   "source": [
    "idx = np.unravel_index(np.nanargmin(rmse_te_cv), rmse_te_cv.shape)\n",
    "lambda_ri = lambdas[idx[0]]\n",
    "degree_ri = degrees[idx[1]]\n",
    "\n",
    "print(\"lambda*={lambda_}\\n\\ndegree*={degree}\\n\\nrmse train={rmse_tr}\\n\\nrmse test={rmse_te}\".format(\n",
    "    lambda_=lambda_ri, degree=degree_ri, rmse_tr=rmse_tr_cv[idx], rmse_te=rmse_te_cv[idx]))"
   ]
  },
  {
   "cell_type": "markdown",
   "metadata": {},
   "source": [
    "***Bias-variance decomposition for complexity determination***"
   ]
  },
  {
   "cell_type": "code",
   "execution_count": 27,
   "metadata": {},
   "outputs": [],
   "source": [
    "def bias_variance_decomposition_visualization(degrees, loss_tr, loss_te):\n",
    "    \"\"\"visualize the bias variance decomposition.\"\"\"\n",
    "    loss_tr_mean = np.expand_dims(np.mean(loss_tr, axis=0), axis=0)\n",
    "    loss_te_mean = np.expand_dims(np.mean(loss_te, axis=0), axis=0)\n",
    "    plt.plot(degrees, loss_tr.T, 'b', linestyle=\"-\", label='train', linewidth=0.3)\n",
    "    plt.plot(degrees, loss_te.T, 'r', linestyle=\"-\", label='test', linewidth=0.3)\n",
    "    plt.plot(degrees, loss_tr_mean.T, 'b', linestyle=\"-\", label='train', linewidth=3)\n",
    "    plt.plot(degrees, loss_te_mean.T, 'r', linestyle=\"-\", label='test', linewidth=3)\n",
    "    plt.xlabel(\"degree\")\n",
    "    plt.ylabel(\"error\")\n",
    "    plt.ylim(0, 10)\n",
    "    plt.title(\"Bias-Variance Decomposition\")"
   ]
  },
  {
   "cell_type": "code",
   "execution_count": 28,
   "metadata": {},
   "outputs": [],
   "source": [
    "ratio_train = 0.05\n",
    "seeds = range(50)"
   ]
  },
  {
   "cell_type": "code",
   "execution_count": 29,
   "metadata": {},
   "outputs": [],
   "source": [
    "rmse_tr_bv = np.empty((len(seeds), len(degrees)))\n",
    "rmse_te_bv = np.empty((len(seeds), len(degrees)))\n",
    "\n",
    "for index_seed, seed in enumerate(seeds):\n",
    "    np.random.seed(seed)\n",
    "    x_tr, x_te, y_tr, y_te = split_data(tX, y, ratio_train, seed)        \n",
    "    \n",
    "    for index_deg, deg in enumerate(degrees): \n",
    "        tx_tr = build_poly(x_tr, deg)\n",
    "        tx_te = build_poly(x_te, deg)\n",
    "            \n",
    "        w_tr, mse_tr = ridge_regression(y_tr, tx_tr, lambda_ri)\n",
    "        mse_te = compute_mse(y_te, tx_te, w_tr)\n",
    "            \n",
    "        rmse_tr_bv[index_seed][index_deg] = np.sqrt(2*mse_tr)\n",
    "        rmse_te_bv[index_seed][index_deg] = np.sqrt(2*mse_te)"
   ]
  },
  {
   "cell_type": "code",
   "execution_count": 30,
   "metadata": {},
   "outputs": [
    {
     "data": {
      "image/png": "[encoded data removed]",
      "text/plain": [
       "<Figure size 432x288 with 1 Axes>"
      ]
     },
     "metadata": {
      "needs_background": "light"
     },
     "output_type": "display_data"
    }
   ],
   "source": [
    "bias_variance_decomposition_visualization(degrees, rmse_tr_bv, rmse_te_bv)"
   ]
  },
  {
   "cell_type": "markdown",
   "metadata": {},
   "source": [
    "Based on the plot above, change the value of `degree_ri` manually. "
   ]
  },
  {
   "cell_type": "code",
   "execution_count": 31,
   "metadata": {},
   "outputs": [
    {
     "name": "stdout",
     "output_type": "stream",
     "text": [
      "degree*=7\n",
      "\n",
      "rmse train=0.7901841634481613\n",
      "\n",
      "rmse test=128.89314110814396\n"
     ]
    }
   ],
   "source": [
    "rmse_te_bv = np.array(rmse_te_bv)\n",
    "rmse_tr_bv = np.array(rmse_tr_bv)\n",
    "\n",
    "idx = np.nanargmin(np.abs(np.mean(rmse_te_bv-rmse_tr_bv, axis=0)))\n",
    "\n",
    "degree_ri = degree_ri\n",
    "\n",
    "print(\"degree*={degree}\\n\\nrmse train={rmse_tr}\\n\\nrmse test={rmse_te}\".format(\n",
    "    degree=degree_ri, rmse_tr=rmse_tr_bv[idx].mean(), rmse_te=rmse_te_bv[idx].mean()))"
   ]
  },
  {
   "cell_type": "code",
   "execution_count": 32,
   "metadata": {},
   "outputs": [
    {
     "name": "stdout",
     "output_type": "stream",
     "text": [
      "final w* shape=(162,)\n",
      "\n",
      "final degree*=7\n",
      "\n",
      "final lambda*=1e-12\n",
      "\n",
      "mse=0.3189781247640193\n"
     ]
    }
   ],
   "source": [
    "tX_poly = build_poly(tX, degree_ri)\n",
    "            \n",
    "w_ri, mse_ri = ridge_regression(y, tX_poly, lambda_ri)\n",
    "\n",
    "print(\"final w* shape={w}\\n\\nfinal degree*={degree}\\n\\nfinal lambda*={lambda_}\\n\\nmse={loss}\".format(w=w_ri.shape, \\\n",
    "            degree=degree_ri, lambda_=lambda_ri, loss = mse_ri))"
   ]
  },
  {
   "cell_type": "markdown",
   "metadata": {},
   "source": [
    "**Logistic regression**"
   ]
  },
  {
   "cell_type": "code",
   "execution_count": 37,
   "metadata": {},
   "outputs": [],
   "source": [
    "y = np.where(y==-1, 0, y)\n",
    "initial_w = np.zeros(tX.shape[1])\n",
    "max_iters = 1000\n",
    "gammas = np.logspace(-10, -1, 20)"
   ]
  },
  {
   "cell_type": "code",
   "execution_count": 41,
   "metadata": {},
   "outputs": [
    {
     "name": "stderr",
     "output_type": "stream",
     "text": [
      "C:\\Users\\Christelle\\Documents\\EPFL\\MA1\\Machine learning\\Group works\\Machine-learning-Project-2019\\scripts\\implementations.py:54: RuntimeWarning: divide by zero encountered in log\n",
      "  return -y.T.dot(np.log(h))-(1-y).T.dot(np.log(1-h))\n"
     ]
    }
   ],
   "source": [
    "losses_lr = np.empty(len(gammas))\n",
    "ws_lr = np.empty((len(gammas), len(initial_w)))\n",
    "for idx, gamma in enumerate(gammas):\n",
    "    (w, loss) = logistic_regression(y, tX, initial_w, max_iters, gamma)\n",
    "    losses_lr[idx] = loss\n",
    "    ws_lr[idx, :] = w"
   ]
  },
  {
   "cell_type": "code",
   "execution_count": 42,
   "metadata": {},
   "outputs": [
    {
     "data": {
      "image/png": "[encoded data removed]",
      "text/plain": [
       "<Figure size 432x288 with 1 Axes>"
      ]
     },
     "metadata": {
      "needs_background": "light"
     },
     "output_type": "display_data"
    }
   ],
   "source": [
    "#plot the losses per gamma used\n",
    "fig, ax = plt.subplots()\n",
    "ax.semilogx(gammas, losses_lr)\n",
    "\n",
    "ax.set(xlabel='gamma', ylabel='loglikelihood',\n",
    "       title='Log likelihood per choice of learning rate')\n",
    "ax.grid()\n",
    "plt.show()"
   ]
  },
  {
   "cell_type": "code",
   "execution_count": 43,
   "metadata": {},
   "outputs": [
    {
     "name": "stdout",
     "output_type": "stream",
     "text": [
      "w* =[ 6.16867922e-02  2.71540348e-01 -1.45380058e+00 -5.73158359e-01\n",
      "  1.24195522e-01  1.91957674e-01 -3.23568657e-01  4.44900514e-01\n",
      " -1.19666557e-03  2.33992695e-01  1.28288787e+00  7.43194414e-02\n",
      "  8.53550008e-02 -2.03498537e-01  7.66085870e-02  6.46197618e-02\n",
      "  2.48435202e-02  9.49201140e-02 -1.38487044e-01 -7.58209984e-02\n",
      "  9.55165805e-02  9.22290872e-02 -4.50042667e-01]\n",
      "\n",
      "loglikelihood loss=26603.682683502353\n",
      "\n",
      "gamma=5.455594781168514e-06\n"
     ]
    }
   ],
   "source": [
    "idx = np.nanargmin(losses_lr)\n",
    "\n",
    "w_lr = ws_lr[idx]\n",
    "gamma_lr = gammas[idx]\n",
    "\n",
    "print(\"w* ={w}\\n\\nloglikelihood loss={loss}\\n\\ngamma={gamma}\".format(\n",
    "    w=w_lr, loss=losses_lr[idx], gamma = gamma_lr))"
   ]
  },
  {
   "cell_type": "markdown",
   "metadata": {},
   "source": [
    "**Regularized logistic regression**"
   ]
  },
  {
   "cell_type": "code",
   "execution_count": 24,
   "metadata": {},
   "outputs": [],
   "source": [
    "initial_w = np.zeros(tX.shape[1])\n",
    "max_iters = 1000\n",
    "gammas = np.logspace(-10, -1, 20)\n",
    "lambda_rlr =0.005"
   ]
  },
  {
   "cell_type": "code",
   "execution_count": 25,
   "metadata": {},
   "outputs": [
    {
     "name": "stderr",
     "output_type": "stream",
     "text": [
      "C:\\Users\\Christelle\\Documents\\EPFL\\MA1\\Machine learning\\Group works\\Machine-learning-Project-2019\\scripts\\implementations.py:54: RuntimeWarning: divide by zero encountered in log\n",
      "  return -y.T.dot(np.log(h))-(1-y).T.dot(np.log(1-h))\n"
     ]
    }
   ],
   "source": [
    "losses_rlr = np.empty(len(gammas))\n",
    "ws_rlr = np.empty((len(gammas), len(initial_w)))\n",
    "for idx, gamma in enumerate(gammas):\n",
    "    (w, loss) = reg_logistic_regression(y, tX, lambda_rlr, initial_w, max_iters, gamma)\n",
    "    losses_rlr[idx] = loss\n",
    "    ws_rlr[idx, :] = w"
   ]
  },
  {
   "cell_type": "code",
   "execution_count": 26,
   "metadata": {},
   "outputs": [
    {
     "data": {
      "image/png": "[encoded data removed]",
      "text/plain": [
       "<Figure size 432x288 with 1 Axes>"
      ]
     },
     "metadata": {
      "needs_background": "light"
     },
     "output_type": "display_data"
    }
   ],
   "source": [
    "#plot the losses per gamma used\n",
    "fig, ax = plt.subplots()\n",
    "ax.semilogx(gammas, losses_rlr)\n",
    "\n",
    "ax.set(xlabel='gamma', ylabel='loglikelihood',\n",
    "       title='Log likelihood per choice of learning rate')\n",
    "ax.grid()\n",
    "plt.show()"
   ]
  },
  {
   "cell_type": "code",
   "execution_count": 43,
   "metadata": {},
   "outputs": [
    {
     "name": "stdout",
     "output_type": "stream",
     "text": [
      "w* =[ 0.03617218  0.32279767 -1.49097953 -0.65858368  0.15361016  0.24731652\n",
      " -0.31494863  0.48359585 -0.04044532  0.32055352  1.30776829  0.07779247\n",
      "  0.05415266 -0.16555179  0.07805405  0.10026063 -0.01036583  0.06624886\n",
      " -0.14978005 -0.09873603  0.0839565   0.08439951 -0.48728799]\n",
      "\n",
      "loglikelihood loss=132361.7419257325\n",
      "\n",
      "gamma=1.8329807108324337e-06\n"
     ]
    }
   ],
   "source": [
    "idx = np.nanargmin(losses_rlr)\n",
    "\n",
    "w_rlr = ws_rlr[idx]\n",
    "gamma_rlr = gammas[idx]\n",
    "\n",
    "print(\"w* ={w}\\n\\nloglikelihood loss={loss}\\n\\ngamma={gamma}\".format(\n",
    "    w=w_rlr, loss=losses_rlr[idx], gamma = gamma_rlr))"
   ]
  },
  {
   "cell_type": "markdown",
   "metadata": {},
   "source": [
    "***Cross-validation hyperparameter selection***"
   ]
  },
  {
   "cell_type": "code",
   "execution_count": 28,
   "metadata": {},
   "outputs": [],
   "source": [
    "seed = 1\n",
    "degree_rlr = 1\n",
    "k_fold = 4\n",
    "lambdas = np.logspace(-12, 0, 20)\n",
    "degrees = range(1, 12)\n",
    "max_iters = 1000\n",
    "initial_w = np.zeros(tX.shape[1])"
   ]
  },
  {
   "cell_type": "code",
   "execution_count": 29,
   "metadata": {},
   "outputs": [
    {
     "ename": "KeyboardInterrupt",
     "evalue": "",
     "output_type": "error",
     "traceback": [
      "\u001b[1;31m---------------------------------------------------------------------------\u001b[0m",
      "\u001b[1;31mKeyboardInterrupt\u001b[0m                         Traceback (most recent call last)",
      "\u001b[1;32m<ipython-input-29-fdd7b850e8cb>\u001b[0m in \u001b[0;36m<module>\u001b[1;34m\u001b[0m\n\u001b[0;32m      8\u001b[0m         \u001b[0mlog_te\u001b[0m \u001b[1;33m=\u001b[0m \u001b[0mnp\u001b[0m\u001b[1;33m.\u001b[0m\u001b[0mempty\u001b[0m\u001b[1;33m(\u001b[0m\u001b[0mk_fold\u001b[0m\u001b[1;33m)\u001b[0m\u001b[1;33m\u001b[0m\u001b[1;33m\u001b[0m\u001b[0m\n\u001b[0;32m      9\u001b[0m         \u001b[1;32mfor\u001b[0m \u001b[0mk\u001b[0m \u001b[1;32min\u001b[0m \u001b[0mrange\u001b[0m\u001b[1;33m(\u001b[0m\u001b[0mk_fold\u001b[0m\u001b[1;33m)\u001b[0m\u001b[1;33m:\u001b[0m\u001b[1;33m\u001b[0m\u001b[1;33m\u001b[0m\u001b[0m\n\u001b[1;32m---> 10\u001b[1;33m             \u001b[0mloss_tr\u001b[0m\u001b[1;33m,\u001b[0m \u001b[0mloss_te\u001b[0m \u001b[1;33m=\u001b[0m \u001b[0mcross_validation_log\u001b[0m\u001b[1;33m(\u001b[0m\u001b[0my\u001b[0m\u001b[1;33m,\u001b[0m \u001b[0mtX\u001b[0m\u001b[1;33m,\u001b[0m \u001b[0mk_indices\u001b[0m\u001b[1;33m,\u001b[0m \u001b[0mk\u001b[0m\u001b[1;33m,\u001b[0m \u001b[0mlambda_\u001b[0m\u001b[1;33m,\u001b[0m \u001b[0mdegree_rlr\u001b[0m\u001b[1;33m,\u001b[0m \u001b[0minitial_w\u001b[0m\u001b[1;33m,\u001b[0m \u001b[0mmax_iters\u001b[0m\u001b[1;33m,\u001b[0m \u001b[0mgamma_rlr\u001b[0m\u001b[1;33m)\u001b[0m\u001b[1;33m\u001b[0m\u001b[1;33m\u001b[0m\u001b[0m\n\u001b[0m\u001b[0;32m     11\u001b[0m             \u001b[0mlog_tr\u001b[0m\u001b[1;33m[\u001b[0m\u001b[0mk\u001b[0m\u001b[1;33m]\u001b[0m \u001b[1;33m=\u001b[0m \u001b[0mnp\u001b[0m\u001b[1;33m.\u001b[0m\u001b[0msqrt\u001b[0m\u001b[1;33m(\u001b[0m\u001b[1;36m2\u001b[0m\u001b[1;33m*\u001b[0m\u001b[0mloss_tr\u001b[0m\u001b[1;33m)\u001b[0m\u001b[1;33m\u001b[0m\u001b[1;33m\u001b[0m\u001b[0m\n\u001b[0;32m     12\u001b[0m             \u001b[0mlog_te\u001b[0m\u001b[1;33m[\u001b[0m\u001b[0mk\u001b[0m\u001b[1;33m]\u001b[0m \u001b[1;33m=\u001b[0m \u001b[0mnp\u001b[0m\u001b[1;33m.\u001b[0m\u001b[0msqrt\u001b[0m\u001b[1;33m(\u001b[0m\u001b[1;36m2\u001b[0m\u001b[1;33m*\u001b[0m\u001b[0mloss_te\u001b[0m\u001b[1;33m)\u001b[0m\u001b[1;33m\u001b[0m\u001b[1;33m\u001b[0m\u001b[0m\n",
      "\u001b[1;32m~\\Documents\\EPFL\\MA1\\Machine learning\\Group works\\Machine-learning-Project-2019\\scripts\\implementations.py\u001b[0m in \u001b[0;36mcross_validation_log\u001b[1;34m(y, tx, k_indices, k, lambda_, degree, intitial_w, max_iters, gamma)\u001b[0m\n\u001b[0;32m    218\u001b[0m                     \u001b[0mloss_te\u001b[0m \u001b[1;33m=\u001b[0m \u001b[0mcompute_mse\u001b[0m\u001b[1;33m(\u001b[0m\u001b[0my_te\u001b[0m\u001b[1;33m,\u001b[0m \u001b[0mtx_te\u001b[0m\u001b[1;33m,\u001b[0m \u001b[0mw_tr\u001b[0m\u001b[1;33m)\u001b[0m\u001b[1;33m\u001b[0m\u001b[1;33m\u001b[0m\u001b[0m\n\u001b[0;32m    219\u001b[0m \u001b[1;33m\u001b[0m\u001b[0m\n\u001b[1;32m--> 220\u001b[1;33m                 \u001b[1;32mif\u001b[0m \u001b[0mml_function\u001b[0m \u001b[1;33m==\u001b[0m \u001b[1;34m'ri'\u001b[0m\u001b[1;33m:\u001b[0m\u001b[1;33m\u001b[0m\u001b[1;33m\u001b[0m\u001b[0m\n\u001b[0m\u001b[0;32m    221\u001b[0m                     \u001b[0mw_tr\u001b[0m\u001b[1;33m,\u001b[0m \u001b[0mloss_tr\u001b[0m \u001b[1;33m=\u001b[0m \u001b[0mridge_regression\u001b[0m\u001b[1;33m(\u001b[0m\u001b[0my_tr\u001b[0m\u001b[1;33m,\u001b[0m \u001b[0mtx_tr\u001b[0m\u001b[1;33m,\u001b[0m \u001b[0mlambda_\u001b[0m\u001b[1;33m)\u001b[0m\u001b[1;33m\u001b[0m\u001b[1;33m\u001b[0m\u001b[0m\n\u001b[0;32m    222\u001b[0m                     \u001b[0mloss_te\u001b[0m \u001b[1;33m=\u001b[0m \u001b[0mcompute_mse\u001b[0m\u001b[1;33m(\u001b[0m\u001b[0my_te\u001b[0m\u001b[1;33m,\u001b[0m \u001b[0mtx_te\u001b[0m\u001b[1;33m,\u001b[0m \u001b[0mw_tr\u001b[0m\u001b[1;33m)\u001b[0m\u001b[1;33m\u001b[0m\u001b[1;33m\u001b[0m\u001b[0m\n",
      "\u001b[1;32m~\\Documents\\EPFL\\MA1\\Machine learning\\Group works\\Machine-learning-Project-2019\\scripts\\implementations.py\u001b[0m in \u001b[0;36mreg_logistic_regression\u001b[1;34m(y, tx, lambda_, initial_w, max_iters, gamma)\u001b[0m\n\u001b[0;32m    135\u001b[0m     \u001b[1;32mfor\u001b[0m \u001b[0mn_iter\u001b[0m \u001b[1;32min\u001b[0m \u001b[0mrange\u001b[0m\u001b[1;33m(\u001b[0m\u001b[0mmax_iters\u001b[0m\u001b[1;33m)\u001b[0m\u001b[1;33m:\u001b[0m\u001b[1;33m\u001b[0m\u001b[1;33m\u001b[0m\u001b[0m\n\u001b[0;32m    136\u001b[0m         \u001b[0mg\u001b[0m \u001b[1;33m=\u001b[0m \u001b[0mcompute_log_gradient\u001b[0m\u001b[1;33m(\u001b[0m\u001b[0my\u001b[0m\u001b[1;33m,\u001b[0m \u001b[0mtx\u001b[0m\u001b[1;33m,\u001b[0m \u001b[0mw\u001b[0m\u001b[1;33m)\u001b[0m\u001b[1;33m+\u001b[0m\u001b[0mlambda_\u001b[0m\u001b[1;33m*\u001b[0m\u001b[0mw\u001b[0m\u001b[1;33m/\u001b[0m\u001b[0mN\u001b[0m\u001b[1;33m\u001b[0m\u001b[1;33m\u001b[0m\u001b[0m\n\u001b[1;32m--> 137\u001b[1;33m         \u001b[0mw\u001b[0m \u001b[1;33m=\u001b[0m \u001b[0mw\u001b[0m \u001b[1;33m-\u001b[0m \u001b[0mgamma\u001b[0m \u001b[1;33m*\u001b[0m \u001b[0mg\u001b[0m\u001b[1;33m\u001b[0m\u001b[1;33m\u001b[0m\u001b[0m\n\u001b[0m\u001b[0;32m    138\u001b[0m         \u001b[0mloss\u001b[0m \u001b[1;33m=\u001b[0m \u001b[0mcompute_loglikelihood\u001b[0m\u001b[1;33m(\u001b[0m\u001b[0my\u001b[0m\u001b[1;33m,\u001b[0m \u001b[0mtx\u001b[0m\u001b[1;33m,\u001b[0m \u001b[0mw\u001b[0m\u001b[1;33m)\u001b[0m\u001b[1;33m+\u001b[0m\u001b[0mlambda_\u001b[0m\u001b[1;33m*\u001b[0m\u001b[0mnp\u001b[0m\u001b[1;33m.\u001b[0m\u001b[0msum\u001b[0m\u001b[1;33m(\u001b[0m\u001b[0mw\u001b[0m\u001b[1;33m**\u001b[0m\u001b[1;36m2\u001b[0m\u001b[1;33m)\u001b[0m\u001b[1;33m/\u001b[0m\u001b[1;33m(\u001b[0m\u001b[1;36m2\u001b[0m\u001b[1;33m*\u001b[0m\u001b[0mN\u001b[0m\u001b[1;33m)\u001b[0m\u001b[1;33m\u001b[0m\u001b[1;33m\u001b[0m\u001b[0m\n\u001b[0;32m    139\u001b[0m \u001b[1;33m\u001b[0m\u001b[0m\n",
      "\u001b[1;32m~\\Documents\\EPFL\\MA1\\Machine learning\\Group works\\Machine-learning-Project-2019\\scripts\\implementations.py\u001b[0m in \u001b[0;36mcompute_loglikelihood\u001b[1;34m(y, tx, w)\u001b[0m\n\u001b[0;32m     52\u001b[0m     \u001b[1;34m\"\"\" Compute the cost by negative log likelihood.\"\"\"\u001b[0m\u001b[1;33m\u001b[0m\u001b[1;33m\u001b[0m\u001b[0m\n\u001b[0;32m     53\u001b[0m \u001b[1;33m\u001b[0m\u001b[0m\n\u001b[1;32m---> 54\u001b[1;33m     \u001b[0mh\u001b[0m \u001b[1;33m=\u001b[0m \u001b[0msigmoid\u001b[0m\u001b[1;33m(\u001b[0m\u001b[0mtx\u001b[0m\u001b[1;33m.\u001b[0m\u001b[0mdot\u001b[0m\u001b[1;33m(\u001b[0m\u001b[0mw\u001b[0m\u001b[1;33m)\u001b[0m\u001b[1;33m)\u001b[0m\u001b[1;33m\u001b[0m\u001b[1;33m\u001b[0m\u001b[0m\n\u001b[0m\u001b[0;32m     55\u001b[0m     \u001b[1;32mreturn\u001b[0m \u001b[1;33m-\u001b[0m\u001b[0my\u001b[0m\u001b[1;33m.\u001b[0m\u001b[0mT\u001b[0m\u001b[1;33m.\u001b[0m\u001b[0mdot\u001b[0m\u001b[1;33m(\u001b[0m\u001b[0mnp\u001b[0m\u001b[1;33m.\u001b[0m\u001b[0mlog\u001b[0m\u001b[1;33m(\u001b[0m\u001b[0mh\u001b[0m\u001b[1;33m)\u001b[0m\u001b[1;33m)\u001b[0m\u001b[1;33m-\u001b[0m\u001b[1;33m(\u001b[0m\u001b[1;36m1\u001b[0m\u001b[1;33m-\u001b[0m\u001b[0my\u001b[0m\u001b[1;33m)\u001b[0m\u001b[1;33m.\u001b[0m\u001b[0mT\u001b[0m\u001b[1;33m.\u001b[0m\u001b[0mdot\u001b[0m\u001b[1;33m(\u001b[0m\u001b[0mnp\u001b[0m\u001b[1;33m.\u001b[0m\u001b[0mlog\u001b[0m\u001b[1;33m(\u001b[0m\u001b[1;36m1\u001b[0m\u001b[1;33m-\u001b[0m\u001b[0mh\u001b[0m\u001b[1;33m)\u001b[0m\u001b[1;33m)\u001b[0m\u001b[1;33m\u001b[0m\u001b[1;33m\u001b[0m\u001b[0m\n\u001b[0;32m     56\u001b[0m \u001b[1;33m\u001b[0m\u001b[0m\n",
      "\u001b[1;31mKeyboardInterrupt\u001b[0m: "
     ]
    }
   ],
   "source": [
    "k_indices = build_k_indices(y, k_fold, seed)\n",
    "loss_tr_cv = np.empty((len(lambdas), len(degrees)))\n",
    "loss_te_cv = np.empty((len(lambdas), len(degrees)))\n",
    "\n",
    "for index_lambda, lambda_ in enumerate(lambdas):\n",
    "    for index_degree, degree in enumerate(degrees):\n",
    "        log_tr = np.empty(k_fold)\n",
    "        log_te = np.empty(k_fold)\n",
    "        for k in range(k_fold):\n",
    "            loss_tr, loss_te = cross_validation_log(y, tX, k_indices, k, lambda_, degree_rlr, initial_w, max_iters, gamma_rlr)\n",
    "            log_tr[k] = np.sqrt(2*loss_tr)\n",
    "            log_te[k] = np.sqrt(2*loss_te)\n",
    "        loss_tr_cv[index_lambda][index_degree] = np.mean(log_tr)\n",
    "        loss_te_cv[index_lambda][index_degree] = np.mean(log_te)"
   ]
  },
  {
   "cell_type": "code",
   "execution_count": null,
   "metadata": {},
   "outputs": [],
   "source": [
    "cross_validation_visualization(lambdas, degrees, loss_tr_cv, loss_te_cv)"
   ]
  },
  {
   "cell_type": "code",
   "execution_count": null,
   "metadata": {},
   "outputs": [],
   "source": [
    "idx = np.unravel_index(np.nanargmin(rmse_te_cv), rmse_te_cv.shape)\n",
    "lambda_rlr = lambdas[idx[0]]\n",
    "degree_rlr = degrees[idy[1]]\n",
    "\n",
    "print(\"lambda* ={lambda_}n\\ndegree*={degree}\\n\\nloglikelihood train={log_tr}\\n\\nloglikelihood test={log_te}\".format(\n",
    "    lambda_=lambda_rlr, degree=degree_rlr, log_tr=loss_tr_cv[idx], log_te=loss_te_cv[idx]))"
   ]
  },
  {
   "cell_type": "markdown",
   "metadata": {},
   "source": [
    "***Bias-variance decomposition for complexity determination***"
   ]
  },
  {
   "cell_type": "code",
   "execution_count": null,
   "metadata": {},
   "outputs": [],
   "source": [
    "ratio_train = 0.05\n",
    "seeds = range(50)\n",
    "degrees = range(1, 12)\n",
    "lambda_rlr = lambda_ri"
   ]
  },
  {
   "cell_type": "code",
   "execution_count": null,
   "metadata": {},
   "outputs": [],
   "source": [
    "loss_tr_bv = np.empty((len(seeds), len(degrees)))\n",
    "loss_te_bv = np.empty((len(seeds), len(degrees)))\n",
    "\n",
    "for index_seed, seed in enumerate(seeds):\n",
    "    np.random.seed(seed)\n",
    "        \n",
    "    x_tr, x_te, y_tr, y_te = split_data(tX, y, ratio_train, seed)        \n",
    "\n",
    "    for index_deg, deg in enumerate(degrees): \n",
    "        tx_tr = build_poly(x_tr, deg)\n",
    "        tx_te = build_poly(x_te, deg)\n",
    "        \n",
    "        initial_w = np.zeros(tx_tr.shape[1])\n",
    "        \n",
    "        w_tr, log_tr = reg_logistic_regression(y_tr, tx_tr, lambda_rlr, initial_w, max_iters, gamma_rlr)\n",
    "        log_te = compute_loglikelihood(y_te, tx_te, w_tr)\n",
    "            \n",
    "        loss_tr_bv[index_seed][index_deg] = log_tr\n",
    "        loss_tr_bv[index_seed][index_deg] = log_te"
   ]
  },
  {
   "cell_type": "code",
   "execution_count": null,
   "metadata": {},
   "outputs": [],
   "source": [
    "bias_variance_decomposition_visualization(degrees, loss_tr_bv, loss_te_bv)"
   ]
  },
  {
   "cell_type": "markdown",
   "metadata": {},
   "source": [
    "Based on the plot above, change the value of `degree_rlr` manually. "
   ]
  },
  {
   "cell_type": "code",
   "execution_count": null,
   "metadata": {},
   "outputs": [],
   "source": [
    "loss_te_bv = np.array(loss_te_bv)\n",
    "loss_tr_bv = np.array(loss_tr_bv)\n",
    "\n",
    "idx = np.nanargmin(np.nanmean(loss_tr_bv, axis=1))\n",
    "\n",
    "degree_rlr = degree_ri\n",
    "\n",
    "print(\"degree* ={degree}\\n\\nloglikelihood train={loss_tr}\\n\\nloglikelihood test={loss_te}\".format(\n",
    "    degree=degree_rlr, loss_tr=np.nanmean(loss_tr_bv[idx]), loss_te=np.nanmean(loss_te_bv[idx])))"
   ]
  },
  {
   "cell_type": "code",
   "execution_count": null,
   "metadata": {},
   "outputs": [],
   "source": [
    "tX_poly = build_poly(tX, degree_rlr)\n",
    "initial_w = np.empty(tX_poly.shape[1])            \n",
    "w_rlr, log_rlr = reg_logistic_regression(y, tX_poly, lambda_rlr, initial_w, max_iters, gamma_rlr)\n",
    "\n",
    "print(\"final w* shape={w}\\n\\nfinal degree*={degree}\\n\\nfinal lambda*={lambda_}\\n\\nlog-likelihood={loss}\".format(w=w_rlr.shape, \\\n",
    "            degree=degree_rlr, lambda_=lambda_rlr, loss = log_rlr))"
   ]
  },
  {
   "cell_type": "markdown",
   "metadata": {},
   "source": [
    "### Overfitting vs Underfitting"
   ]
  },
  {
   "cell_type": "markdown",
   "metadata": {},
   "source": [
    "### Methods application and visualization"
   ]
  },
  {
   "cell_type": "code",
   "execution_count": null,
   "metadata": {},
   "outputs": [],
   "source": [
    "#save the calculated variables to keep them without having to re-run everything\n",
    "# w_ls, w_gd, gamma_gd, w_sgd, gamma_sgd, w_ri, degree_ri, lambda_ri\n",
    "# w_lr, gamma_lr, w_rlr, gamma_rlr, lambda_rlr, degree_rlr\n",
    "ws = (w_ls, w_gd, w_sgd, w_ri, w_lr, w_rlr)\n",
    "degs = (degree_ri , degree_rlr)\n",
    "gammas = (gamma_gd, gamma_sgd, gamma_lr, gamma_rlr)\n",
    "lambdas = (lambda_ri, lambda_rlr)\n",
    "\n",
    "np.savetxt('weights.txt', ws, fmt='%s', delimiter=',', newline='\\n')\n",
    "np.savetxt('degrees.txt', degs, fmt='%s', delimiter=',', newline='\\n')\n",
    "np.savetxt('gammas.txt', gammas, fmt='%s', delimiter=',', newline='\\n')\n",
    "np.savetxt('lambdas.txt', lambdas, fmt='%s', delimiter=',', newline='\\n')"
   ]
  },
  {
   "cell_type": "markdown",
   "metadata": {},
   "source": [
    "## Generate predictions and save ouput in csv format for submission:"
   ]
  },
  {
   "cell_type": "code",
   "execution_count": 37,
   "metadata": {},
   "outputs": [],
   "source": [
    "DATA_TEST_PATH = '../data/test.csv' \n",
    "_, tX_test, ids_test = load_csv_data(DATA_TEST_PATH)"
   ]
  },
  {
   "cell_type": "code",
   "execution_count": 44,
   "metadata": {},
   "outputs": [
    {
     "name": "stdout",
     "output_type": "stream",
     "text": [
      "Variable                  Type           Data/Info\n",
      "--------------------------------------------------\n",
      "DATA_TEST_PATH            str            ../data/test.csv\n",
      "DATA_TRAIN_PATH           str            ../data/train.csv\n",
      "OUTPUT_PATH               str            ../data/submissionlsdeg1.csv\n",
      "ax                        AxesSubplot    AxesSubplot(0.125,0.125;0.775x0.755)\n",
      "batch_iter                function       <function batch_iter at 0x000000001064B1F8>\n",
      "build_interaction         function       <function build_interacti<...>on at 0x000000001064BC18>\n",
      "build_k_indices           function       <function build_k_indices at 0x000000001064B9D8>\n",
      "build_poly                function       <function build_poly at 0x000000001064B8B8>\n",
      "compute_gradient          function       <function compute_gradient at 0x000000001064B438>\n",
      "compute_log_gradient      function       <function compute_log_gra<...>nt at 0x000000001064B4C8>\n",
      "compute_loglikelihood     function       <function compute_loglike<...>od at 0x000000001064B3A8>\n",
      "compute_mse               function       <function compute_mse at 0x000000001064B318>\n",
      "create_csv_submission     function       <function create_csv_subm<...>on at 0x0000000010623EE8>\n",
      "cross_validation          function       <function cross_validation at 0x000000001064BA68>\n",
      "cross_validation_log      function       <function cross_validatio<...>og at 0x000000001064BAF8>\n",
      "csv                       module         <module 'csv' from 'C:\\\\U<...>\\\\envs\\\\ml\\\\lib\\\\csv.py'>\n",
      "degree                    int            5\n",
      "degree_rlr                int            1\n",
      "degrees                   range          range(1, 12)\n",
      "fig                       Figure         Figure(432x288)\n",
      "gamma                     float64        0.1\n",
      "gamma_gd                  float64        0.05455594781168514\n",
      "gamma_rlr                 float64        1.8329807108324337e-06\n",
      "gamma_sgd                 float64        0.0014384498882876629\n",
      "gammas                    ndarray        20: 20 elems, type `float64`, 160 bytes\n",
      "ids                       ndarray        250000: 250000 elems, type `int32`, 1000000 bytes (976.5625 kb)\n",
      "ids_test                  ndarray        568238: 568238 elems, type `int32`, 2272952 bytes (2.1676559448242188 Mb)\n",
      "idx                       int64          9\n",
      "impute_gaussian           function       <function impute_gaussian at 0x000000001064BE58>\n",
      "impute_mean               function       <function impute_mean at 0x000000001064BD38>\n",
      "impute_median             function       <function impute_median at 0x000000001064BDC8>\n",
      "index_degree              int            4\n",
      "index_lambda              int            6\n",
      "initial_w                 ndarray        23: 23 elems, type `float64`, 184 bytes\n",
      "k                         int            2\n",
      "k_fold                    int            4\n",
      "k_indices                 ndarray        4x62500: 250000 elems, type `int32`, 1000000 bytes (976.5625 kb)\n",
      "lambda_                   float64        6.158482110660254e-09\n",
      "lambda_rlr                float          0.005\n",
      "lambdas                   ndarray        20: 20 elems, type `float64`, 160 bytes\n",
      "least_squares             function       <function least_squares at 0x000000001064B558>\n",
      "least_squares_GD          function       <function least_squares_GD at 0x000000001064B5E8>\n",
      "least_squares_SGD         function       <function least_squares_S<...>GD at 0x000000001064B678>\n",
      "load_csv_data             function       <function load_csv_data at 0x0000000010621708>\n",
      "log_te                    ndarray        4: 4 elems, type `float64`, 32 bytes\n",
      "log_tr                    ndarray        4: 4 elems, type `float64`, 32 bytes\n",
      "logistic_regression       function       <function logistic_regres<...>on at 0x000000001064B798>\n",
      "loss                      float64        nan\n",
      "loss_ls                   float64        0.3424792276001996\n",
      "loss_te                   float64        32955.817988483555\n",
      "loss_te_cv                ndarray        20x11: 220 elems, type `float64`, 1760 bytes\n",
      "loss_tr                   float64        98874.34895146015\n",
      "loss_tr_cv                ndarray        20x11: 220 elems, type `float64`, 1760 bytes\n",
      "losses_gd                 ndarray        20: 20 elems, type `float64`, 160 bytes\n",
      "losses_rlr                ndarray        20: 20 elems, type `float64`, 160 bytes\n",
      "losses_sgd                ndarray        20: 20 elems, type `float64`, 160 bytes\n",
      "max_iters                 int            1000\n",
      "missingness_filter        function       <function missingness_fil<...>er at 0x000000001064BCA8>\n",
      "np                        module         <module 'numpy' from 'C:\\<...>ges\\\\numpy\\\\__init__.py'>\n",
      "plt                       module         <module 'matplotlib.pyplo<...>\\\\matplotlib\\\\pyplot.py'>\n",
      "predict_labels            function       <function predict_labels at 0x0000000010623E58>\n",
      "reg_logistic_regression   function       <function reg_logistic_re<...>on at 0x000000001064B828>\n",
      "ridge_regression          function       <function ridge_regression at 0x000000001064B708>\n",
      "rmX                       ndarray        8: 8 elems, type `int64`, 64 bytes\n",
      "rmX_test                  ndarray        0: 0 elems, type `int64`, 0 bytes\n",
      "seed                      int            1\n",
      "separate_factor           function       <function separate_factor at 0x000000001064BB88>\n",
      "sigmoid                   function       <function sigmoid at 0x000000001064B288>\n",
      "split_data                function       <function split_data at 0x000000001064B948>\n",
      "standardize               function       <function standardize at 0x00000000052C5828>\n",
      "tX                        ndarray        250000x23: 5750000 elems, type `float64`, 46000000 bytes (43.8690185546875 Mb)\n",
      "tX_test                   ndarray        568238x23: 13069474 elems, type `float64`, 104555792 bytes (99.71217346191406 Mb)\n",
      "train_data_formatting     function       <function train_data_form<...>ng at 0x000000001064BEE8>\n",
      "w                         ndarray        23: 23 elems, type `float64`, 184 bytes\n",
      "w_gd                      ndarray        23: 23 elems, type `float64`, 184 bytes\n",
      "w_ls                      ndarray        23: 23 elems, type `float64`, 184 bytes\n",
      "w_rlr                     ndarray        23: 23 elems, type `float64`, 184 bytes\n",
      "w_sgd                     ndarray        23: 23 elems, type `float64`, 184 bytes\n",
      "weights                   ndarray        23: 23 elems, type `float64`, 184 bytes\n",
      "ws_gd                     ndarray        20x23: 460 elems, type `float64`, 3680 bytes\n",
      "ws_rlr                    ndarray        20x23: 460 elems, type `float64`, 3680 bytes\n",
      "ws_sgd                    ndarray        20x23: 460 elems, type `float64`, 3680 bytes\n",
      "y                         ndarray        250000: 250000 elems, type `float64`, 2000000 bytes (1.9073486328125 Mb)\n",
      "y_pred                    ndarray        568238: 568238 elems, type `float64`, 4545904 bytes (4.3353118896484375 Mb)\n"
     ]
    }
   ],
   "source": [
    " %whos"
   ]
  },
  {
   "cell_type": "code",
   "execution_count": 38,
   "metadata": {},
   "outputs": [
    {
     "name": "stdout",
     "output_type": "stream",
     "text": [
      "(568238, 23)\n",
      "(23,)\n"
     ]
    }
   ],
   "source": [
    "tX_test = np.delete(tX_test, rmX, axis=1)\n",
    "# keep only columns that do not have too much missing data\n",
    "tX_test, rmX_test = train_data_formatting(tX_test, degree = 1, cutoff = 1.0, \n",
    "                      imputation = impute_median, interaction = False)\n",
    "tX_test = np.apply_along_axis(standardize, 1, tX_test)\n",
    "#tX_poly = build_poly(tX_test, 7)\n",
    "\n",
    "print(tX_test.shape)"
   ]
  },
  {
   "cell_type": "code",
   "execution_count": 45,
   "metadata": {},
   "outputs": [
    {
     "name": "stdout",
     "output_type": "stream",
     "text": [
      "(23,)\n"
     ]
    }
   ],
   "source": [
    "weights = w_rlr\n",
    "print(weights.shape)"
   ]
  },
  {
   "cell_type": "code",
   "execution_count": 46,
   "metadata": {},
   "outputs": [],
   "source": [
    "OUTPUT_PATH = '../data/submissionrlrdeg1.csv'\n",
    "y_pred = predict_labels(weights, tX_test)\n",
    "create_csv_submission(ids_test, y_pred, OUTPUT_PATH)"
   ]
  },
  {
   "cell_type": "code",
   "execution_count": null,
   "metadata": {},
   "outputs": [],
   "source": []
  }
 ],
 "metadata": {
  "anaconda-cloud": {},
  "kernelspec": {
   "display_name": "Python 3",
   "language": "python",
   "name": "python3"
  },
  "language_info": {
   "codemirror_mode": {
    "name": "ipython",
    "version": 3
   },
   "file_extension": ".py",
   "mimetype": "text/x-python",
   "name": "python",
   "nbconvert_exporter": "python",
   "pygments_lexer": "ipython3",
   "version": "3.7.4"
  }
 },
 "nbformat": 4,
 "nbformat_minor": 1
}
