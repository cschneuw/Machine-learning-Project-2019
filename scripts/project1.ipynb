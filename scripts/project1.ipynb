{
 "cells": [
  {
   "cell_type": "code",
   "execution_count": 32,
   "metadata": {},
   "outputs": [
    {
     "name": "stdout",
     "output_type": "stream",
     "text": [
      "The autoreload extension is already loaded. To reload it, use:\n",
      "  %reload_ext autoreload\n"
     ]
    }
   ],
   "source": [
    "# Useful starting lines\n",
    "%matplotlib inline\n",
    "import numpy as np\n",
    "import matplotlib.pyplot as plt\n",
    "%load_ext autoreload\n",
    "%autoreload 2"
   ]
  },
  {
   "cell_type": "markdown",
   "metadata": {},
   "source": [
    "## Load the training data into feature matrix, class labels, and event ids:"
   ]
  },
  {
   "cell_type": "code",
   "execution_count": 33,
   "metadata": {},
   "outputs": [
    {
     "ename": "KeyboardInterrupt",
     "evalue": "",
     "output_type": "error",
     "traceback": [
      "\u001b[1;31m---------------------------------------------------------------------------\u001b[0m",
      "\u001b[1;31mKeyboardInterrupt\u001b[0m                         Traceback (most recent call last)",
      "\u001b[1;32m<ipython-input-33-cab42373efb6>\u001b[0m in \u001b[0;36m<module>\u001b[1;34m\u001b[0m\n\u001b[0;32m      1\u001b[0m \u001b[1;32mfrom\u001b[0m \u001b[0mproj1_helpers\u001b[0m \u001b[1;32mimport\u001b[0m \u001b[1;33m*\u001b[0m\u001b[1;33m\u001b[0m\u001b[1;33m\u001b[0m\u001b[0m\n\u001b[0;32m      2\u001b[0m \u001b[0mDATA_TRAIN_PATH\u001b[0m \u001b[1;33m=\u001b[0m \u001b[1;34m'../data/train.csv'\u001b[0m\u001b[1;33m\u001b[0m\u001b[1;33m\u001b[0m\u001b[0m\n\u001b[1;32m----> 3\u001b[1;33m \u001b[0my\u001b[0m\u001b[1;33m,\u001b[0m \u001b[0mtX\u001b[0m\u001b[1;33m,\u001b[0m \u001b[0mids\u001b[0m \u001b[1;33m=\u001b[0m \u001b[0mload_csv_data\u001b[0m\u001b[1;33m(\u001b[0m\u001b[0mDATA_TRAIN_PATH\u001b[0m\u001b[1;33m)\u001b[0m\u001b[1;33m\u001b[0m\u001b[1;33m\u001b[0m\u001b[0m\n\u001b[0m",
      "\u001b[1;32m~\\Documents\\EPFL\\MA1\\Machine learning\\Group works\\Machine-learning-Project-2019\\scripts\\proj1_helpers.py\u001b[0m in \u001b[0;36mload_csv_data\u001b[1;34m(data_path, sub_sample)\u001b[0m\n\u001b[0;32m      8\u001b[0m     \u001b[1;34m\"\"\"Loads data and returns y (class labels), tX (features) and ids (event ids)\"\"\"\u001b[0m\u001b[1;33m\u001b[0m\u001b[1;33m\u001b[0m\u001b[0m\n\u001b[0;32m      9\u001b[0m     \u001b[0my\u001b[0m \u001b[1;33m=\u001b[0m \u001b[0mnp\u001b[0m\u001b[1;33m.\u001b[0m\u001b[0mgenfromtxt\u001b[0m\u001b[1;33m(\u001b[0m\u001b[0mdata_path\u001b[0m\u001b[1;33m,\u001b[0m \u001b[0mdelimiter\u001b[0m\u001b[1;33m=\u001b[0m\u001b[1;34m\",\"\u001b[0m\u001b[1;33m,\u001b[0m \u001b[0mskip_header\u001b[0m\u001b[1;33m=\u001b[0m\u001b[1;36m1\u001b[0m\u001b[1;33m,\u001b[0m \u001b[0mdtype\u001b[0m\u001b[1;33m=\u001b[0m\u001b[0mstr\u001b[0m\u001b[1;33m,\u001b[0m \u001b[0musecols\u001b[0m\u001b[1;33m=\u001b[0m\u001b[1;36m1\u001b[0m\u001b[1;33m)\u001b[0m\u001b[1;33m\u001b[0m\u001b[1;33m\u001b[0m\u001b[0m\n\u001b[1;32m---> 10\u001b[1;33m     \u001b[0mx\u001b[0m \u001b[1;33m=\u001b[0m \u001b[0mnp\u001b[0m\u001b[1;33m.\u001b[0m\u001b[0mgenfromtxt\u001b[0m\u001b[1;33m(\u001b[0m\u001b[0mdata_path\u001b[0m\u001b[1;33m,\u001b[0m \u001b[0mdelimiter\u001b[0m\u001b[1;33m=\u001b[0m\u001b[1;34m\",\"\u001b[0m\u001b[1;33m,\u001b[0m \u001b[0mskip_header\u001b[0m\u001b[1;33m=\u001b[0m\u001b[1;36m1\u001b[0m\u001b[1;33m)\u001b[0m\u001b[1;33m\u001b[0m\u001b[1;33m\u001b[0m\u001b[0m\n\u001b[0m\u001b[0;32m     11\u001b[0m     \u001b[0mids\u001b[0m \u001b[1;33m=\u001b[0m \u001b[0mx\u001b[0m\u001b[1;33m[\u001b[0m\u001b[1;33m:\u001b[0m\u001b[1;33m,\u001b[0m \u001b[1;36m0\u001b[0m\u001b[1;33m]\u001b[0m\u001b[1;33m.\u001b[0m\u001b[0mastype\u001b[0m\u001b[1;33m(\u001b[0m\u001b[0mnp\u001b[0m\u001b[1;33m.\u001b[0m\u001b[0mint\u001b[0m\u001b[1;33m)\u001b[0m\u001b[1;33m\u001b[0m\u001b[1;33m\u001b[0m\u001b[0m\n\u001b[0;32m     12\u001b[0m     \u001b[0minput_data\u001b[0m \u001b[1;33m=\u001b[0m \u001b[0mx\u001b[0m\u001b[1;33m[\u001b[0m\u001b[1;33m:\u001b[0m\u001b[1;33m,\u001b[0m \u001b[1;36m2\u001b[0m\u001b[1;33m:\u001b[0m\u001b[1;33m]\u001b[0m\u001b[1;33m\u001b[0m\u001b[1;33m\u001b[0m\u001b[0m\n",
      "\u001b[1;32m~\\Anaconda3\\envs\\ml\\lib\\site-packages\\numpy\\lib\\npyio.py\u001b[0m in \u001b[0;36mgenfromtxt\u001b[1;34m(fname, dtype, comments, delimiter, skip_header, skip_footer, converters, missing_values, filling_values, usecols, names, excludelist, deletechars, replace_space, autostrip, case_sensitive, defaultfmt, unpack, usemask, loose, invalid_raise, max_rows, encoding)\u001b[0m\n\u001b[0;32m   2089\u001b[0m         rows = list(\n\u001b[0;32m   2090\u001b[0m             zip(*[[conv._loose_call(_r) for _r in map(itemgetter(i), rows)]\n\u001b[1;32m-> 2091\u001b[1;33m                   for (i, conv) in enumerate(converters)]))\n\u001b[0m\u001b[0;32m   2092\u001b[0m     \u001b[1;32melse\u001b[0m\u001b[1;33m:\u001b[0m\u001b[1;33m\u001b[0m\u001b[1;33m\u001b[0m\u001b[0m\n\u001b[0;32m   2093\u001b[0m         rows = list(\n",
      "\u001b[1;31mKeyboardInterrupt\u001b[0m: "
     ]
    }
   ],
   "source": [
    "from proj1_helpers import *\n",
    "DATA_TRAIN_PATH = '../data/train.csv'\n",
    "y, tX, ids = load_csv_data(DATA_TRAIN_PATH)"
   ]
  },
  {
   "cell_type": "markdown",
   "metadata": {},
   "source": [
    "### Change later : Simple data description \n",
    "- all variables are floating point, except PRI_jet_num which is integer\n",
    "- variables prefixed with PRI (for PRImitives) are “raw” quantities about the bunch collision as measured by the detector.\n",
    "- variables prefixed with DER (for DERived) are quantities computed from the primitive features, which were selected by the physicists of ATLAS.\n",
    "- it can happen that for some entries some variables are meaningless or cannot be computed; in this case, their value is −999.0, which is outside the normal range of all variables."
   ]
  },
  {
   "cell_type": "code",
   "execution_count": null,
   "metadata": {},
   "outputs": [],
   "source": [
    "print('y shape = ' + str(y.shape) + '\\ntX shape =' + str(tX.shape) + '\\nids shape = ' + str(ids.shape))"
   ]
  },
  {
   "cell_type": "markdown",
   "metadata": {},
   "source": [
    "Description of the data:\n",
    "- `y` (N) is composed of the labels (-1 or 1) of all the samples.  \n",
    "- `tX` (N x F) is composed of the values of the features (F) for all samples (N)  \n",
    "- `ids` (N) is composed of all the index (100000-349999) of the samples (N)  \n",
    "  \n",
    "Moreover, the number of features is 30 (F=30) and the number of samples is 250'000 (N=250'000). Non recorded data has value `-999`. "
   ]
  },
  {
   "cell_type": "markdown",
   "metadata": {},
   "source": [
    "## Machine learning"
   ]
  },
  {
   "cell_type": "code",
   "execution_count": null,
   "metadata": {},
   "outputs": [],
   "source": [
    "from implementations import *"
   ]
  },
  {
   "cell_type": "markdown",
   "metadata": {},
   "source": [
    "### Data pre-processing "
   ]
  },
  {
   "cell_type": "code",
   "execution_count": null,
   "metadata": {},
   "outputs": [],
   "source": [
    "# putting the meaningless values to the median of the column\n",
    "tX = np.where(tX==-999., np.nan,tX)\n",
    "med_X = np.nanmedian(tX, axis=0)\n",
    "\n",
    "inds = np.where(np.isnan(tX))\n",
    "tX[inds] = np.take(med_X, inds[1])"
   ]
  },
  {
   "cell_type": "code",
   "execution_count": null,
   "metadata": {},
   "outputs": [],
   "source": [
    "print(np.where(tX[0] == 2))"
   ]
  },
  {
   "cell_type": "code",
   "execution_count": 34,
   "metadata": {},
   "outputs": [],
   "source": [
    "# remove categorical data and standarize the rest\n",
    "tX = np.delete(tX, 22, axis=1)\n",
    "tX = np.apply_along_axis(standardize, 1, tX)\n",
    "\n",
    "y = y[0:1000]\n",
    "tX = tX[0:1000, :]"
   ]
  },
  {
   "cell_type": "markdown",
   "metadata": {},
   "source": [
    "### Exploratory analysis"
   ]
  },
  {
   "cell_type": "code",
   "execution_count": null,
   "metadata": {},
   "outputs": [],
   "source": []
  },
  {
   "cell_type": "markdown",
   "metadata": {},
   "source": [
    "### Feature processing"
   ]
  },
  {
   "cell_type": "markdown",
   "metadata": {},
   "source": [
    "**Least squares**"
   ]
  },
  {
   "cell_type": "code",
   "execution_count": 35,
   "metadata": {},
   "outputs": [
    {
     "name": "stdout",
     "output_type": "stream",
     "text": [
      "w* =[ -5.65912912  -6.23116017  -6.48794644  -5.55476319 -36.32470225\n",
      "  -5.52714357  -5.70728379  20.1302534   -5.88010376   7.47810968\n",
      " -25.70794743  -0.63689612  39.88870704 -18.27891225  -7.73127314\n",
      "  -4.09198738 -17.94186296  -6.84398193  -5.53816241  -5.54768473\n",
      "  -6.02634046  -5.87041793  -4.93772415  -7.23259532  -4.86937057\n",
      "  -5.66261279 -19.06710762]\n",
      "\n",
      "mse=0.33013352021604014\n"
     ]
    }
   ],
   "source": [
    "(w_ls, loss_ls) = least_squares(y, tX)\n",
    "\n",
    "print(\"w* ={w}\\n\\nmse={loss}\".format(\n",
    "    w=w_ls, loss=loss_ls))"
   ]
  },
  {
   "cell_type": "markdown",
   "metadata": {},
   "source": [
    "**Least squares with Gradient Descent**"
   ]
  },
  {
   "cell_type": "code",
   "execution_count": 36,
   "metadata": {},
   "outputs": [],
   "source": [
    "#define parameters\n",
    "\n",
    "initial_w = np.zeros(tX.shape[1])\n",
    "max_iters = 100\n",
    "gammas = np.logspace(-6, -1, 50)\n",
    "\n",
    "losses_gd = []\n",
    "ws_gd = []\n",
    "for gamma in gammas:\n",
    "    (w, loss) = least_squares_GD(y, tX, initial_w, max_iters, gamma)\n",
    "    losses_gd.append(loss)\n",
    "    ws_gd.append(w)"
   ]
  },
  {
   "cell_type": "code",
   "execution_count": 37,
   "metadata": {},
   "outputs": [
    {
     "data": {
      "image/png": "[encoded data removed]",
      "text/plain": [
       "<Figure size 432x288 with 1 Axes>"
      ]
     },
     "metadata": {
      "needs_background": "light"
     },
     "output_type": "display_data"
    }
   ],
   "source": [
    "#plot the losses per gamma\n",
    "\n",
    "fig, ax = plt.subplots()\n",
    "ax.semilogx(gammas, losses_gd)\n",
    "\n",
    "ax.set(xlabel='gamma', ylabel='MSE',\n",
    "       title='Mean square error per choice of learning rate')\n",
    "ax.grid()\n",
    "ax.set_ylim([0, 1])\n",
    "plt.show()"
   ]
  },
  {
   "cell_type": "code",
   "execution_count": 38,
   "metadata": {},
   "outputs": [
    {
     "name": "stdout",
     "output_type": "stream",
     "text": [
      "w* =[ 0.07345689 -0.51916826 -0.06966236  0.20054614  0.02709517  0.03213442\n",
      "  0.02660758  0.03184591 -0.06319146  0.05221035  0.01627244  0.04883021\n",
      "  0.03133109  0.2768451   0.02199828  0.04001589 -0.09399792  0.02299956\n",
      "  0.02912634 -0.03550586  0.025114   -0.0723759   0.03267941 -0.12829756\n",
      "  0.03123774  0.03115222 -0.06929939]\n",
      "\n",
      "mse=0.37583816177722756\n",
      "\n",
      "gamma=0.07906043210907701\n"
     ]
    }
   ],
   "source": [
    "idx = np.argmin(losses_gd)\n",
    "\n",
    "loss_gd = losses_gd[idx]\n",
    "w_gd = ws_gd[idx]\n",
    "gamma_gd = gammas[idx]\n",
    "\n",
    "print(\"w* ={w}\\n\\nmse={loss}\\n\\ngamma={gamma}\".format(\n",
    "    w=w_gd, loss=loss_gd, gamma=gamma_gd ))"
   ]
  },
  {
   "cell_type": "markdown",
   "metadata": {},
   "source": [
    "**Least squares with Stochastic Gradient Descent**"
   ]
  },
  {
   "cell_type": "code",
   "execution_count": 39,
   "metadata": {},
   "outputs": [],
   "source": [
    "initial_w = np.zeros(tX.shape[1])\n",
    "max_iters = 100\n",
    "gammas = np.logspace(-6, -1, 50)\n",
    "\n",
    "losses_sgd = []\n",
    "ws_sgd = []\n",
    "for gamma in gammas:\n",
    "    (w, loss) = least_squares_SGD(y, tX, initial_w, max_iters, gamma)\n",
    "    losses_sgd.append(loss)\n",
    "    ws_sgd.append(w)"
   ]
  },
  {
   "cell_type": "code",
   "execution_count": 40,
   "metadata": {},
   "outputs": [
    {
     "data": {
      "image/png": "[encoded data removed]",
      "text/plain": [
       "<Figure size 432x288 with 1 Axes>"
      ]
     },
     "metadata": {
      "needs_background": "light"
     },
     "output_type": "display_data"
    }
   ],
   "source": [
    "#plot the losses per gamma used\n",
    "fig, ax = plt.subplots()\n",
    "ax.semilogx(gammas, losses_sgd)\n",
    "\n",
    "ax.set(xlabel='gamma', ylabel='MSE',\n",
    "       title='Mean square error per choice of learning rate')\n",
    "ax.grid()\n",
    "ax.set_ylim([0, 1])\n",
    "plt.show()"
   ]
  },
  {
   "cell_type": "code",
   "execution_count": 41,
   "metadata": {},
   "outputs": [
    {
     "name": "stdout",
     "output_type": "stream",
     "text": [
      "w* =[-0.01702796 -0.09803285 -0.03462625  0.06075197  0.01056903 -0.02296442\n",
      "  0.00953585  0.00971091 -0.00724374  0.01502559  0.00839067  0.01396769\n",
      "  0.011047    0.04188223  0.00976984  0.01084195 -0.02314668  0.00959979\n",
      "  0.0131432   0.0213073   0.00979498 -0.06768881  0.00809746 -0.03488257\n",
      "  0.01202611  0.01180358  0.01834813]\n",
      "\n",
      "mse=0.43039573179104407\n",
      "\n",
      "gamma=0.007543120063354623\n"
     ]
    }
   ],
   "source": [
    "idx = np.argmin(losses_sgd)\n",
    "\n",
    "loss_sgd = losses_sgd[idx]\n",
    "w_sgd = ws_sgd[idx]\n",
    "gamma_sgd = gammas[idx]\n",
    "\n",
    "print(\"w* ={w}\\n\\nmse={loss}\\n\\ngamma={gamma}\".format(\n",
    "    w=w_sgd, loss=loss_sgd, gamma=gamma_sgd ))"
   ]
  },
  {
   "cell_type": "markdown",
   "metadata": {},
   "source": [
    "**Ridge regression**"
   ]
  },
  {
   "cell_type": "markdown",
   "metadata": {},
   "source": [
    "***Cross-validation hyperparameter selection***"
   ]
  },
  {
   "cell_type": "code",
   "execution_count": 42,
   "metadata": {},
   "outputs": [],
   "source": [
    "def cross_validation_visualization(lambds, loss_tr, loss_te):\n",
    "    \"\"\"visualization the curves of train error and test error.\"\"\"\n",
    "    plt.semilogx(lambds, loss_tr, marker=\".\", color='b', label='train error')\n",
    "    plt.semilogx(lambds, loss_te, marker=\".\", color='r', label='test error')\n",
    "    plt.xlabel(\"lambda\")\n",
    "    plt.ylabel(\"error\")\n",
    "    plt.title(\"cross validation\")\n",
    "    plt.legend(loc=2)\n",
    "    plt.grid(True)"
   ]
  },
  {
   "cell_type": "code",
   "execution_count": 43,
   "metadata": {},
   "outputs": [
    {
     "data": {
      "image/png": "[encoded data removed]",
      "text/plain": [
       "<Figure size 432x288 with 1 Axes>"
      ]
     },
     "metadata": {
      "needs_background": "light"
     },
     "output_type": "display_data"
    }
   ],
   "source": [
    "seed = 1\n",
    "degree = 2\n",
    "k_fold = 4\n",
    "lambdas = np.logspace(-15, -1, 50)\n",
    "\n",
    "k_indices = build_k_indices(y, k_fold, seed)\n",
    "rmse_tr_cv = []\n",
    "rmse_te_cv = []\n",
    "\n",
    "for lambda_ in  lambdas:\n",
    "    l_rmse_tr = []\n",
    "    l_rmse_te = []\n",
    "    for k in range(k_fold):\n",
    "        loss_tr, loss_te = cross_validation(y, tX, k_indices, k, lambda_, degree)\n",
    "        l_rmse_tr.append(np.sqrt(2*loss_tr))\n",
    "        l_rmse_te.append(np.sqrt(2*loss_te))\n",
    "    rmse_tr_cv.append(np.mean(l_rmse_tr))\n",
    "    rmse_te_cv.append(np.mean(l_rmse_te))\n",
    "cross_validation_visualization(lambdas, rmse_tr_cv, rmse_te_cv)"
   ]
  },
  {
   "cell_type": "code",
   "execution_count": 44,
   "metadata": {},
   "outputs": [
    {
     "name": "stdout",
     "output_type": "stream",
     "text": [
      "lambda* =2.6826957952797274e-06\n",
      "\n",
      "rmse train=0.776555000977562\n",
      "\n",
      "rmse test=0.8320136662905072\n"
     ]
    }
   ],
   "source": [
    "idx = np.argmin(rmse_te_cv)\n",
    "lambda_ri = lambdas[idx]\n",
    "\n",
    "print(\"lambda* ={lambda_}\\n\\nrmse train={rmse_tr}\\n\\nrmse test={rmse_te}\".format(\n",
    "    lambda_=lambda_ri, rmse_tr=rmse_tr_cv[idx], rmse_te=rmse_te_cv[idx]))"
   ]
  },
  {
   "cell_type": "markdown",
   "metadata": {},
   "source": [
    "***Bias-variance decomposition for complexity determination***"
   ]
  },
  {
   "cell_type": "code",
   "execution_count": 45,
   "metadata": {},
   "outputs": [],
   "source": [
    "def bias_variance_decomposition_visualization(degrees, loss_tr, loss_te):\n",
    "    \"\"\"visualize the bias variance decomposition.\"\"\"\n",
    "    loss_tr_mean = np.expand_dims(np.mean(loss_tr, axis=0), axis=0)\n",
    "    loss_te_mean = np.expand_dims(np.mean(loss_te, axis=0), axis=0)\n",
    "    plt.plot(degrees, loss_tr.T, 'b', linestyle=\"-\", label='train', linewidth=0.3)\n",
    "    plt.plot(degrees, loss_te.T, 'r', linestyle=\"-\", label='test', linewidth=0.3)\n",
    "    plt.plot(degrees, loss_tr_mean.T, 'b', linestyle=\"-\", label='train', linewidth=3)\n",
    "    plt.plot(degrees, loss_te_mean.T, 'r', linestyle=\"-\", label='test', linewidth=3)\n",
    "    plt.ylim(0, 5)\n",
    "    plt.xlabel(\"degree\")\n",
    "    plt.ylabel(\"error\")\n",
    "    plt.title(\"Bias-Variance Decomposition\")"
   ]
  },
  {
   "cell_type": "code",
   "execution_count": 46,
   "metadata": {},
   "outputs": [
    {
     "data": {
      "image/png": "[encoded data removed]",
      "text/plain": [
       "<Figure size 432x288 with 1 Axes>"
      ]
     },
     "metadata": {
      "needs_background": "light"
     },
     "output_type": "display_data"
    }
   ],
   "source": [
    "seeds = range(20)\n",
    "ratio_train = 0.7\n",
    "degrees = range(0, 20)\n",
    "\n",
    "rmse_tr_bv = np.empty((len(seeds), len(degrees)))\n",
    "rmse_te_bv = np.empty((len(seeds), len(degrees)))\n",
    "\n",
    "for index_seed, seed in enumerate(seeds):\n",
    "    np.random.seed(seed)\n",
    "        \n",
    "    x_tr, x_te, y_tr, y_te = split_data(tX, y, ratio_train, seed)        \n",
    "        \n",
    "    mse_tr = []\n",
    "    mse_te = []\n",
    "    \n",
    "    for index_deg, deg in enumerate(degrees): \n",
    "        tx_tr = build_poly(x_tr, deg)\n",
    "        tx_te = build_poly(x_te, deg)\n",
    "            \n",
    "        w_tr, mse_tr = ridge_regression(y_tr, tx_tr, lambda_ri)\n",
    "        mse_te = compute_mse(y_te, tx_te, w_tr)\n",
    "            \n",
    "        rmse_tr_bv[index_seed][index_deg] = np.sqrt(2*np.array(mse_tr))\n",
    "        rmse_te_bv[index_seed][index_deg] = np.sqrt(2*np.array(mse_te))\n",
    "\n",
    "bias_variance_decomposition_visualization(degrees, rmse_tr_bv, rmse_te_bv)"
   ]
  },
  {
   "cell_type": "code",
   "execution_count": 47,
   "metadata": {},
   "outputs": [
    {
     "name": "stdout",
     "output_type": "stream",
     "text": [
      "degree* =15\n",
      "\n",
      "rmse train=0.7453440025209879\n",
      "\n",
      "rmse test=0.931126237243878\n"
     ]
    }
   ],
   "source": [
    "rmse_te_bv = np.array(rmse_te_bv)\n",
    "rmse_tr_bv = np.array(rmse_tr_bv)\n",
    "\n",
    "idx = np.argmin(np.mean(rmse_te_bv-rmse_tr_bv, axis=1))\n",
    "\n",
    "degree_ri = degrees[idx]\n",
    "\n",
    "print(\"degree* ={degree}\\n\\nrmse train={rmse_tr}\\n\\nrmse test={rmse_te}\".format(\n",
    "    degree=degree_ri, rmse_tr=rmse_tr_bv[idx].mean(), rmse_te=rmse_te_bv[idx].mean()))"
   ]
  },
  {
   "cell_type": "markdown",
   "metadata": {},
   "source": [
    "**Logistic regression**"
   ]
  },
  {
   "cell_type": "code",
   "execution_count": 48,
   "metadata": {},
   "outputs": [
    {
     "name": "stderr",
     "output_type": "stream",
     "text": [
      "C:\\Users\\Christelle\\Documents\\EPFL\\MA1\\Machine learning\\Group works\\Machine-learning-Project-2019\\scripts\\implementations.py:54: RuntimeWarning: divide by zero encountered in log\n",
      "  return -y.T.dot(np.log(h))-(1-y).T.dot(np.log(1-h))\n"
     ]
    }
   ],
   "source": [
    "initial_w = np.zeros(tX.shape[1])\n",
    "max_iters = 100\n",
    "gammas = np.logspace(-6, -1, 50)\n",
    "\n",
    "losses_lr = []\n",
    "ws_lr = []\n",
    "for gamma in gammas:\n",
    "    (w, loss) = logistic_regression(y, tX, initial_w, max_iters, gamma)\n",
    "    losses_lr.append(loss)\n",
    "    ws_lr.append(w)"
   ]
  },
  {
   "cell_type": "code",
   "execution_count": 49,
   "metadata": {},
   "outputs": [
    {
     "data": {
      "image/png": "[encoded data removed]",
      "text/plain": [
       "<Figure size 432x288 with 1 Axes>"
      ]
     },
     "metadata": {
      "needs_background": "light"
     },
     "output_type": "display_data"
    }
   ],
   "source": [
    "#plot the losses per gamma used\n",
    "fig, ax = plt.subplots()\n",
    "ax.semilogx(gammas, losses_lr)\n",
    "\n",
    "ax.set(xlabel='gamma', ylabel='MSE',\n",
    "       title='Mean square error per choice of learning rate')\n",
    "ax.grid()\n",
    "ax.set_ylim([0, 1])\n",
    "plt.show()"
   ]
  },
  {
   "cell_type": "code",
   "execution_count": 50,
   "metadata": {},
   "outputs": [
    {
     "name": "stdout",
     "output_type": "stream",
     "text": [
      "w* =[array([-0.07829367, -0.02982142, -0.04241586,  0.00617647,  0.03631525,\n",
      "       -0.19044639,  0.03860661,  0.03595541,  0.02082805, -0.07814741,\n",
      "        0.03676544,  0.03920417,  0.03803192,  0.0077586 ,  0.03843742,\n",
      "        0.03848478, -0.00812753,  0.03838206,  0.03835875,  0.00072957,\n",
      "        0.03852587, -0.12766504,  0.03850146, -0.01230001,  0.03848512,\n",
      "        0.03850485, -0.00083447]), array([-0.09429878, -0.03700688, -0.05120809,  0.00794682,  0.04367284,\n",
      "       -0.2289525 ,  0.0464258 ,  0.04324058,  0.02497842, -0.09350561,\n",
      "        0.04419808,  0.04717903,  0.04574129,  0.00962591,  0.04622251,\n",
      "        0.04629179, -0.01000862,  0.04615633,  0.04613197,  0.00067725,\n",
      "        0.04633268, -0.15319336,  0.04630714, -0.01496882,  0.04628614,\n",
      "        0.04631012, -0.00058203]), array([-1.12955966e-01, -4.58644485e-02, -6.15127694e-02,  1.02458324e-02,\n",
      "        5.22148033e-02, -2.73671372e-01,  5.55034464e-02,  5.16987159e-02,\n",
      "        2.97677291e-02, -1.11102089e-01,  5.28203674e-02,  5.64525643e-02,\n",
      "        5.46938687e-02,  1.19232186e-02,  5.52602885e-02,  5.53604222e-02,\n",
      "       -1.23005255e-02,  5.51817397e-02,  5.51577772e-02,  5.30279281e-04,\n",
      "        5.53974090e-02, -1.82670022e-01,  5.53722147e-02, -1.81509759e-02,\n",
      "        5.53451804e-02,  5.53741291e-02, -7.18176797e-05]), array([-1.34732917e-01, -5.68097004e-02, -7.36119566e-02,  1.32342529e-02,\n",
      "        6.21369146e-02, -3.25671332e-01,  6.60481965e-02,  6.15237568e-02,\n",
      "        3.52954281e-02, -1.31228718e-01,  6.28274632e-02,  6.72438026e-02,\n",
      "        6.50960415e-02,  1.47537040e-02,  6.57580952e-02,  6.59008396e-02,\n",
      "       -1.51020051e-02,  6.56654692e-02,  6.56439581e-02,  2.52562135e-04,\n",
      "        6.59287783e-02, -2.16696432e-01,  6.59059884e-02, -2.19568246e-02,\n",
      "        6.58711524e-02,  6.59058779e-02,  8.17604466e-04]), array([-1.60313677e-01, -7.03857551e-02, -8.79112258e-02,  1.71186582e-02,\n",
      "        7.37285328e-02, -3.86541798e-01,  7.83687143e-02,  7.30023429e-02,\n",
      "        4.17132087e-02, -1.54344620e-01,  7.45088761e-02,  7.98746021e-02,\n",
      "        7.72526485e-02,  1.82511277e-02,  7.80226460e-02,  7.82231284e-02,\n",
      "       -1.85445616e-02,  7.79139362e-02,  7.78976251e-02, -1.96495514e-04,\n",
      "        7.82352707e-02, -2.56180735e-01,  7.82175924e-02, -2.65387548e-02,\n",
      "        7.81726905e-02,  7.82141012e-02,  2.24192143e-03]), array([-0.19069455, -0.08730232, -0.10499212,  0.02216161,  0.08741624,\n",
      "       -0.45862696,  0.09292013,  0.086557  ,  0.04925015, -0.18116691,\n",
      "        0.08829264,  0.09481685,  0.09161273,  0.02258969,  0.09250623,\n",
      "        0.09278357, -0.02280298,  0.09237896,  0.09237132, -0.00086135,\n",
      "        0.09277148, -0.30248851,  0.09276226, -0.03210669,  0.09270441,\n",
      "        0.09275356,  0.00439355]), array([-0.22728905, -0.10848107, -0.12566967,  0.02869265,  0.10381216,\n",
      "       -0.5452783 ,  0.11035537,  0.10279398,  0.05824013, -0.21277276,\n",
      "        0.10479415,  0.11274478,  0.10882012,  0.02799603,  0.10985786,\n",
      "        0.11023591, -0.02810713,  0.1097088 ,  0.10971407, -0.0017904 ,\n",
      "        0.11018936, -0.35761061,  0.11019258, -0.03894511,  0.11011814,\n",
      "        0.11017628,  0.00750175]), array([-0.27203343, -0.13510717, -0.15105059,  0.03712003,  0.12376322,\n",
      "       -0.65110324,  0.13157735,  0.12255203,  0.069149  , -0.25070445,\n",
      "        0.12486577,  0.13458837,  0.12976504,  0.03476351,  0.13097522,\n",
      "        0.13148353, -0.03475479,  0.1308001 ,  0.13082331, -0.00303739,\n",
      "        0.13139037, -0.42433495,  0.13141064, -0.04743065,  0.13131504,\n",
      "        0.13138376,  0.01183038]), array([-0.32748178, -0.16868752, -0.18258664,  0.04794478,  0.14839601,\n",
      "       -0.78218251,  0.15778628,  0.14694685,  0.08259816, -0.29706336,\n",
      "        0.14964181,  0.16158222,  0.15563099,  0.04326864,  0.15705197,\n",
      "        0.15772712, -0.04312534,  0.15684504,  0.15689213, -0.00466536,\n",
      "        0.15757294, -0.50640227,  0.15761558, -0.05804938,  0.15749309,\n",
      "        0.15757446,  0.0176761 ]), array([-0.39688831, -0.21112027, -0.22212285,  0.06178102,  0.17915466,\n",
      "       -0.9462509 ,  0.19051962,  0.1774086 ,  0.09938301, -0.35458095,\n",
      "        0.1805762 ,  0.19530737,  0.18793448,  0.05399004,  0.18961757,\n",
      "        0.19050496, -0.0536958 ,  0.18937118,  0.18944921, -0.00675347,\n",
      "        0.19027246, -0.60863266,  0.19034377, -0.07141471,  0.19018719,\n",
      "        0.19028399,  0.0253746 ]), array([-0.48430042, -0.26478577, -0.27195401,  0.07938908,  0.21784051,\n",
      "       -1.1529039 ,  0.23169419,  0.21572118,  0.12049214, -0.42667818,\n",
      "        0.21948186,  0.23773572,  0.22856677,  0.06753125,  0.23057914,\n",
      "        0.23173555, -0.06706208,  0.23028327,  0.23040083, -0.00940635,\n",
      "        0.23140353, -0.73704807,  0.23151116, -0.08829059,  0.23131146,\n",
      "        0.2314274 ,  0.03532431]), array([-0.59471322, -0.33267262, -0.33491691,  0.10172575,  0.266676  ,\n",
      "       -1.41395918,  0.28367447,  0.26408555,  0.14714103, -0.51755975,\n",
      "        0.2685946 ,  0.29130145,  0.27986132,  0.08465056,  0.28228933,\n",
      "        0.2837862 , -0.08397005,  0.28193106,  0.28209876, -0.01276374,\n",
      "        0.28332819, -0.89906793,  0.28348172, -0.10962717,  0.28322746,\n",
      "        0.28336743,  0.04802968]), array([-0.73432859, -0.41854752, -0.41454049,  0.1300094 ,  0.32841444,\n",
      "       -1.74407652,  0.34939008,  0.3252284 ,  0.18083263, -0.63239835,\n",
      "        0.33068363,  0.35902224,  0.34470938,  0.10630155,  0.34766292,\n",
      "        0.34959042, -0.10535829,  0.34722579,  0.34745694, -0.01700884,\n",
      "        0.3489731 , -1.10385964,  0.34918463, -0.13661387,  0.34886137,\n",
      "        0.34903168,  0.06415351]), array([-0.91092224, -0.52717182, -0.51525518,  0.16579532,  0.4065004 ,\n",
      "       -2.16163629,  0.43250685,  0.40256109,  0.22344642, -0.77762843,\n",
      "        0.40921318,  0.44467521,  0.42672864,  0.1336867 ,  0.43034692,\n",
      "        0.43281909, -0.13241284,  0.42981007,  0.43012146, -0.02237652,\n",
      "        0.43200029, -1.36286737,  0.43228516, -0.17074943,  0.43187463,\n",
      "        0.43208329,  0.08456539]), array([-1.13430432, -0.6645698 , -0.64265397,  0.2110623 ,  0.50527446,\n",
      "       -2.68983339,  0.53764474,  0.5003823 ,  0.27735111, -0.96133477,\n",
      "        0.50854849,  0.55302101,  0.53047812,  0.16832551,  0.53493733,\n",
      "        0.53809837, -0.16663434,  0.53427433,  0.53468719, -0.02916436,\n",
      "        0.5370248 , -1.69049642,  0.5374024 , -0.2139284 ,  0.53688147,\n",
      "        0.53713866,  0.11038717]), array([-1.41688123, -0.83836372, -0.80381123,  0.26831908,  0.63022353,\n",
      "       -3.35800553,  0.67064412,  0.62412601,  0.34554147, -1.19372811,\n",
      "        0.63420776,  0.69007793,  0.66172106,  0.21213973,  0.66724413,\n",
      "        0.67127644, -0.20992162,  0.66642154,  0.66696271, -0.03774815,\n",
      "        0.66988069, -2.10495058,  0.67037553, -0.26854766,  0.66971498,\n",
      "        0.67003355,  0.14304759]), array([-1.77435399, -1.05819687, -1.00767998,  0.34074078,  0.78829105,\n",
      "       -4.20328434,  0.83889584,  0.78066867,  0.43180773, -1.48772851,\n",
      "        0.79317412,  0.86346186,  0.82775061,  0.26756034,  0.83461968,\n",
      "        0.83975389, -0.26467725,  0.83359519,  0.8342986 , -0.04860241,\n",
      "        0.83795077, -2.62926547,  0.83859386, -0.33764022,  0.8377567 ,\n",
      "        0.83815292,  0.18435642]), array([-2.22660195, -1.33627009, -1.26559489,  0.432344  ,  0.98826855,\n",
      "       -5.27268699,  1.05175794,  0.97871699,  0.54094955, -1.85969787,\n",
      "        0.99428946,  1.0828155 ,  1.03780106,  0.33766293,  1.04637327,\n",
      "        1.05290105, -0.33394142,  1.04509334,  1.04600186, -0.06232611,\n",
      "        1.0505829 , -3.29261018,  1.05141337, -0.42504509,  1.05035283,\n",
      "        1.05084726,  0.23660274]), array([-2.79881314, -1.68802298, -1.59191546,  0.54820936,  1.24129622,\n",
      "       -6.62579498,  1.3210886 ,  1.22930367,  0.67905019, -2.33037695,\n",
      "        1.24875813,  1.36035704,  1.30357359,  0.42633925,  1.31430127,\n",
      "        1.32259134, -0.4215624 ,  1.31269812,  1.31386586, -0.0796744 ,\n",
      "        1.31962221, -4.13195224,  1.32068948, -0.53562383,  1.3193464 ,\n",
      "        1.31996507,  0.30268061]), array([-3.5229474 , -2.13300083, -2.00485682,  0.694763  ,  1.5615118 ,\n",
      "       -8.33822787,  1.66193688,  1.54643004,  0.8538328 , -2.92610653,\n",
      "        1.5708    ,  1.71159096,  1.63991774,  0.53851553,  1.65337429,\n",
      "        1.66389267, -0.53241405,  1.65136205,  1.65285727, -0.10159686,\n",
      "        1.66010106, -5.19422027,  1.66146739, -0.6755388 ,  1.65976695,\n",
      "        1.6605428 ,  0.38624622]), array([ -4.43964718,  -2.69595934,  -2.52757137,   0.88012953,\n",
      "         1.96690064, -10.50618802,   2.09344765,   1.94790784,\n",
      "         1.0751287 ,  -3.68044332,   1.97850637,   2.15623822,\n",
      "         2.06572398,   0.68043123,   2.08263738,   2.0959727 ,\n",
      "        -0.67267405,   2.08010712,   2.08201571,  -0.12928269,\n",
      "         2.0911427 ,  -6.53914806,   2.09288635,  -0.85261222,\n",
      "         2.09073395,   2.09170867,   0.49190752]), array([ -5.60067869,  -3.40826057,  -3.18952778,   1.11456923,\n",
      "         2.48038623, -13.25226228,   2.64002192,   2.45643928,\n",
      "         1.35547808,  -4.63625427,   2.49493809,   2.71942871,\n",
      "         2.60506839,   0.85999344,   2.62636462,   2.64325988,\n",
      "        -0.85017507,   2.62317794,   2.62560772,  -0.1642174 ,\n",
      "         2.63712016,  -8.242936  ,   2.63933925,  -1.07678105,\n",
      "         2.63661529,   2.63784179,   0.62544307]), array([ -7.07183044,  -4.30960232,  -4.02815466,   1.41102095,\n",
      "         3.13112533, -16.73226502,   3.33269393,   3.10089954,\n",
      "         1.71083702,  -5.84818975,   3.1494282 ,   3.43311896,\n",
      "         3.28857216,   1.08721888,   3.31542956,   3.33682247,\n",
      "        -1.07483491,   3.31141046,   3.31449668,  -0.20826579,\n",
      "         3.32903223, -10.40258692,   3.33184972,  -1.36064537,\n",
      "         3.32840305,   3.32994856,   0.79406747]), array([ -8.93614181,  -5.45014483,  -5.0906951 ,   1.78580636,\n",
      "         3.95593397, -21.14278674,   4.21064753,   3.91774912,\n",
      "         2.16134398,  -7.38530092,   3.97901342,   4.33765973,\n",
      "         4.15489934,   1.37477418,   4.18881423,   4.21588912,\n",
      "        -1.35917767,   4.18373917,   4.18765197,  -0.26380028,\n",
      "         4.20601904, -13.14060811,   4.20958967,  -1.72010964,\n",
      "         4.20522927,   4.20717936,   1.00682566]), array([-11.29781313,  -6.89320211,  -6.43647194,   2.25957378,\n",
      "         5.00098772, -26.73034983,   5.32302675,   4.95271765,\n",
      "         2.73223199,  -9.33402955,   5.03014031,   5.48367091,\n",
      "         5.25254461,   1.73864779,   5.29540977,   5.32966466,\n",
      "        -1.71899457,   5.28899574,   5.29395029,  -0.33386881,\n",
      "         5.31717143, -16.61053442,   5.32169119,  -2.17518419,\n",
      "         5.31617546,   5.31863877,   1.27520973]), array([-14.2877132 ,  -8.71874698,  -8.14004961,   2.85851381,\n",
      "         6.3242266 , -33.80445967,   6.73149918,   6.2631858 ,\n",
      "         3.45514099, -11.80253601,   6.36108347,   6.93468604,\n",
      "         6.64236147,   2.19902055,   6.69656506,   6.73989651,\n",
      "        -2.17421836,   6.68845476,   6.69472408,  -0.42237306,\n",
      "         6.72409066, -21.00481419,   6.72980867,  -2.75107615,\n",
      "         6.72283192,   6.72594584,   1.61395184]), array([-18.07103931, -11.02792453, -10.29558401,   3.61584087,\n",
      "         7.99874565, -42.75584028,   8.51386702,   7.92154319,\n",
      "         4.36998453, -14.92705815,   8.04535908,   8.77086672,\n",
      "         8.4011236 ,   2.78139917,   8.46967831,   8.52448757,\n",
      "        -2.75005869,   8.45942089,   8.46735158,  -0.5342585 ,\n",
      "         8.50449442, -26.56609801,   8.51172704,  -3.47964517,\n",
      "         8.50290245,   8.50684036,   2.0418742 ]), array([-22.85702803, -13.94873196, -13.0223243 ,   4.5736039 ,\n",
      "        10.11711949, -54.07948353,  10.76866918,  10.01947109,\n",
      "         5.5273255 , -18.8801356 ,  10.17607773,  11.09373577,\n",
      "        10.62606525,   3.51805545,  10.71277584,  10.78210185,\n",
      "        -3.47842618,  10.69980194,  10.70983335,  -0.67575943,\n",
      "        10.75681327, -33.60170586,  10.76596144,  -4.40123319,\n",
      "        10.75479961,  10.75978029,   2.58283711]), array([-28.91079171, -17.6431305 , -16.47133874,   5.78497143,\n",
      "        12.79666402, -68.40264246,  13.6207795 ,  12.67315326,\n",
      "         6.99125278, -23.88054308,  12.87123759,  14.03194147,\n",
      "        13.44040605,   4.44982855,  13.55008221,  13.63776958,\n",
      "        -4.39970643,  13.53367215,  13.54636046,  -0.85473601,\n",
      "        13.6057832 , -42.5011754 ,  13.61735428,  -5.56692106,\n",
      "        13.60323618,  13.60953599,   3.26695668]), array([-36.56796109, -22.31600681, -20.83385719,   7.31715605,\n",
      "        16.18592338, -86.51943194,  17.22831013,  16.0297002 ,\n",
      "         8.84292077, -30.20541476,  16.28024817,  17.74837045,\n",
      "        17.00016378,   5.62838856,  17.13888823,  17.24980005,\n",
      "        -5.5649919 ,  17.11813189,  17.13418077,  -1.08111663,\n",
      "        17.20934192, -53.75781618,  17.22397765,  -7.04134905,\n",
      "        17.2061203 ,  17.21408865,   4.13223461]), array([ -46.25317601,  -28.2265178 ,  -26.3518129 ,    9.2551436 ,\n",
      "         20.47284926, -109.43455446,   21.79131757,   20.27524956,\n",
      "         11.18501432,  -38.2054749 ,   20.59215646,   22.44911858,\n",
      "         21.50274546,    7.11909661,   21.67821181,   21.81849921,\n",
      "         -7.03890907,   21.65195805,   21.67225755,   -1.36745589,\n",
      "         21.76732553,  -67.99585254,   21.78583761,   -8.90628708,\n",
      "         21.76325064,   21.77332946,    5.22667935]), array([ -58.50357096,  -35.7024583 ,  -33.33122802,   11.70641671,\n",
      "         25.89519017, -138.41886711,   27.56286169,   25.64525515,\n",
      "         14.14742371,  -48.32439414,   26.0460965 ,   28.39488472,\n",
      "         27.19785975,    9.00462648,   27.41979928,   27.59724253,\n",
      "         -8.90320087,   27.38659207,   27.412268  ,   -1.7296337 ,\n",
      "         27.53251523,  -86.0049087 ,   27.55593034,  -11.26516368,\n",
      "         27.52736109,   27.54010933,    6.61099271]), array([ -73.99854693,  -45.15844064,  -42.15917764,   14.80692225,\n",
      "         32.75366638, -175.07982617,   34.8630294 ,   32.43753476,\n",
      "         17.89444268,  -61.12336202,   32.94454104,   35.91541807,\n",
      "         34.4013548 ,   11.38954878,   34.68207616,   34.90651618,\n",
      "        -11.26126006,   34.64007385,   34.67255019,   -2.18773621,\n",
      "         34.82464552, -108.78375745,   34.85426224,  -14.24880105,\n",
      "         34.81812628,   34.83425096,    8.36194862]), array([ -93.59744812,  -57.11888922,  -53.32525578,   18.72861285,\n",
      "         41.42864579, -221.4506315 ,   44.09668462,   41.02878507,\n",
      "         22.63387918,  -77.31220333,   41.6700746 ,   45.42780392,\n",
      "         43.51273308,   14.40613019,   43.86780497,   44.15168909,\n",
      "        -14.24386354,   43.81467812,   43.85575599,   -2.76716956,\n",
      "         44.04813456, -137.59570311,   44.08559542,  -18.02267034,\n",
      "         44.03988866,   44.06028405,   10.57665433]), array([-118.38722054,  -72.24712502,  -67.44872796,   23.68898366,\n",
      "         52.40123875, -280.10298652,   55.77592158,   51.89547283,\n",
      "         28.62858015,  -97.78874371,   52.70661125,   57.45959477,\n",
      "         55.03730744,   18.22166893,   55.48642196,   55.84549428,\n",
      "        -18.01642511,   55.4192242 ,   55.47118175,   -3.50006885,\n",
      "         55.71451279, -174.0386429 ,   55.76189536,  -22.7960686 ,\n",
      "         55.70408293,   55.72988014,   13.37793641]), array([-149.74269351,  -91.38215298,  -85.31287543,   29.96313457,\n",
      "         66.27998021, -354.28972376,   70.54846539,   65.64025955,\n",
      "         36.21100896, -123.68860263,   66.6662322 ,   72.67806821,\n",
      "         69.61422544,   23.047773  ,   70.18229029,   70.63646478,\n",
      "        -22.78816929,   70.09729485,   70.16301362,   -4.42708035,\n",
      "         70.47079216, -220.13368541,   70.53072425,  -28.83372629,\n",
      "         70.45759989,   70.49022963,   16.92115266]), array([-189.40282708, -115.58519292, -107.90843555,   37.89902707,\n",
      "         83.83457874, -448.12520538,   89.23359449,   83.02542472,\n",
      "         45.80168359, -156.4481743 ,   84.32313159,   91.92723372,\n",
      "         88.05191621,   29.15209592,   88.770436  ,   89.34490098,\n",
      "        -28.8237348 ,   88.66292907,   88.74605381,   -5.59961567,\n",
      "         89.1353491 , -278.43724039,   89.21115451,  -36.47048912,\n",
      "         89.11866279,   89.15993468,   21.40280821]), array([-239.56715391, -146.19853426, -136.48854765,   47.93678211,\n",
      "        106.03860427, -566.81350383,  112.86757751,  105.01514159,\n",
      "         57.93249843, -197.88428943,  106.65655289,  116.27464115,\n",
      "        111.37292557,   36.8731806 ,  112.28174908,  113.0083641 ,\n",
      "        -36.45785134,  112.14576838,  112.25090914,   -7.08270309,\n",
      "        112.74331132, -352.18279608,  112.83919419,  -46.12988842,\n",
      "        112.72220554,  112.77440852,   27.07145362]), array([-303.01776442, -184.91997875, -172.63825153,   60.63308893,\n",
      "        134.1234818 , -716.9370173 ,  142.76114422,  132.82894969,\n",
      "         73.27622286, -250.29497582,  134.90509734,  147.07058644,\n",
      "        140.87062593,   46.63923485,  142.02015608,  142.93921888,\n",
      "        -46.11390346,  141.84816018,  141.98114802,   -8.95859396,\n",
      "        142.60396549, -445.4602469 ,  142.72524343,  -58.34763002,\n",
      "        142.57726974,  142.64329894,   34.24146934]), array([-383.27360012, -233.89699983, -218.36239308,   76.69207885,\n",
      "        169.64678566, -906.82152649,  180.57217803,  168.00938997,\n",
      "         92.68381276, -316.58690591,  170.63541615,  186.02299851,\n",
      "        178.1809461 ,   58.99187951,  179.63493531,  180.7974167 ,\n",
      "        -58.32741136,  179.41738541,  179.58559577,  -11.3313243 ,\n",
      "        180.37336969, -563.4427172 ,  180.52676874,  -73.80130423,\n",
      "        180.33960343,  180.42312082,   43.31050113]), array([ -484.7856126 ,  -295.84584044,  -276.19681205,    97.00437602,\n",
      "         214.57862186, -1146.99793853,   228.39766141,   212.50755338,\n",
      "         117.23160408,  -400.43659953,   215.82909629,   235.29216011,\n",
      "         225.37309922,    74.61618654,   227.21218506,   228.6825557 ,\n",
      "         -73.77573054,   226.93701593,   227.14977768,   -14.33248466,\n",
      "         228.14619763,  -712.67346025,   228.34022522,   -93.34796466,\n",
      "         228.10348821,   228.20912561,    54.7815133 ]), array([ -613.18361115,  -374.20215466,  -349.3489786 ,   122.69649107,\n",
      "         271.41088929, -1450.78632628,   288.88997355,   268.79128751,\n",
      "         148.28100601,  -506.49432194,   272.99255839,   297.61051621,\n",
      "         285.06434029,    94.37867281,   287.39051761,   289.25032359,\n",
      "         -93.31561765,   287.04246849,   287.31158131,   -18.12851799,\n",
      "         288.57190828,  -901.42874411,   288.81732508,  -118.07166008,\n",
      "         288.51788704,   288.65150306,    69.29068288]), array([ -775.58848945,  -473.31154748,  -441.87587809,   155.19329681,\n",
      "         343.29547923, -1835.03465333,   365.40399014,   339.98206226,\n",
      "         187.55400401,  -640.64198541,   345.29606165,   376.43421401,\n",
      "         360.56511796,   119.37535667,   363.50739547,   365.85978076,\n",
      "        -118.0307458 ,   363.06716373,   363.40755248,   -22.92995056,\n",
      "         365.00168363, -1140.17684961,   365.31210035,  -149.34355522,\n",
      "         364.93335458,   365.1023595 ,    87.64268173]), array([ -981.00714701,  -598.67058003,  -558.90900961,   196.2970511 ,\n",
      "         434.21907782, -2321.05315438,   462.18314319,   430.02808508,\n",
      "         237.22866041,  -810.31935738,   436.74952493,   476.1347794 ,\n",
      "         456.06267047,   150.99254264,   459.78422552,   462.75965234,\n",
      "        -149.29180458,   459.22739612,   459.6579386 ,   -29.00306758,\n",
      "         461.6742837 , -1442.15863637,   462.06691591,  -188.89797492,\n",
      "         461.58785735,   461.8016241 ,   110.8553032 ]), array([-1240.83200767,  -757.23160633,  -706.93897655,   248.28734913,\n",
      "         549.22426584, -2935.79619092,   584.5947598 ,   543.92326681,\n",
      "         300.05990871, -1024.9366665 ,   552.42491507,   602.24155965,\n",
      "         576.85324795,   190.98370527,   581.56047628,   585.32396041,\n",
      "        -188.83251786,   580.8561677 ,   581.4007416 ,   -36.68468134,\n",
      "         583.95112622, -1824.12187474,   584.44774912,  -238.92858904,\n",
      "         583.8418094 ,   584.1121934 ,   140.21590857]), array([-1569.47283815,  -957.78834764,  -894.17545249,   314.04754883,\n",
      "         694.68917787, -3713.35712771,   739.42773168,   687.98418159,\n",
      "         379.5323409 , -1296.39648957,   698.73753575,   761.74837853,\n",
      "         729.63584003,   241.56673594,   735.58980234,   740.35006487,\n",
      "        -238.84579532,   734.69895396,   735.3877611 ,   -46.40081057,\n",
      "         738.61362839, -2307.25006945,   739.24178446,  -302.2100723 ,\n",
      "         738.47535844,   738.81735504,   177.35282344]), array([-1985.15590704, -1211.46358815, -1131.00248586,   397.22468048,\n",
      "         878.68123073, -4696.85913502,   935.2690239 ,   870.2003812 ,\n",
      "         480.05346135, -1639.75386295,   883.80181731,   963.50141051,\n",
      "         922.88369867,   305.54694618,   930.41459896,   936.43564185,\n",
      "        -302.10535024,   929.28780473,   930.15904604,   -58.69030731,\n",
      "         934.23930111, -2918.33728693,   935.03382759,  -382.25198653,\n",
      "         934.06440964,   934.49698583,   224.32564395]), array([-2510.93480529, -1532.32603951, -1430.55439452,   502.43170937,\n",
      "        1111.40453864, -5940.84677977,  1182.97990405,  1100.67749187,\n",
      "         607.19812496, -2074.05122791,  1117.88133929,  1218.68978554,\n",
      "        1167.31426082,   386.47264887,  1176.83975933,  1184.45550685,\n",
      "        -382.11952829,  1175.41452777,  1176.51652189,   -74.23474138,\n",
      "        1181.6774538 , -3691.27414191,  1182.68241476,  -483.49341932,\n",
      "        1181.45624142,  1182.00338766,   283.73946103]), array([-3175.96898766, -1938.17058499, -1809.4441889 ,   635.50336871,\n",
      "        1405.76582873, -7514.31104193,  1496.29830307,  1392.19766767,\n",
      "         768.01771601, -2623.37451565,  1413.95804382,  1541.46613296,\n",
      "        1476.4835325 ,   488.83194609,  1488.53190899,  1498.16472697,\n",
      "        -483.32587882,  1486.72919742,  1488.12306043,   -93.89619991,\n",
      "        1494.65089209, -4668.92735524,  1495.9220222 ,  -611.54917374,\n",
      "        1494.37109044,  1495.06315123,   358.88933751]), array([-4017.14094261, -2451.50517559, -2288.68492194,   803.81975124,\n",
      "        1778.09024215, -9504.51552246,  1892.60071461,  1760.92848285,\n",
      "         971.43121474, -3318.18894188,  1788.45220814,  1949.73147989,\n",
      "        1867.53789869,   618.30163718,  1882.77735054,  1894.96147062,\n",
      "        -611.33725927,  1880.49718141,  1882.26021631,  -118.7650983 ,\n",
      "        1890.51697823, -5905.5171224 ,  1892.12477378,  -773.52116277,\n",
      "        1890.16306967,  1891.03842636,   453.94305082])]\n",
      "\n",
      "mse=nan\n",
      "\n",
      "gamma=0.0011513953993264481\n"
     ]
    }
   ],
   "source": [
    "idx = np.argmin(losses_lr)\n",
    "\n",
    "loss_lr = losses_lr[idx]\n",
    "w_lr = ws_lr[idx]\n",
    "gamma_lr = gammas[idx]\n",
    "\n",
    "print(\"w* ={w}\\n\\nmse={loss}\\n\\ngamma={gamma}\".format(\n",
    "    w=ws_lr, loss=loss_lr, gamma = gamma_lr))"
   ]
  },
  {
   "cell_type": "markdown",
   "metadata": {},
   "source": [
    "**Regularized logistic regression**"
   ]
  },
  {
   "cell_type": "code",
   "execution_count": 51,
   "metadata": {},
   "outputs": [],
   "source": [
    "initial_w = np.zeros(tX.shape[1])\n",
    "max_iters = 100\n",
    "gammas = np.logspace(-6, -1, 50)\n",
    "\n",
    "losses_rlr = []\n",
    "ws_rlr = []\n",
    "for gamma in gammas:\n",
    "    (w, loss) = reg_logistic_regression(y, tX, lambda_, initial_w, max_iters, gamma)\n",
    "    losses_rlr.append(loss)\n",
    "    ws_rlr.append(w)"
   ]
  },
  {
   "cell_type": "code",
   "execution_count": 52,
   "metadata": {},
   "outputs": [
    {
     "data": {
      "image/png": "[encoded data removed]",
      "text/plain": [
       "<Figure size 432x288 with 1 Axes>"
      ]
     },
     "metadata": {
      "needs_background": "light"
     },
     "output_type": "display_data"
    }
   ],
   "source": [
    "#plot the losses per gamma used\n",
    "fig, ax = plt.subplots()\n",
    "ax.semilogx(gammas, losses_rlr)\n",
    "\n",
    "ax.set(xlabel='gamma', ylabel='MSE',\n",
    "       title='Mean square error per choice of learning rate')\n",
    "ax.grid()\n",
    "ax.set_ylim([0, 1])\n",
    "plt.show()"
   ]
  },
  {
   "cell_type": "code",
   "execution_count": 53,
   "metadata": {},
   "outputs": [
    {
     "name": "stdout",
     "output_type": "stream",
     "text": [
      "w* =[array([-0.07829367, -0.02982142, -0.04241586,  0.00617647,  0.03631525,\n",
      "       -0.19044639,  0.03860661,  0.03595541,  0.02082805, -0.07814741,\n",
      "        0.03676544,  0.03920417,  0.03803192,  0.0077586 ,  0.03843742,\n",
      "        0.03848478, -0.00812753,  0.03838206,  0.03835875,  0.00072957,\n",
      "        0.03852587, -0.12766504,  0.03850146, -0.01230001,  0.03848512,\n",
      "        0.03850485, -0.00083447]), array([-0.09429878, -0.03700688, -0.05120809,  0.00794682,  0.04367283,\n",
      "       -0.2289525 ,  0.0464258 ,  0.04324058,  0.02497842, -0.09350561,\n",
      "        0.04419807,  0.04717903,  0.04574128,  0.00962591,  0.04622251,\n",
      "        0.04629179, -0.01000862,  0.04615633,  0.04613197,  0.00067725,\n",
      "        0.04633268, -0.15319336,  0.04630714, -0.01496882,  0.04628614,\n",
      "        0.04631012, -0.00058203]), array([-1.12955965e-01, -4.58644482e-02, -6.15127690e-02,  1.02458324e-02,\n",
      "        5.22148029e-02, -2.73671370e-01,  5.55034460e-02,  5.16987155e-02,\n",
      "        2.97677289e-02, -1.11102088e-01,  5.28203670e-02,  5.64525638e-02,\n",
      "        5.46938683e-02,  1.19232185e-02,  5.52602880e-02,  5.53604218e-02,\n",
      "       -1.23005254e-02,  5.51817393e-02,  5.51577767e-02,  5.30279280e-04,\n",
      "        5.53974086e-02, -1.82670020e-01,  5.53722143e-02, -1.81509757e-02,\n",
      "        5.53451800e-02,  5.53741287e-02, -7.18176864e-05]), array([-1.34732916e-01, -5.68096999e-02, -7.36119559e-02,  1.32342528e-02,\n",
      "        6.21369140e-02, -3.25671329e-01,  6.60481959e-02,  6.15237563e-02,\n",
      "        3.52954277e-02, -1.31228717e-01,  6.28274626e-02,  6.72438020e-02,\n",
      "        6.50960409e-02,  1.47537039e-02,  6.57580946e-02,  6.59008390e-02,\n",
      "       -1.51020049e-02,  6.56654686e-02,  6.56439575e-02,  2.52562136e-04,\n",
      "        6.59287777e-02, -2.16696430e-01,  6.59059877e-02, -2.19568244e-02,\n",
      "        6.58711518e-02,  6.59058773e-02,  8.17604446e-04]), array([-1.60313675e-01, -7.03857542e-02, -8.79112247e-02,  1.71186580e-02,\n",
      "        7.37285319e-02, -3.86541794e-01,  7.83687133e-02,  7.30023420e-02,\n",
      "        4.17132082e-02, -1.54344618e-01,  7.45088752e-02,  7.98746011e-02,\n",
      "        7.72526476e-02,  1.82511275e-02,  7.80226450e-02,  7.82231274e-02,\n",
      "       -1.85445614e-02,  7.79139353e-02,  7.78976242e-02, -1.96495508e-04,\n",
      "        7.82352697e-02, -2.56180731e-01,  7.82175914e-02, -2.65387545e-02,\n",
      "        7.81726896e-02,  7.82141002e-02,  2.24192138e-03]), array([-0.19069454, -0.08730232, -0.10499212,  0.02216161,  0.08741624,\n",
      "       -0.45862696,  0.09292013,  0.086557  ,  0.04925015, -0.18116691,\n",
      "        0.08829264,  0.09481685,  0.09161273,  0.02258969,  0.09250623,\n",
      "        0.09278357, -0.02280298,  0.09237896,  0.09237132, -0.00086135,\n",
      "        0.09277148, -0.30248851,  0.09276226, -0.03210669,  0.09270441,\n",
      "        0.09275356,  0.00439355]), array([-0.22728905, -0.10848107, -0.12566967,  0.02869264,  0.10381216,\n",
      "       -0.54527829,  0.11035537,  0.10279398,  0.05824013, -0.21277276,\n",
      "        0.10479415,  0.11274477,  0.10882012,  0.02799603,  0.10985785,\n",
      "        0.11023591, -0.02810713,  0.1097088 ,  0.10971407, -0.0017904 ,\n",
      "        0.11018936, -0.35761061,  0.11019257, -0.03894511,  0.11011814,\n",
      "        0.11017628,  0.00750175]), array([-0.27203342, -0.13510717, -0.15105058,  0.03712003,  0.12376322,\n",
      "       -0.65110322,  0.13157735,  0.12255203,  0.069149  , -0.25070445,\n",
      "        0.12486576,  0.13458836,  0.12976504,  0.03476351,  0.13097521,\n",
      "        0.13148353, -0.03475479,  0.13080009,  0.13082331, -0.00303739,\n",
      "        0.13139037, -0.42433494,  0.13141063, -0.04743065,  0.13131504,\n",
      "        0.13138375,  0.01183038]), array([-0.32748177, -0.16868751, -0.18258663,  0.04794478,  0.148396  ,\n",
      "       -0.78218249,  0.15778627,  0.14694685,  0.08259816, -0.29706335,\n",
      "        0.1496418 ,  0.16158222,  0.15563099,  0.04326864,  0.15705196,\n",
      "        0.15772711, -0.04312534,  0.15684504,  0.15689212, -0.00466536,\n",
      "        0.15757293, -0.50640225,  0.15761557, -0.05804937,  0.15749308,\n",
      "        0.15757445,  0.0176761 ]), array([-0.39688829, -0.21112026, -0.22212284,  0.06178102,  0.17915465,\n",
      "       -0.94625086,  0.19051961,  0.17740859,  0.099383  , -0.35458093,\n",
      "        0.18057619,  0.19530736,  0.18793447,  0.05399004,  0.18961756,\n",
      "        0.19050495, -0.05369579,  0.18937117,  0.1894492 , -0.00675347,\n",
      "        0.19027245, -0.60863263,  0.19034376, -0.07141471,  0.19018718,\n",
      "        0.19028398,  0.0253746 ]), array([-0.48430039, -0.26478576, -0.271954  ,  0.07938908,  0.2178405 ,\n",
      "       -1.15290383,  0.23169418,  0.21572117,  0.12049214, -0.42667815,\n",
      "        0.21948185,  0.23773571,  0.22856676,  0.06753125,  0.23057913,\n",
      "        0.23173554, -0.06706208,  0.23028325,  0.23040081, -0.00940635,\n",
      "        0.23140352, -0.73704803,  0.23151115, -0.08829059,  0.23131144,\n",
      "        0.23142739,  0.03532431]), array([-0.59471318, -0.33267259, -0.33491688,  0.10172574,  0.26667598,\n",
      "       -1.41395908,  0.28367445,  0.26408553,  0.14714102, -0.51755971,\n",
      "        0.26859458,  0.29130143,  0.2798613 ,  0.08465056,  0.28228931,\n",
      "        0.28378618, -0.08397004,  0.28193104,  0.28209874, -0.01276374,\n",
      "        0.28332817, -0.89906786,  0.2834817 , -0.10962717,  0.28322744,\n",
      "        0.28336741,  0.04802968]), array([-0.73432853, -0.41854748, -0.41454045,  0.13000938,  0.32841441,\n",
      "       -1.74407636,  0.34939004,  0.32522837,  0.18083261, -0.63239829,\n",
      "        0.3306836 ,  0.35902221,  0.34470935,  0.10630154,  0.34766289,\n",
      "        0.34959039, -0.10535829,  0.34722576,  0.34745691, -0.01700884,\n",
      "        0.34897307, -1.10385954,  0.3491846 , -0.13661386,  0.34886134,\n",
      "        0.34903165,  0.06415351]), array([-0.91092214, -0.52717176, -0.51525513,  0.1657953 ,  0.40650036,\n",
      "       -2.16163604,  0.4325068 ,  0.40256105,  0.2234464 , -0.77762834,\n",
      "        0.40921313,  0.44467516,  0.42672859,  0.13368668,  0.43034688,\n",
      "        0.43281904, -0.13241283,  0.42981002,  0.43012141, -0.02237652,\n",
      "        0.43200025, -1.36286721,  0.43228511, -0.17074941,  0.43187458,\n",
      "        0.43208324,  0.08456538]), array([-1.13430416, -0.66456972, -0.64265388,  0.21106228,  0.50527439,\n",
      "       -2.68983301,  0.53764466,  0.50038223,  0.27735107, -0.96133463,\n",
      "        0.50854842,  0.55302093,  0.53047805,  0.16832549,  0.53493726,\n",
      "        0.5380983 , -0.16663432,  0.53427425,  0.53468711, -0.02916436,\n",
      "        0.53702473, -1.69049618,  0.53740232, -0.21392837,  0.5368814 ,\n",
      "        0.53713859,  0.11038716]), array([-1.41688098, -0.83836358, -0.80381109,  0.26831903,  0.63022342,\n",
      "       -3.35800494,  0.670644  ,  0.6241259 ,  0.34554141, -1.1937279 ,\n",
      "        0.63420765,  0.69007781,  0.66172095,  0.21213969,  0.66724402,\n",
      "        0.67127632, -0.20992159,  0.66642142,  0.6669626 , -0.03774815,\n",
      "        0.66988057, -2.10495021,  0.67037541, -0.26854761,  0.66971486,\n",
      "        0.67003344,  0.14304757]), array([-1.7743536 , -1.05819664, -1.00767975,  0.34074071,  0.78829088,\n",
      "       -4.20328341,  0.83889565,  0.7806685 ,  0.43180763, -1.48772818,\n",
      "        0.79317394,  0.86346167,  0.82775043,  0.26756028,  0.83461949,\n",
      "        0.83975371, -0.26467719,  0.83359501,  0.83429842, -0.0486024 ,\n",
      "        0.83795058, -2.62926488,  0.83859367, -0.33764015,  0.83775651,\n",
      "        0.83815273,  0.18435638]), array([-2.22660133, -1.33626973, -1.26559454,  0.43234389,  0.98826827,\n",
      "       -5.27268553,  1.05175765,  0.97871672,  0.5409494 , -1.85969734,\n",
      "        0.99428918,  1.0828152 ,  1.03780077,  0.33766284,  1.04637298,\n",
      "        1.05290076, -0.33394133,  1.04509305,  1.04600157, -0.06232609,\n",
      "        1.0505826 , -3.29260926,  1.05141308, -0.42504498,  1.05035254,\n",
      "        1.05084697,  0.23660268]), array([-2.79881216, -1.6880224 , -1.5919149 ,  0.54820918,  1.24129578,\n",
      "       -6.62579267,  1.32108814,  1.22930324,  0.67904995, -2.33037613,\n",
      "        1.24875769,  1.36035656,  1.30357313,  0.4263391 ,  1.3143008 ,\n",
      "        1.32259088, -0.42156226,  1.31269766,  1.3138654 , -0.07967438,\n",
      "        1.31962175, -4.13195079,  1.32068902, -0.53562364,  1.31934593,\n",
      "        1.31996461,  0.30268051]), array([-3.52294584, -2.13299991, -2.00485594,  0.6947627 ,  1.56151111,\n",
      "       -8.3382242 ,  1.66193615,  1.54642935,  0.85383242, -2.92610522,\n",
      "        1.5707993 ,  1.7115902 ,  1.63991702,  0.5385153 ,  1.65337356,\n",
      "        1.66389193, -0.53241382,  1.65136132,  1.65285654, -0.10159682,\n",
      "        1.66010033, -5.19421797,  1.66146666, -0.67553851,  1.65976622,\n",
      "        1.66054207,  0.38624606]), array([ -4.43964471,  -2.69595787,  -2.52756997,   0.88012906,\n",
      "         1.96689954, -10.50618219,   2.09344649,   1.94790676,\n",
      "         1.07512811,  -3.68044126,   1.97850527,   2.15623702,\n",
      "         2.06572283,   0.68043085,   2.08263623,   2.09597153,\n",
      "        -0.67267368,   2.08010597,   2.08201456,  -0.12928262,\n",
      "         2.09114154,  -6.53914442,   2.09288519,  -0.85261175,\n",
      "         2.09073278,   2.09170751,   0.49190726]), array([ -5.60067477,  -3.40825822,  -3.18952555,   1.11456847,\n",
      "         2.48038449, -13.25225299,   2.64002006,   2.45643756,\n",
      "         1.35547713,  -4.636251  ,   2.49493634,   2.7194268 ,\n",
      "         2.60506657,   0.85999285,   2.62636278,   2.64325803,\n",
      "        -0.85017449,   2.6231761 ,   2.62560588,  -0.16421729,\n",
      "         2.63711831,  -8.2429302 ,   2.6393374 ,  -1.07678031,\n",
      "         2.63661344,   2.63783994,   0.62544265]), array([ -7.07182419,  -4.30959856,  -4.0281511 ,   1.41101972,\n",
      "         3.13112255, -16.73225021,   3.33269098,   3.1008968 ,\n",
      "         1.71083551,  -5.84818455,   3.14942541,   3.43311593,\n",
      "         3.28856925,   1.08721793,   3.31542662,   3.33681951,\n",
      "        -1.07483397,   3.31140753,   3.31449375,  -0.20826561,\n",
      "         3.32902928, -10.40257769,   3.33184677,  -1.36064418,\n",
      "         3.32840011,   3.32994561,   0.7940668 ]), array([ -8.93613183,  -5.45013881,  -5.09068942,   1.7858044 ,\n",
      "         3.95592955, -21.1427631 ,   4.21064281,   3.91774474,\n",
      "         2.16134155,  -7.38529262,   3.97900897,   4.33765488,\n",
      "         4.1548947 ,   1.37477266,   4.18880954,   4.2158844 ,\n",
      "        -1.35917617,   4.18373448,   4.18764729,  -0.2638    ,\n",
      "         4.20601434, -13.14059338,   4.20958496,  -1.72010773,\n",
      "         4.20522457,   4.20717465,   1.00682457]), array([-11.29779717,  -6.89319248,  -6.43646286,   2.25957065,\n",
      "         5.00098065, -26.73031203,   5.32301922,   4.95271064,\n",
      "         2.73222812,  -9.33401628,   5.03013319,   5.48366315,\n",
      "         5.25253718,   1.73864536,   5.29540228,   5.32965712,\n",
      "        -1.71899217,   5.28898826,   5.2939428 ,  -0.33386835,\n",
      "         5.3171639 , -16.61051088,   5.32168366,  -2.17518114,\n",
      "         5.31616794,   5.31863124,   1.27520799]), array([-14.28768768,  -8.71873158,  -8.14003509,   2.85850879,\n",
      "         6.32421528, -33.80439921,   6.73148714,   6.2631746 ,\n",
      "         3.45513479, -11.8025148 ,   6.36107209,   6.93467364,\n",
      "         6.64234959,   2.19901666,   6.69655308,   6.73988445,\n",
      "        -2.17421451,   6.68844279,   6.6947121 ,  -0.42237234,\n",
      "         6.72407863, -21.00477654,   6.72979663,  -2.75107126,\n",
      "         6.72281989,   6.72593381,   1.61394904]), array([-18.07099847, -11.02789988, -10.29556078,   3.61583284,\n",
      "         7.99872755, -42.75574358,   8.51384775,   7.92152527,\n",
      "         4.36997463, -14.92702422,   8.04534087,   8.77084689,\n",
      "         8.40110459,   2.78139296,   8.46965915,   8.52446828,\n",
      "        -2.75005253,   8.45940175,   8.46733242,  -0.53425734,\n",
      "         8.50447518, -26.56603779,   8.51170778,  -3.47963735,\n",
      "         8.50288321,   8.50682111,   2.04186973]), array([-22.8569627 , -13.94869253, -13.02228713,   4.57359106,\n",
      "        10.11709053, -54.07932881,  10.76863836,  10.01944242,\n",
      "         5.52730966, -18.88008132,  10.1760486 ,  11.09370404,\n",
      "        10.62603484,   3.51804551,  10.71274518,  10.782071  ,\n",
      "        -3.47841633,  10.69977132,  10.7098027 ,  -0.67575757,\n",
      "        10.75678249, -33.60160952,  10.76593063,  -4.40122068,\n",
      "        10.75476883,  10.7597495 ,   2.58282996]), array([-28.91068718, -17.64306743, -16.47127927,   5.78495088,\n",
      "        12.79661769, -68.40239493,  13.62073019,  12.67310738,\n",
      "         6.99122743, -23.88045623,  12.87119099,  14.03189069,\n",
      "        13.44035739,   4.44981264,  13.55003316,  13.63772022,\n",
      "        -4.39969067,  13.53362316,  13.54631143,  -0.85473305,\n",
      "        13.60573395, -42.50102127,  13.61730499,  -5.56690104,\n",
      "        13.60318694,  13.60948673,   3.26694523]), array([-36.56779386, -22.3159059 , -20.83376206,   7.31712318,\n",
      "        16.18584927, -86.51903593,  17.22823124,  16.0296268 ,\n",
      "         8.84288022, -30.20527582,  16.28017361,  17.74828921,\n",
      "        17.00008594,   5.6283631 ,  17.13880975,  17.24972108,\n",
      "        -5.56496669,  17.11805351,  17.13410231,  -1.08111189,\n",
      "        17.20926312, -53.75756959,  17.22389879,  -7.04131703,\n",
      "        17.20604152,  17.21400983,   4.13221629]), array([ -46.25290848,  -28.22635636,  -26.35166069,    9.25509101,\n",
      "         20.47273069, -109.43392091,   21.79119137,   20.27513213,\n",
      "         11.18494944,  -38.20525261,   20.59203717,   22.44898862,\n",
      "         21.50262094,    7.11905587,   21.67808626,   21.81837286,\n",
      "         -7.03886874,   21.65183265,   21.67213204,   -1.36744829,\n",
      "         21.76719947,  -67.99545803,   21.78571145,   -8.90623584,\n",
      "         21.76312461,   21.77320336,    5.22665005]), array([ -58.50314294,  -35.70220002,  -33.33098451,   11.70633257,\n",
      "         25.89500047, -138.41785351,   27.56265978,   25.64506728,\n",
      "         14.1473199 ,  -48.32403851,   26.04590566,   28.39467681,\n",
      "         27.19766053,    9.00456131,   27.41959841,   27.59704039,\n",
      "         -8.90313634,   27.38639145,   27.4120672 ,   -1.72962155,\n",
      "         27.53231355,  -86.00427755,   27.55572849,  -11.2650817 ,\n",
      "         27.52715945,   27.5399076 ,    6.61094582]), array([ -73.99786216,  -45.15802743,  -42.15878807,   14.80678764,\n",
      "         32.75336288, -175.07820456,   34.86270637,   32.4372342 ,\n",
      "         17.8942766 ,  -61.12279308,   32.94423571,   35.91508544,\n",
      "         34.40103606,   11.38944452,   34.6817548 ,   34.90619279,\n",
      "        -11.26115683,   34.63975288,   34.67222893,   -2.18771677,\n",
      "         34.82432285, -108.78274769,   34.85393931,  -14.2486699 ,\n",
      "         34.81780368,   34.83392821,    8.36187361]), array([ -93.5963526 ,  -57.11822815,  -53.32463252,   18.72839749,\n",
      "         41.42816024, -221.44803716,   44.09616781,   41.02830421,\n",
      "         22.63361348,  -77.31129309,   41.66958612,   45.42727175,\n",
      "         43.51222315,   14.40596339,   43.86729083,   44.15117172,\n",
      "        -14.24369838,   43.81416462,   43.85524202,   -2.76713846,\n",
      "         44.04761834, -137.59408764,   44.08507879,  -18.02246052,\n",
      "         44.03937255,   44.0597677 ,   10.57653433]), array([-118.38546786,  -72.24606739,  -67.44773084,   23.68863913,\n",
      "         52.40046194, -280.09883595,   55.77509476,   51.89470353,\n",
      "         28.62815507,  -97.78728746,   52.70582975,   57.45874338,\n",
      "         55.03649162,   18.22140207,   55.48559942,   55.84466655,\n",
      "        -18.01616088,   55.41840266,   55.47035948,   -3.5000191 ,\n",
      "         55.71368692, -174.03605838,   55.76106882,  -22.79573292,\n",
      "         55.70325723,   55.72905406,   13.37774442]), array([-149.73988948,  -91.38046094,  -85.31128018,   29.96258336,\n",
      "         66.27873743, -354.28308345,   70.5471426 ,   65.63902877,\n",
      "         36.21032889, -123.68627285,   66.66498191,   72.6767061 ,\n",
      "         69.61292024,   23.04734607,   70.18097434,   70.63514053,\n",
      "        -22.78774656,   70.0959805 ,   70.16169811,   -4.42700076,\n",
      "         70.46947088, -220.12955055,   70.5294019 ,  -28.83318926,\n",
      "         70.45627889,   70.48890802,   16.9208455 ]), array([-189.39834103, -115.5824859 , -107.90588338,   37.89814522,\n",
      "         83.83259047, -448.11458186,   89.23147822,   83.02345566,\n",
      "         45.80059558, -156.444447  ,   84.32113131,   91.92505455,\n",
      "         88.04982809,   29.15141289,   88.76833067,   89.34278238,\n",
      "        -28.82305851,   88.66082631,   88.74394918,   -5.59948834,\n",
      "         89.13323524, -278.43062523,   89.20903895,  -36.46962995,\n",
      "         89.11654938,   89.1578203 ,   21.4023168 ]), array([-239.5599769 , -146.19420343, -136.48446456,   47.93537127,\n",
      "        106.03542333, -566.79650777,  112.86419179,  105.01199138,\n",
      "         57.93075777, -197.8783263 ,  106.65335274,  116.27115479,\n",
      "        111.36958489,   36.87208787,  112.27838087,  113.00497465,\n",
      "        -36.45676936,  112.14240427,  112.24754204,   -7.08249939,\n",
      "        112.73992945, -352.1722128 ,  112.83580961,  -46.12851389,\n",
      "        112.71882441,  112.77102581,   27.07066744]), array([-303.00628226, -184.91305008, -172.6317192 ,   60.63083179,\n",
      "        134.11839278, -716.90982615,  142.75572758,  132.82390982,\n",
      "         73.27343807, -250.2854357 ,  134.89997758,  147.06500879,\n",
      "        140.86528134,   46.63748663,  142.01476745,  142.93379627,\n",
      "        -46.11217246,  141.84277812,  141.97576117,   -8.95826806,\n",
      "        142.598555  , -445.44331524,  142.71982861,  -58.34543097,\n",
      "        142.57186042,  142.63788712,   34.24021157]), array([-383.25523042, -233.88591499, -218.35194234,   76.68846777,\n",
      "        169.63864399, -906.77802478,  180.56351224,  168.00132695,\n",
      "         92.67935752, -316.57164318,  170.62722531,  186.01407512,\n",
      "        178.17239558,   58.98908263,  179.62631433,  180.78874134,\n",
      "        -58.32464202,  179.40877492,  179.57697763,  -11.33080291,\n",
      "        180.36471374, -563.41562911,  180.51810584,  -73.79778608,\n",
      "        180.33094935,  180.41446273,   43.30848888]), array([ -484.75622392,  -295.82810642,  -276.18009248,    96.99859885,\n",
      "         214.56559646, -1146.92834253,   228.38379747,   212.49465379,\n",
      "         117.22447639,  -400.41218153,   215.81599223,   235.27788408,\n",
      "         225.3594197 ,    74.61171197,   227.19839281,   228.66867647,\n",
      "         -73.77130003,   226.92324048,   227.13598999,   -14.33165051,\n",
      "         228.13234946,  -712.63012349,   228.32636592,   -93.34233617,\n",
      "         228.08964302,   228.195274  ,    54.77829401]), array([ -613.13659392,  -374.17378303,  -349.32222994,   122.68724851,\n",
      "         271.3900507 , -1450.67498369,   288.86779344,   268.77065022,\n",
      "         148.26960282,  -506.45525699,   272.97159397,   297.5876768 ,\n",
      "         285.04245522,    94.3715142 ,   287.36845219,   289.22811901,\n",
      "         -93.30852953,   287.02042995,   287.28952318,   -18.12718349,\n",
      "         288.54975339,  -901.35941216,   288.7951524 ,  -118.06265538,\n",
      "         288.49573693,   288.62934268,    69.28553252]), array([ -775.51326953,  -473.26615748,  -441.83308457,   155.17851023,\n",
      "         343.26214088, -1834.85652331,   365.36850558,   339.94904594,\n",
      "         187.53576076,  -640.57948786,   345.26252198,   376.39767469,\n",
      "         360.53010541,   119.36390405,   363.4720944 ,   365.82425706,\n",
      "        -118.01940596,   363.03190565,   363.37226306,   -22.92781557,\n",
      "         364.96623941, -1140.06592978,   365.27662766,  -149.32914916,\n",
      "         364.897918  ,   365.06690649,    87.63444198]), array([ -980.88680781,  -598.59796366,  -558.84054718,   196.27339505,\n",
      "         434.16574208, -2320.76817634,   462.12637386,   429.97526454,\n",
      "         237.19947429,  -810.21937184,   436.69586711,   476.07632263,\n",
      "         456.00665628,   150.97422039,   459.72774976,   462.70282039,\n",
      "        -149.27366274,   459.17098913,   459.60148147,   -28.99965196,\n",
      "         461.61757891, -1441.98118332,   462.01016558,  -188.87492765,\n",
      "         461.53116479,   461.74490526,   110.84212099]), array([-1240.63948608,  -757.11543286,  -706.82944869,   248.24950359,\n",
      "         549.13893802, -2935.3402761 ,   584.50393885,   543.83876322,\n",
      "         300.01321605, -1024.77670721,   552.33907198,   602.14803908,\n",
      "         576.76363509,   190.95439287,   581.47012498,   585.23303927,\n",
      "        -188.80349409,   580.76592642,   581.31042011,   -36.67921693,\n",
      "         583.86040852, -1823.83798105,   584.35695857,  -238.89171744,\n",
      "         583.75111127,   584.02145321,   140.19481933]), array([-1569.16483915,  -957.60249149,  -894.00022813,   313.98700292,\n",
      "         694.55266913, -3712.6277482 ,   739.28243494,   687.84899146,\n",
      "         379.45764127, -1296.14058428,   698.60020265,   761.59876289,\n",
      "         729.49247601,   241.51984151,   735.44525695,   740.20460785,\n",
      "        -238.79936264,   734.55458458,   735.2432634 ,   -46.39206852,\n",
      "         738.46849683, -2306.795892  ,   739.09653634,  -302.15108455,\n",
      "         738.33025818,   738.67218751,   177.31908452]), array([-1984.66316906, -1211.16625465, -1130.72216124,   397.12781884,\n",
      "         878.46284352, -4695.69227092,   935.03657763,   869.98410352,\n",
      "         479.93395661, -1639.34446476,   883.5821113 ,   963.26205484,\n",
      "         922.65434437,   305.47192425,   930.18335469,   936.20293916,\n",
      "        -302.03106703,   929.05684206,   929.92787807,   -58.67632173,\n",
      "         934.00711909, -2917.61069217,   934.80145911,  -382.15761769,\n",
      "         933.83227769,   934.26474626,   224.27166824]), array([-2510.14652834, -1531.85036832, -1430.10593416,   502.27675104,\n",
      "        1111.05516513, -5938.98004311,  1182.608039  ,  1100.33149317,\n",
      "         607.00694258, -2073.39627722,  1117.52985598,  1218.3068669 ,\n",
      "        1166.94734227,   386.35262954,  1176.46981724,  1184.08323158,\n",
      "        -382.00069075,  1175.04503618,  1176.14670186,   -74.21236736,\n",
      "        1181.3060115 , -3690.11174353,  1182.31067416,  -483.34244901,\n",
      "        1181.08487922,  1181.6318533 ,   283.65311115]), array([-3174.70792509, -1937.40961959, -1808.72675499,   635.25547064,\n",
      "        1405.20691119, -7511.324691  ,  1495.70340421,  1391.64414903,\n",
      "         767.71186806, -2622.32674489,  1413.39575109,  1540.85355089,\n",
      "        1475.89654691,   488.63994254,  1487.94008642,  1497.56917185,\n",
      "        -483.13576589,  1486.13809555,  1487.53143313,   -93.86040653,\n",
      "        1494.05666951, -4667.06778438,  1495.32732243,  -611.30765576,\n",
      "        1493.77699603,  1494.46878139,   358.75119725]), array([-4015.12356066, -2450.28782199, -2287.53720858,   803.4231764 ,\n",
      "        1777.19611517, -9499.73811471,  1891.6490266 ,  1760.04299276,\n",
      "         970.94193527, -3316.51277368,  1787.55268173,  1948.75150317,\n",
      "        1866.59886991,   617.99447971,  1881.83058384,  1894.00873275,\n",
      "        -611.03312634,  1879.55156763,  1881.31376197,  -118.70783776,\n",
      "        1889.56637211, -5902.5422788 ,  1891.17340427,  -773.1347948 ,\n",
      "        1889.21266857,  1890.08758465,   453.72206079])]\n",
      "\n",
      "mse=nan\n",
      "\n",
      "gamma=0.0011513953993264481\n"
     ]
    }
   ],
   "source": [
    "idx = np.argmin(losses_rlr)\n",
    "\n",
    "loss_rlr = losses_rlr[idx]\n",
    "w_rlr = ws_rlr[idx]\n",
    "gamma_rlr = gammas[idx]\n",
    "\n",
    "print(\"w* ={w}\\n\\nmse={loss}\\n\\ngamma={gamma}\".format(\n",
    "    w=ws_rlr, loss=loss_rlr, gamma = gamma_rlr))"
   ]
  },
  {
   "cell_type": "markdown",
   "metadata": {},
   "source": [
    "***Cross-validation hyperparameter selection***"
   ]
  },
  {
   "cell_type": "code",
   "execution_count": 54,
   "metadata": {},
   "outputs": [
    {
     "ename": "TypeError",
     "evalue": "cross_validation_log() takes 6 positional arguments but 7 were given",
     "output_type": "error",
     "traceback": [
      "\u001b[1;31m---------------------------------------------------------------------------\u001b[0m",
      "\u001b[1;31mTypeError\u001b[0m                                 Traceback (most recent call last)",
      "\u001b[1;32m<ipython-input-54-be463270bfcf>\u001b[0m in \u001b[0;36m<module>\u001b[1;34m\u001b[0m\n\u001b[0;32m     13\u001b[0m     \u001b[0ml_log_te\u001b[0m \u001b[1;33m=\u001b[0m \u001b[1;33m[\u001b[0m\u001b[1;33m]\u001b[0m\u001b[1;33m\u001b[0m\u001b[1;33m\u001b[0m\u001b[0m\n\u001b[0;32m     14\u001b[0m     \u001b[1;32mfor\u001b[0m \u001b[0mk\u001b[0m \u001b[1;32min\u001b[0m \u001b[0mrange\u001b[0m\u001b[1;33m(\u001b[0m\u001b[0mk_fold\u001b[0m\u001b[1;33m)\u001b[0m\u001b[1;33m:\u001b[0m\u001b[1;33m\u001b[0m\u001b[1;33m\u001b[0m\u001b[0m\n\u001b[1;32m---> 15\u001b[1;33m         \u001b[0mloss_tr\u001b[0m\u001b[1;33m,\u001b[0m \u001b[0mloss_te\u001b[0m \u001b[1;33m=\u001b[0m \u001b[0mcross_validation_log\u001b[0m\u001b[1;33m(\u001b[0m\u001b[0my\u001b[0m\u001b[1;33m,\u001b[0m \u001b[0mtX\u001b[0m\u001b[1;33m,\u001b[0m \u001b[0mk_indices\u001b[0m\u001b[1;33m,\u001b[0m \u001b[0mk\u001b[0m\u001b[1;33m,\u001b[0m \u001b[0mlambda_\u001b[0m\u001b[1;33m,\u001b[0m \u001b[0mdegree\u001b[0m\u001b[1;33m,\u001b[0m \u001b[0mreg_logistic_regression\u001b[0m\u001b[1;33m)\u001b[0m\u001b[1;33m\u001b[0m\u001b[1;33m\u001b[0m\u001b[0m\n\u001b[0m\u001b[0;32m     16\u001b[0m         \u001b[0ml_log_tr\u001b[0m\u001b[1;33m.\u001b[0m\u001b[0mappend\u001b[0m\u001b[1;33m(\u001b[0m\u001b[0mloss_tr\u001b[0m\u001b[1;33m)\u001b[0m\u001b[1;33m\u001b[0m\u001b[1;33m\u001b[0m\u001b[0m\n\u001b[0;32m     17\u001b[0m         \u001b[0ml_log_te\u001b[0m\u001b[1;33m.\u001b[0m\u001b[0mappend\u001b[0m\u001b[1;33m(\u001b[0m\u001b[0mloss_te\u001b[0m\u001b[1;33m)\u001b[0m\u001b[1;33m\u001b[0m\u001b[1;33m\u001b[0m\u001b[0m\n",
      "\u001b[1;31mTypeError\u001b[0m: cross_validation_log() takes 6 positional arguments but 7 were given"
     ]
    }
   ],
   "source": [
    "seed = 1\n",
    "degree = 2\n",
    "k_fold = 4\n",
    "lambdas = np.logspace(-15, -1, 50)\n",
    "\n",
    "k_indices = build_k_indices(y, k_fold, seed)\n",
    "\n",
    "log_tr_rlr = []\n",
    "log_te_rlr = []\n",
    "\n",
    "for lambda_ in  lambdas:\n",
    "    l_log_tr = []\n",
    "    l_log_te = []\n",
    "    for k in range(k_fold):\n",
    "        loss_tr, loss_te = cross_validation_log(y, tX, k_indices, k, lambda_, degree, reg_logistic_regression)\n",
    "        l_log_tr.append(loss_tr)\n",
    "        l_log_te.append(loss_te)\n",
    "    log_tr_rlr.append(np.mean(l_log_tr))\n",
    "    log_te_rlr.append(np.mean(l_log_te))\n",
    "cross_validation_visualization(lambdas, log_tr_rlr, log_te_rlr)"
   ]
  },
  {
   "cell_type": "markdown",
   "metadata": {},
   "source": [
    "### Overfitting vs Underfitting"
   ]
  },
  {
   "cell_type": "markdown",
   "metadata": {},
   "source": [
    "### Methods application and visualization"
   ]
  },
  {
   "cell_type": "markdown",
   "metadata": {},
   "source": [
    "## Generate predictions and save ouput in csv format for submission:"
   ]
  },
  {
   "cell_type": "code",
   "execution_count": null,
   "metadata": {},
   "outputs": [],
   "source": [
    "DATA_TEST_PATH = '' # TODO: download train data and supply path here \n",
    "_, tX_test, ids_test = load_csv_data(DATA_TEST_PATH)"
   ]
  },
  {
   "cell_type": "code",
   "execution_count": null,
   "metadata": {},
   "outputs": [],
   "source": [
    "OUTPUT_PATH = '' # TODO: fill in desired name of output file for submission\n",
    "y_pred = predict_labels(weights, tX_test)\n",
    "create_csv_submission(ids_test, y_pred, OUTPUT_PATH)"
   ]
  },
  {
   "cell_type": "code",
   "execution_count": null,
   "metadata": {},
   "outputs": [],
   "source": []
  }
 ],
 "metadata": {
  "anaconda-cloud": {},
  "kernelspec": {
   "display_name": "Python 3",
   "language": "python",
   "name": "python3"
  },
  "language_info": {
   "codemirror_mode": {
    "name": "ipython",
    "version": 3
   },
   "file_extension": ".py",
   "mimetype": "text/x-python",
   "name": "python",
   "nbconvert_exporter": "python",
   "pygments_lexer": "ipython3",
   "version": "3.7.4"
  }
 },
 "nbformat": 4,
 "nbformat_minor": 1
}
