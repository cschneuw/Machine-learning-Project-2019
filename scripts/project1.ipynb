{
 "cells": [
  {
   "cell_type": "code",
   "execution_count": 1,
   "metadata": {},
   "outputs": [],
   "source": [
    "# Useful starting lines\n",
    "%matplotlib inline\n",
    "import numpy as np\n",
    "import matplotlib.pyplot as plt\n",
    "%load_ext autoreload\n",
    "%autoreload 2"
   ]
  },
  {
   "cell_type": "markdown",
   "metadata": {},
   "source": [
    "## Load the training data into feature matrix, class labels, and event ids:"
   ]
  },
  {
   "cell_type": "code",
   "execution_count": 2,
   "metadata": {},
   "outputs": [],
   "source": [
    "from proj1_helpers import *\n",
    "DATA_TRAIN_PATH = '../data/train.csv'\n",
    "y, tX, ids = load_csv_data(DATA_TRAIN_PATH)"
   ]
  },
  {
   "cell_type": "markdown",
   "metadata": {},
   "source": [
    "### Change later : Simple data description \n",
    "- all variables are floating point, except PRI_jet_num which is integer\n",
    "- variables prefixed with PRI (for PRImitives) are “raw” quantities about the bunch collision as measured by the detector.\n",
    "- variables prefixed with DER (for DERived) are quantities computed from the primitive features, which were selected by the physicists of ATLAS.\n",
    "- it can happen that for some entries some variables are meaningless or cannot be computed; in this case, their value is −999.0, which is outside the normal range of all variables."
   ]
  },
  {
   "cell_type": "code",
   "execution_count": 3,
   "metadata": {},
   "outputs": [
    {
     "name": "stdout",
     "output_type": "stream",
     "text": [
      "y shape = (250000,)\n",
      "tX shape =(250000, 30)\n",
      "ids shape = (250000,)\n"
     ]
    }
   ],
   "source": [
    "print('y shape = ' + str(y.shape) + '\\ntX shape =' + str(tX.shape) + '\\nids shape = ' + str(ids.shape))"
   ]
  },
  {
   "cell_type": "markdown",
   "metadata": {},
   "source": [
    "Description of the data:\n",
    "- `y` (N) is composed of the labels (-1 or 1) of all the samples.  \n",
    "- `tX` (N x F) is composed of the values of the features (F) for all samples (N)  \n",
    "- `ids` (N) is composed of all the index (100000-349999) of the samples (N)  \n",
    "  \n",
    "Moreover, the number of features is 30 (F=30) and the number of samples is 250'000 (N=250'000). Non recorded data has value `-999`. "
   ]
  },
  {
   "cell_type": "markdown",
   "metadata": {},
   "source": [
    "## Machine learning"
   ]
  },
  {
   "cell_type": "code",
   "execution_count": 4,
   "metadata": {},
   "outputs": [],
   "source": [
    "from implementations import *"
   ]
  },
  {
   "cell_type": "markdown",
   "metadata": {},
   "source": [
    "### Data pre-processing "
   ]
  },
  {
   "cell_type": "code",
   "execution_count": 5,
   "metadata": {},
   "outputs": [],
   "source": [
    "# putting the meaningless values to the median of the column\n",
    "tX = np.where(tX==-999., np.nan,tX)\n",
    "med_X = np.nanmedian(tX, axis=0)\n",
    "\n",
    "inds = np.where(np.isnan(tX))\n",
    "tX[inds] = np.take(med_X, inds[1])"
   ]
  },
  {
   "cell_type": "code",
   "execution_count": 6,
   "metadata": {},
   "outputs": [
    {
     "name": "stdout",
     "output_type": "stream",
     "text": [
      "(array([22], dtype=int64),)\n"
     ]
    }
   ],
   "source": [
    "print(np.where(tX[0] == 2))"
   ]
  },
  {
   "cell_type": "code",
   "execution_count": 7,
   "metadata": {},
   "outputs": [],
   "source": [
    "# remove categorical data and standarize the rest\n",
    "tX = np.delete(tX, 22, axis=1)\n",
    "tX = np.apply_along_axis(standardize, 1, tX)\n",
    "\n",
    "y = y[0:10000]\n",
    "tX = tX[0:10000, :]"
   ]
  },
  {
   "cell_type": "markdown",
   "metadata": {},
   "source": [
    "### Exploratory analysis"
   ]
  },
  {
   "cell_type": "code",
   "execution_count": null,
   "metadata": {},
   "outputs": [],
   "source": []
  },
  {
   "cell_type": "markdown",
   "metadata": {},
   "source": [
    "### Feature processing"
   ]
  },
  {
   "cell_type": "markdown",
   "metadata": {},
   "source": [
    "**Least squares**"
   ]
  },
  {
   "cell_type": "code",
   "execution_count": 8,
   "metadata": {},
   "outputs": [
    {
     "name": "stdout",
     "output_type": "stream",
     "text": [
      "w* =[ -1.63234884  -2.14364764  -2.27071314  -1.5493892  -23.58220505\n",
      "  -1.47221835  -1.90458059  19.30567861  -1.8573435    1.08952944\n",
      " -19.59956461   1.00136465  18.90405615  -3.78213171  -1.6905936\n",
      "  -1.51078869  -3.5693518   -1.56985962  -1.34976429  -1.57392063\n",
      "  -1.81614721  -1.75066318  -1.76852796  -1.23090863  -1.87599932\n",
      "  -2.90560059  -0.67389455  -1.90715947  -4.50324926]\n",
      "\n",
      "mse=0.3329741225255339\n"
     ]
    }
   ],
   "source": [
    "(w_ls, loss_ls) = least_squares(y, tX)\n",
    "\n",
    "print(\"w* ={w}\\n\\nmse={loss}\".format(\n",
    "    w=w_ls, loss=loss_ls))"
   ]
  },
  {
   "cell_type": "markdown",
   "metadata": {},
   "source": [
    "**Least squares with Gradient Descent**"
   ]
  },
  {
   "cell_type": "code",
   "execution_count": 9,
   "metadata": {},
   "outputs": [],
   "source": [
    "#define parameters\n",
    "\n",
    "initial_w = np.zeros(tX.shape[1])\n",
    "max_iters = 100\n",
    "gammas = np.logspace(-6, -1, 50)\n",
    "\n",
    "losses_gd = []\n",
    "ws_gd = []\n",
    "for gamma in gammas:\n",
    "    (w, loss) = least_squares_GD(y, tX, initial_w, max_iters, gamma)\n",
    "    losses_gd.append(loss)\n",
    "    ws_gd.append(w)"
   ]
  },
  {
   "cell_type": "code",
   "execution_count": 10,
   "metadata": {},
   "outputs": [
    {
     "data": {
      "image/png": "[encoded data removed]",
      "text/plain": [
       "<Figure size 432x288 with 1 Axes>"
      ]
     },
     "metadata": {
      "needs_background": "light"
     },
     "output_type": "display_data"
    }
   ],
   "source": [
    "#plot the losses per gamma\n",
    "\n",
    "fig, ax = plt.subplots()\n",
    "ax.semilogx(gammas, losses_gd)\n",
    "\n",
    "ax.set(xlabel='gamma', ylabel='MSE',\n",
    "       title='Mean square error per choice of learning rate')\n",
    "ax.grid()\n",
    "ax.set_ylim([0, 1])\n",
    "plt.show()"
   ]
  },
  {
   "cell_type": "code",
   "execution_count": 11,
   "metadata": {},
   "outputs": [
    {
     "name": "stdout",
     "output_type": "stream",
     "text": [
      "w* =[ 0.03832532 -0.53039433 -0.03670507  0.14058118  0.03486975  0.06562288\n",
      "  0.03250216  0.03785252 -0.06702791  0.05131062  0.02326465  0.05165638\n",
      "  0.03811925  0.25872194  0.03844767  0.03888653 -0.0952266   0.03845627\n",
      "  0.04081067 -0.07683066  0.03569317 -0.06369741 -0.06436728  0.03900604\n",
      "  0.03782905 -0.14979649  0.03971292  0.03803745 -0.03566066]\n",
      "\n",
      "mse=0.3619424560929475\n",
      "\n",
      "gamma=0.07906043210907701\n"
     ]
    }
   ],
   "source": [
    "idx = np.nanargmin(losses_gd)\n",
    "\n",
    "loss_gd = losses_gd[idx]\n",
    "w_gd = ws_gd[idx]\n",
    "gamma_gd = gammas[idx]\n",
    "\n",
    "print(\"w* ={w}\\n\\nmse={loss}\\n\\ngamma={gamma}\".format(\n",
    "    w=w_gd, loss=loss_gd, gamma=gamma_gd ))"
   ]
  },
  {
   "cell_type": "markdown",
   "metadata": {},
   "source": [
    "**Least squares with Stochastic Gradient Descent**"
   ]
  },
  {
   "cell_type": "code",
   "execution_count": 12,
   "metadata": {},
   "outputs": [],
   "source": [
    "initial_w = np.zeros(tX.shape[1])\n",
    "max_iters = 100\n",
    "gammas = np.logspace(-6, -1, 50)\n",
    "\n",
    "losses_sgd = []\n",
    "ws_sgd = []\n",
    "for gamma in gammas:\n",
    "    (w, loss) = least_squares_SGD(y, tX, initial_w, max_iters, gamma)\n",
    "    losses_sgd.append(loss)\n",
    "    ws_sgd.append(w)"
   ]
  },
  {
   "cell_type": "code",
   "execution_count": 13,
   "metadata": {},
   "outputs": [
    {
     "data": {
      "image/png": "[encoded data removed]",
      "text/plain": [
       "<Figure size 432x288 with 1 Axes>"
      ]
     },
     "metadata": {
      "needs_background": "light"
     },
     "output_type": "display_data"
    }
   ],
   "source": [
    "#plot the losses per gamma used\n",
    "fig, ax = plt.subplots()\n",
    "ax.semilogx(gammas, losses_sgd)\n",
    "\n",
    "ax.set(xlabel='gamma', ylabel='MSE',\n",
    "       title='Mean square error per choice of learning rate')\n",
    "ax.grid()\n",
    "ax.set_ylim([0, 1])\n",
    "plt.show()"
   ]
  },
  {
   "cell_type": "code",
   "execution_count": 14,
   "metadata": {},
   "outputs": [
    {
     "name": "stdout",
     "output_type": "stream",
     "text": [
      "w* =[-0.04468316 -0.13499198 -0.00318257  0.02746707  0.00931804  0.00743917\n",
      "  0.00867248  0.0102515  -0.01031069  0.01413886  0.00748626  0.01247268\n",
      "  0.00993434  0.04517552  0.01181778  0.00964258 -0.0202097   0.01099246\n",
      "  0.01068739 -0.0560201   0.01093212 -0.00481483  0.03243379  0.00708468\n",
      "  0.00947362 -0.01217007  0.01018242  0.01156129  0.00921903]\n",
      "\n",
      "mse=0.43322657479260634\n",
      "\n",
      "gamma=0.007543120063354623\n"
     ]
    }
   ],
   "source": [
    "idx = np.nanargmin(losses_sgd)\n",
    "\n",
    "loss_sgd = losses_sgd[idx]\n",
    "w_sgd = ws_sgd[idx]\n",
    "gamma_sgd = gammas[idx]\n",
    "\n",
    "print(\"w* ={w}\\n\\nmse={loss}\\n\\ngamma={gamma}\".format(\n",
    "    w=w_sgd, loss=loss_sgd, gamma=gamma_sgd ))"
   ]
  },
  {
   "cell_type": "markdown",
   "metadata": {},
   "source": [
    "**Ridge regression**"
   ]
  },
  {
   "cell_type": "markdown",
   "metadata": {},
   "source": [
    "***Cross-validation hyperparameter selection***"
   ]
  },
  {
   "cell_type": "code",
   "execution_count": 15,
   "metadata": {},
   "outputs": [],
   "source": [
    "def cross_validation_visualization(lambds, loss_tr, loss_te):\n",
    "    \"\"\"visualization the curves of train error and test error.\"\"\"\n",
    "    plt.semilogx(lambds, loss_tr, marker=\".\", color='b', label='train error')\n",
    "    plt.semilogx(lambds, loss_te, marker=\".\", color='r', label='test error')\n",
    "    plt.xlabel(\"lambda\")\n",
    "    plt.ylabel(\"error\")\n",
    "    plt.title(\"cross validation\")\n",
    "    plt.legend(loc=2)\n",
    "    plt.grid(True)"
   ]
  },
  {
   "cell_type": "code",
   "execution_count": 16,
   "metadata": {},
   "outputs": [
    {
     "data": {
      "image/png": "[encoded data removed]",
      "text/plain": [
       "<Figure size 432x288 with 1 Axes>"
      ]
     },
     "metadata": {
      "needs_background": "light"
     },
     "output_type": "display_data"
    }
   ],
   "source": [
    "seed = 1\n",
    "degree = 2\n",
    "k_fold = 4\n",
    "lambdas = np.logspace(-15, -1, 50)\n",
    "\n",
    "k_indices = build_k_indices(y, k_fold, seed)\n",
    "rmse_tr_cv = []\n",
    "rmse_te_cv = []\n",
    "\n",
    "for lambda_ in  lambdas:\n",
    "    l_rmse_tr = []\n",
    "    l_rmse_te = []\n",
    "    for k in range(k_fold):\n",
    "        loss_tr, loss_te = cross_validation(y, tX, k_indices, k, lambda_, degree)\n",
    "        l_rmse_tr.append(np.sqrt(2*loss_tr))\n",
    "        l_rmse_te.append(np.sqrt(2*loss_te))\n",
    "    rmse_tr_cv.append(np.mean(l_rmse_tr))\n",
    "    rmse_te_cv.append(np.mean(l_rmse_te))\n",
    "cross_validation_visualization(lambdas, rmse_tr_cv, rmse_te_cv)"
   ]
  },
  {
   "cell_type": "code",
   "execution_count": 17,
   "metadata": {},
   "outputs": [
    {
     "name": "stdout",
     "output_type": "stream",
     "text": [
      "lambda* =1e-09\n",
      "\n",
      "rmse train=0.7899053400307731\n",
      "\n",
      "rmse test=0.7973736357872228\n"
     ]
    }
   ],
   "source": [
    "idx = np.nanargmin(rmse_te_cv)\n",
    "lambda_ri = lambdas[idx]\n",
    "\n",
    "print(\"lambda* ={lambda_}\\n\\nrmse train={rmse_tr}\\n\\nrmse test={rmse_te}\".format(\n",
    "    lambda_=lambda_ri, rmse_tr=rmse_tr_cv[idx], rmse_te=rmse_te_cv[idx]))"
   ]
  },
  {
   "cell_type": "markdown",
   "metadata": {},
   "source": [
    "***Bias-variance decomposition for complexity determination***"
   ]
  },
  {
   "cell_type": "code",
   "execution_count": 18,
   "metadata": {},
   "outputs": [],
   "source": [
    "def bias_variance_decomposition_visualization(degrees, loss_tr, loss_te):\n",
    "    \"\"\"visualize the bias variance decomposition.\"\"\"\n",
    "    loss_tr_mean = np.expand_dims(np.mean(loss_tr, axis=0), axis=0)\n",
    "    loss_te_mean = np.expand_dims(np.mean(loss_te, axis=0), axis=0)\n",
    "    plt.plot(degrees, loss_tr.T, 'b', linestyle=\"-\", label='train', linewidth=0.3)\n",
    "    plt.plot(degrees, loss_te.T, 'r', linestyle=\"-\", label='test', linewidth=0.3)\n",
    "    plt.plot(degrees, loss_tr_mean.T, 'b', linestyle=\"-\", label='train', linewidth=3)\n",
    "    plt.plot(degrees, loss_te_mean.T, 'r', linestyle=\"-\", label='test', linewidth=3)\n",
    "    plt.ylim(0, 5)\n",
    "    plt.xlabel(\"degree\")\n",
    "    plt.ylabel(\"error\")\n",
    "    plt.title(\"Bias-Variance Decomposition\")"
   ]
  },
  {
   "cell_type": "code",
   "execution_count": 19,
   "metadata": {},
   "outputs": [
    {
     "data": {
      "image/png": "[encoded data removed]",
      "text/plain": [
       "<Figure size 432x288 with 1 Axes>"
      ]
     },
     "metadata": {
      "needs_background": "light"
     },
     "output_type": "display_data"
    }
   ],
   "source": [
    "seeds = range(20)\n",
    "ratio_train = 0.7\n",
    "degrees = range(0, 20)\n",
    "\n",
    "rmse_tr_bv = np.empty((len(seeds), len(degrees)))\n",
    "rmse_te_bv = np.empty((len(seeds), len(degrees)))\n",
    "\n",
    "for index_seed, seed in enumerate(seeds):\n",
    "    np.random.seed(seed)\n",
    "        \n",
    "    x_tr, x_te, y_tr, y_te = split_data(tX, y, ratio_train, seed)        \n",
    "        \n",
    "    mse_tr = []\n",
    "    mse_te = []\n",
    "    \n",
    "    for index_deg, deg in enumerate(degrees): \n",
    "        tx_tr = build_poly(x_tr, deg)\n",
    "        tx_te = build_poly(x_te, deg)\n",
    "            \n",
    "        w_tr, mse_tr = ridge_regression(y_tr, tx_tr, lambda_ri)\n",
    "        mse_te = compute_mse(y_te, tx_te, w_tr)\n",
    "            \n",
    "        rmse_tr_bv[index_seed][index_deg] = np.sqrt(2*np.array(mse_tr))\n",
    "        rmse_te_bv[index_seed][index_deg] = np.sqrt(2*np.array(mse_te))\n",
    "\n",
    "bias_variance_decomposition_visualization(degrees, rmse_tr_bv, rmse_te_bv)"
   ]
  },
  {
   "cell_type": "code",
   "execution_count": 20,
   "metadata": {},
   "outputs": [
    {
     "name": "stdout",
     "output_type": "stream",
     "text": [
      "degree* =9\n",
      "\n",
      "rmse train=1.0358994844634908\n",
      "\n",
      "rmse test=1.3526149660811453\n"
     ]
    }
   ],
   "source": [
    "rmse_te_bv = np.array(rmse_te_bv)\n",
    "rmse_tr_bv = np.array(rmse_tr_bv)\n",
    "\n",
    "idx = np.nanargmin(np.mean(rmse_te_bv-rmse_tr_bv, axis=1))\n",
    "\n",
    "degree_ri = degrees[idx]\n",
    "\n",
    "print(\"degree* ={degree}\\n\\nrmse train={rmse_tr}\\n\\nrmse test={rmse_te}\".format(\n",
    "    degree=degree_ri, rmse_tr=rmse_tr_bv[idx].mean(), rmse_te=rmse_te_bv[idx].mean()))"
   ]
  },
  {
   "cell_type": "markdown",
   "metadata": {},
   "source": [
    "**Logistic regression**"
   ]
  },
  {
   "cell_type": "code",
   "execution_count": 23,
   "metadata": {},
   "outputs": [
    {
     "name": "stdout",
     "output_type": "stream",
     "text": [
      "[1. 0. 0. ... 0. 0. 0.]\n"
     ]
    }
   ],
   "source": [
    "y = np.where(y==-1, 0, y)\n",
    "print(y)"
   ]
  },
  {
   "cell_type": "code",
   "execution_count": 24,
   "metadata": {},
   "outputs": [],
   "source": [
    "initial_w = np.zeros(tX.shape[1])\n",
    "max_iters = 100\n",
    "gammas = np.logspace(-20, -2, 50)\n",
    "\n",
    "losses_lr = []\n",
    "ws_lr = []\n",
    "for gamma in gammas:\n",
    "    (w, loss) = logistic_regression(y, tX, initial_w, max_iters, gamma)\n",
    "    losses_lr.append(loss)\n",
    "    ws_lr.append(w)"
   ]
  },
  {
   "cell_type": "code",
   "execution_count": 30,
   "metadata": {},
   "outputs": [
    {
     "data": {
      "image/png": "[encoded data removed]",
      "text/plain": [
       "<Figure size 432x288 with 1 Axes>"
      ]
     },
     "metadata": {
      "needs_background": "light"
     },
     "output_type": "display_data"
    }
   ],
   "source": [
    "#plot the losses per gamma used\n",
    "fig, ax = plt.subplots()\n",
    "ax.semilogx(gammas, losses_lr)\n",
    "\n",
    "ax.set(xlabel='gamma', ylabel='loglikelihood',\n",
    "       title='Mean square error per choice of learning rate')\n",
    "ax.grid()\n",
    "ax.set_ylim([0, 10000])\n",
    "plt.show()"
   ]
  },
  {
   "cell_type": "code",
   "execution_count": 45,
   "metadata": {},
   "outputs": [
    {
     "name": "stdout",
     "output_type": "stream",
     "text": [
      "w* =[ 0.05463507 -1.18962843 -0.05415581  0.30078966  0.07974139  0.13681576\n",
      "  0.07443387  0.08534307 -0.11220208  0.08614684  0.05586676  0.11202356\n",
      "  0.08540732  0.49290978  0.0859732   0.08675403 -0.22236088  0.08600356\n",
      "  0.08976516 -0.23213761  0.08164701 -0.13664314 -0.12062378  0.08687638\n",
      "  0.08507587 -0.25900531  0.08825252  0.0853127  -0.01301648]\n",
      "\n",
      "negative loglikelihood loss=5406.063508942515\n",
      "\n",
      "gamma=2.6826957952797274e-05\n"
     ]
    }
   ],
   "source": [
    "idx = np.nanargmin(losses_lr)\n",
    "\n",
    "loss_lr = losses_lr[idx]\n",
    "w_lr = ws_lr[idx]\n",
    "gamma_lr = gammas[idx]\n",
    "\n",
    "print(\"w* ={w}\\n\\nnegative loglikelihood loss={loss}\\n\\ngamma={gamma}\".format(\n",
    "    w=w_lr, loss=loss_lr, gamma = gamma_lr))"
   ]
  },
  {
   "cell_type": "markdown",
   "metadata": {},
   "source": [
    "**Regularized logistic regression**"
   ]
  },
  {
   "cell_type": "code",
   "execution_count": 51,
   "metadata": {},
   "outputs": [],
   "source": [
    "initial_w = np.zeros(tX.shape[1])\n",
    "max_iters = 1000\n",
    "gammas = np.logspace(-6, -1, 50)\n",
    "\n",
    "losses_rlr = []\n",
    "ws_rlr = []\n",
    "for gamma in gammas:\n",
    "    (w, loss) = reg_logistic_regression(y, tX, lambda_, initial_w, max_iters, gamma)\n",
    "    losses_rlr.append(loss)\n",
    "    ws_rlr.append(w)"
   ]
  },
  {
   "cell_type": "code",
   "execution_count": 52,
   "metadata": {},
   "outputs": [
    {
     "data": {
      "image/png": "[encoded data removed]",
      "text/plain": [
       "<Figure size 432x288 with 1 Axes>"
      ]
     },
     "metadata": {
      "needs_background": "light"
     },
     "output_type": "display_data"
    }
   ],
   "source": [
    "#plot the losses per gamma used\n",
    "fig, ax = plt.subplots()\n",
    "ax.semilogx(gammas, losses_rlr)\n",
    "\n",
    "ax.set(xlabel='gamma', ylabel='MSE',\n",
    "       title='Mean square error per choice of learning rate')\n",
    "ax.grid()\n",
    "#ax.set_ylim([0, 1])\n",
    "plt.show()"
   ]
  },
  {
   "cell_type": "code",
   "execution_count": 53,
   "metadata": {},
   "outputs": [
    {
     "name": "stdout",
     "output_type": "stream",
     "text": [
      "w* =[ 0.39964258 -1.66494314 -0.66069168  0.30700592  0.08002716  0.23899864\n",
      "  0.14791879  0.26228578 -0.45099126  0.45919454  0.02007483  0.31170122\n",
      "  0.15827289  1.54672908  0.16142891  0.17433696 -0.21955627  0.16508903\n",
      "  0.21448076 -0.09652592  0.09251986 -0.10854727 -0.12752469  0.18871691\n",
      "  0.1410289  -1.54072201  0.20145227  0.15494419 -0.556347  ]\n",
      "\n",
      "negative loglikelihood loss=5194.559832973\n",
      "\n",
      "gamma=4.291934260128778e-05\n"
     ]
    }
   ],
   "source": [
    "idx = np.nanargmin(losses_rlr)\n",
    "\n",
    "loss_rlr = losses_rlr[idx]\n",
    "w_rlr = ws_rlr[idx]\n",
    "gamma_rlr = gammas[idx]\n",
    "\n",
    "print(\"w* ={w}\\n\\nnegative loglikelihood loss={loss}\\n\\ngamma={gamma}\".format(\n",
    "    w=w_rlr, loss=loss_rlr, gamma = gamma_rlr))"
   ]
  },
  {
   "cell_type": "markdown",
   "metadata": {},
   "source": [
    "***Cross-validation hyperparameter selection***"
   ]
  },
  {
   "cell_type": "code",
   "execution_count": null,
   "metadata": {},
   "outputs": [],
   "source": [
    "seed = 1\n",
    "degree = 2\n",
    "k_fold = 4\n",
    "lambdas = np.logspace(-15, -1, 50)\n",
    "\n",
    "k_indices = build_k_indices(y, k_fold, seed)\n",
    "\n",
    "log_tr_rlr = []\n",
    "log_te_rlr = []\n",
    "\n",
    "for lambda_ in  lambdas:\n",
    "    l_log_tr = []\n",
    "    l_log_te = []\n",
    "    for k in range(k_fold):\n",
    "        loss_tr, loss_te = cross_validation_log(y, tX, k_indices, k, lambda_, degree, reg_logistic_regression)\n",
    "        l_log_tr.append(loss_tr)\n",
    "        l_log_te.append(loss_te)\n",
    "    log_tr_rlr.append(np.mean(l_log_tr))\n",
    "    log_te_rlr.append(np.mean(l_log_te))\n",
    "cross_validation_visualization(lambdas, log_tr_rlr, log_te_rlr)"
   ]
  },
  {
   "cell_type": "markdown",
   "metadata": {},
   "source": [
    "### Overfitting vs Underfitting"
   ]
  },
  {
   "cell_type": "markdown",
   "metadata": {},
   "source": [
    "### Methods application and visualization"
   ]
  },
  {
   "cell_type": "markdown",
   "metadata": {},
   "source": [
    "## Generate predictions and save ouput in csv format for submission:"
   ]
  },
  {
   "cell_type": "code",
   "execution_count": null,
   "metadata": {},
   "outputs": [],
   "source": [
    "DATA_TEST_PATH = '' # TODO: download train data and supply path here \n",
    "_, tX_test, ids_test = load_csv_data(DATA_TEST_PATH)"
   ]
  },
  {
   "cell_type": "code",
   "execution_count": null,
   "metadata": {},
   "outputs": [],
   "source": [
    "OUTPUT_PATH = '' # TODO: fill in desired name of output file for submission\n",
    "y_pred = predict_labels(weights, tX_test)\n",
    "create_csv_submission(ids_test, y_pred, OUTPUT_PATH)"
   ]
  },
  {
   "cell_type": "code",
   "execution_count": null,
   "metadata": {},
   "outputs": [],
   "source": []
  }
 ],
 "metadata": {
  "anaconda-cloud": {},
  "kernelspec": {
   "display_name": "Python 3",
   "language": "python",
   "name": "python3"
  },
  "language_info": {
   "codemirror_mode": {
    "name": "ipython",
    "version": 3
   },
   "file_extension": ".py",
   "mimetype": "text/x-python",
   "name": "python",
   "nbconvert_exporter": "python",
   "pygments_lexer": "ipython3",
   "version": "3.7.4"
  }
 },
 "nbformat": 4,
 "nbformat_minor": 1
}
