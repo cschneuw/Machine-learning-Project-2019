{
 "cells": [
  {
   "cell_type": "code",
   "execution_count": 1,
   "metadata": {},
   "outputs": [],
   "source": [
    "# Useful starting lines\n",
    "%matplotlib inline\n",
    "import numpy as np\n",
    "import matplotlib.pyplot as plt\n",
    "%load_ext autoreload\n",
    "%autoreload 2"
   ]
  },
  {
   "cell_type": "markdown",
   "metadata": {},
   "source": [
    "## Load the training data into feature matrix, class labels, and event ids:"
   ]
  },
  {
   "cell_type": "code",
   "execution_count": 2,
   "metadata": {},
   "outputs": [],
   "source": [
    "from proj1_helpers import *\n",
    "DATA_TRAIN_PATH = '../data/train.csv'\n",
    "y, tX, ids = load_csv_data(DATA_TRAIN_PATH)"
   ]
  },
  {
   "cell_type": "markdown",
   "metadata": {},
   "source": [
    "### Change later : Simple data description \n",
    "- all variables are floating point, except PRI_jet_num which is integer\n",
    "- variables prefixed with PRI (for PRImitives) are “raw” quantities about the bunch collision as measured by the detector.\n",
    "- variables prefixed with DER (for DERived) are quantities computed from the primitive features, which were selected by the physicists of ATLAS.\n",
    "- it can happen that for some entries some variables are meaningless or cannot be computed; in this case, their value is −999.0, which is outside the normal range of all variables."
   ]
  },
  {
   "cell_type": "code",
   "execution_count": 3,
   "metadata": {},
   "outputs": [
    {
     "name": "stdout",
     "output_type": "stream",
     "text": [
      "y shape = (250000,)\n",
      "tX shape =(250000, 30)\n",
      "ids shape = (250000,)\n"
     ]
    }
   ],
   "source": [
    "print('y shape = ' + str(y.shape) + '\\ntX shape =' + str(tX.shape) + '\\nids shape = ' + str(ids.shape))"
   ]
  },
  {
   "cell_type": "markdown",
   "metadata": {},
   "source": [
    "Description of the data:\n",
    "- `y` (N) is composed of the labels (-1 or 1) of all the samples.  \n",
    "- `tX` (N x F) is composed of the values of the features (F) for all samples (N)  \n",
    "- `ids` (N) is composed of all the index (100000-349999) of the samples (N)  \n",
    "  \n",
    "Moreover, the number of features is 30 (F=30) and the number of samples is 250'000 (N=250'000). Non recorded data has value `-999`. "
   ]
  },
  {
   "cell_type": "markdown",
   "metadata": {},
   "source": [
    "## Machine learning"
   ]
  },
  {
   "cell_type": "code",
   "execution_count": 4,
   "metadata": {},
   "outputs": [],
   "source": [
    "from implementations import *"
   ]
  },
  {
   "cell_type": "markdown",
   "metadata": {},
   "source": [
    "### Data pre-processing "
   ]
  },
  {
   "cell_type": "code",
   "execution_count": 5,
   "metadata": {},
   "outputs": [],
   "source": [
    "# remove categorical data\n",
    "tX = np.delete(tX, 22, axis=1)\n",
    "# keep only columns that do not have too much missing data\n",
    "tX, rmX = train_data_formatting(tX, degree = 1, cutoff = 0.7, \n",
    "                      imputation = impute_median, interaction = False)\n",
    "# standarize the data\n",
    "rmX = np.append(rmX, 22)\n",
    "tX = np.apply_along_axis(standardize, 1, tX)"
   ]
  },
  {
   "cell_type": "code",
   "execution_count": 6,
   "metadata": {},
   "outputs": [],
   "source": [
    "#y = np.where(y==-1, 0, y)\n",
    "#y = np.where(y==0, -1, y)\n",
    "#tX = tX[0:10, :]\n",
    "#y = y[0:10]"
   ]
  },
  {
   "cell_type": "code",
   "execution_count": 7,
   "metadata": {},
   "outputs": [
    {
     "name": "stdout",
     "output_type": "stream",
     "text": [
      "(250000, 23)\n",
      "[ 4  5  6 12 25 26 27 22]\n"
     ]
    }
   ],
   "source": [
    "print(tX.shape)\n",
    "print(rmX)"
   ]
  },
  {
   "cell_type": "markdown",
   "metadata": {},
   "source": [
    "### Exploratory analysis"
   ]
  },
  {
   "cell_type": "code",
   "execution_count": null,
   "metadata": {},
   "outputs": [],
   "source": []
  },
  {
   "cell_type": "markdown",
   "metadata": {},
   "source": [
    "### Feature processing"
   ]
  },
  {
   "cell_type": "markdown",
   "metadata": {},
   "source": [
    "**Least squares**"
   ]
  },
  {
   "cell_type": "code",
   "execution_count": 8,
   "metadata": {
    "scrolled": true
   },
   "outputs": [
    {
     "name": "stdout",
     "output_type": "stream",
     "text": [
      "w* =[-16.56951516  35.88425074  35.42478643  35.25855094  35.916411\n",
      "  55.45245225  35.68153769  17.01370023  27.77076767  38.33938397\n",
      "  55.51886911  35.86844342  35.81816687  55.28049928  35.80434264\n",
      "  35.87852209  36.00576372  35.79756981  35.76836281  35.86807982\n",
      "  35.84880384  35.76951103  54.60559432]\n",
      "\n",
      "mse=0.3424792276001996\n"
     ]
    }
   ],
   "source": [
    "(w_ls, loss_ls) = least_squares(y, tX)\n",
    "\n",
    "print(\"w* ={w}\\n\\nmse={loss}\".format(w=w_ls, loss=loss_ls))"
   ]
  },
  {
   "cell_type": "markdown",
   "metadata": {},
   "source": [
    "**Least squares with Gradient Descent**"
   ]
  },
  {
   "cell_type": "code",
   "execution_count": 9,
   "metadata": {},
   "outputs": [],
   "source": [
    "#define parameters\n",
    "\n",
    "initial_w = np.zeros(tX.shape[1])\n",
    "max_iters = 100\n",
    "gammas = np.logspace(-6, 0, 20)\n",
    "\n",
    "losses_gd = np.empty(len(gammas))\n",
    "ws_gd = np.empty((len(gammas), len(initial_w)))\n",
    "\n",
    "for idx, gamma in enumerate(gammas):\n",
    "    (w, loss) = least_squares_GD(y, tX, initial_w, max_iters, gamma)\n",
    "    losses_gd[idx] = loss\n",
    "    ws_gd[idx, :]=w"
   ]
  },
  {
   "cell_type": "code",
   "execution_count": 10,
   "metadata": {},
   "outputs": [
    {
     "data": {
      "image/png": "[encoded data removed]",
      "text/plain": [
       "<Figure size 432x288 with 1 Axes>"
      ]
     },
     "metadata": {
      "needs_background": "light"
     },
     "output_type": "display_data"
    }
   ],
   "source": [
    "#plot the losses per gamma\n",
    "\n",
    "fig, ax = plt.subplots()\n",
    "ax.semilogx(gammas, losses_gd)\n",
    "\n",
    "ax.set(xlabel='gamma', ylabel='MSE',\n",
    "       title='Mean square error per choice of learning rate')\n",
    "ax.grid()\n",
    "ax.set_ylim([0, 0.8])\n",
    "plt.show()"
   ]
  },
  {
   "cell_type": "code",
   "execution_count": 11,
   "metadata": {},
   "outputs": [
    {
     "name": "stdout",
     "output_type": "stream",
     "text": [
      "w* =[ 0.02609106  0.05341248 -0.44641379 -0.03264295  0.08259964  0.03039605\n",
      " -0.04811413  0.06357741  0.01703471  0.03853398  0.22273243  0.02759897\n",
      "  0.02686089 -0.06915206  0.02769682  0.02836934 -0.05294179  0.02791485\n",
      " -0.0562567   0.01170168  0.02777256  0.02771762 -0.03448906]\n",
      "\n",
      "mse=0.3673712553116703\n",
      "\n",
      "gamma=0.05455594781168514\n"
     ]
    }
   ],
   "source": [
    "idx = np.nanargmin(losses_gd)\n",
    "\n",
    "w_gd = ws_gd[idx]\n",
    "gamma_gd = gammas[idx]\n",
    "\n",
    "print(\"w* ={w}\\n\\nmse={loss}\\n\\ngamma={gamma}\".format(\n",
    "    w=w_gd, loss=losses_gd[idx], gamma=gamma_gd))"
   ]
  },
  {
   "cell_type": "markdown",
   "metadata": {},
   "source": [
    "**Least squares with Stochastic Gradient Descent**"
   ]
  },
  {
   "cell_type": "code",
   "execution_count": 12,
   "metadata": {},
   "outputs": [],
   "source": [
    "initial_w = np.zeros(tX.shape[1])\n",
    "max_iters = 100\n",
    "gammas = np.logspace(-6, 0, 20)\n",
    "\n",
    "losses_sgd = np.empty(len(gammas))\n",
    "ws_sgd = np.empty((len(gammas), len(initial_w)))\n",
    "for idx, gamma in enumerate(gammas):\n",
    "    (w, loss) = least_squares_SGD(y, tX, initial_w, max_iters, gamma)\n",
    "    losses_sgd[idx] = loss\n",
    "    ws_sgd[idx,:] = w"
   ]
  },
  {
   "cell_type": "code",
   "execution_count": 13,
   "metadata": {},
   "outputs": [
    {
     "data": {
      "image/png": "[encoded data removed]",
      "text/plain": [
       "<Figure size 432x288 with 1 Axes>"
      ]
     },
     "metadata": {
      "needs_background": "light"
     },
     "output_type": "display_data"
    }
   ],
   "source": [
    "#plot the losses per gamma used\n",
    "fig, ax = plt.subplots()\n",
    "ax.semilogx(gammas, losses_sgd)\n",
    "\n",
    "ax.set(xlabel='gamma', ylabel='MSE',\n",
    "       title='Mean square error per choice of learning rate')\n",
    "ax.grid()\n",
    "ax.set_ylim([0, 1])\n",
    "plt.show()"
   ]
  },
  {
   "cell_type": "code",
   "execution_count": 14,
   "metadata": {},
   "outputs": [
    {
     "name": "stdout",
     "output_type": "stream",
     "text": [
      "w* =[ 0.02035689 -0.00395615 -0.19935449 -0.01318405  0.00858874  0.02214182\n",
      " -0.01063315  0.01630094  0.01947169  0.02337082  0.04583758  0.02439111\n",
      "  0.02705548  0.00847396  0.02240994  0.01337424 -0.11041864  0.02154915\n",
      " -0.03800701  0.05464641  0.02376288  0.02061622  0.00320562]\n",
      "\n",
      "mse=0.40097480213836767\n",
      "\n",
      "gamma=0.012742749857031322\n"
     ]
    }
   ],
   "source": [
    "idx = np.nanargmin(losses_sgd)\n",
    "\n",
    "w_sgd = ws_sgd[idx]\n",
    "gamma_sgd = gammas[idx]\n",
    "\n",
    "print(\"w* ={w}\\n\\nmse={loss}\\n\\ngamma={gamma}\".format(\n",
    "    w=w_sgd, loss=losses_sgd[idx], gamma=gamma_sgd ))"
   ]
  },
  {
   "cell_type": "markdown",
   "metadata": {},
   "source": [
    "**Ridge regression**\n",
    "\n",
    "For ridge regression, we have two parameters to optimize, the lambda (penality) and degree (complexity). To do so, we use a cross validation and bias-variance decomposition respectively. \n",
    "\n",
    "As the two are interdependent, we can just run them in a loop (each cells after the others, so first the cross-validation, then biais-variance decomposition, again cross-validation, etc.) to have the best parameters. "
   ]
  },
  {
   "cell_type": "markdown",
   "metadata": {},
   "source": [
    "***Cross-validation hyperparameter selection***"
   ]
  },
  {
   "cell_type": "code",
   "execution_count": 15,
   "metadata": {},
   "outputs": [],
   "source": [
    "seed = 1\n",
    "degree_ri = 7\n",
    "k_fold = 4\n",
    "lambdas = np.logspace(-12, 0, 20)\n",
    "degrees = range(1, 9)\n",
    "\n",
    "k_indices = build_k_indices(y, k_fold, seed)\n",
    "\n",
    "rmse_tr_ri, rmse_te_ri = cross_validation(y, tX, k_indices, k_fold, degrees, \n",
    "                                          lambdas , ml_function = 'ri', max_iters = 100, \n",
    "                                          gamma = 0.05, verbose = False)"
   ]
  },
  {
   "cell_type": "code",
   "execution_count": 16,
   "metadata": {},
   "outputs": [
    {
     "data": {
      "image/png": "[encoded data removed]",
      "text/plain": [
       "<Figure size 432x288 with 1 Axes>"
      ]
     },
     "metadata": {
      "needs_background": "light"
     },
     "output_type": "display_data"
    }
   ],
   "source": [
    "cross_validation_visualization(degrees, rmse_tr_ri, rmse_te_ri, lambdas)"
   ]
  },
  {
   "cell_type": "code",
   "execution_count": 17,
   "metadata": {},
   "outputs": [
    {
     "name": "stdout",
     "output_type": "stream",
     "text": [
      "lambda*=1e-12\n",
      "\n",
      "degree*=6\n",
      "\n",
      "rmse train=0.31870302435060066\n",
      "\n",
      "rmse test=0.319217578010252\n"
     ]
    }
   ],
   "source": [
    "idx = np.unravel_index(np.nanargmin(rmse_te_ri), rmse_te_ri.shape)\n",
    "lambda_ri = lambdas[idx[0]]\n",
    "degree_ri = degrees[idx[1]]\n",
    "\n",
    "print(\"lambda*={lambda_}\\n\\ndegree*={degree}\\n\\nrmse train={rmse_tr}\\n\\nrmse test={rmse_te}\".format(\n",
    "    lambda_=lambda_ri, degree=degree_ri, rmse_tr=rmse_tr_ri[idx], rmse_te=rmse_te_ri[idx]))"
   ]
  },
  {
   "cell_type": "markdown",
   "metadata": {},
   "source": [
    "***Bias-variance decomposition for complexity determination***"
   ]
  },
  {
   "cell_type": "code",
   "execution_count": 18,
   "metadata": {},
   "outputs": [],
   "source": [
    "def bias_variance_decomposition_visualization(degrees, loss_tr, loss_te):\n",
    "    \"\"\"visualize the bias variance decomposition.\"\"\"\n",
    "    loss_tr_mean = np.expand_dims(np.mean(loss_tr, axis=0), axis=0)\n",
    "    loss_te_mean = np.expand_dims(np.mean(loss_te, axis=0), axis=0)\n",
    "    plt.plot(degrees, loss_tr.T, 'b', linestyle=\"-\", label='train', linewidth=0.3)\n",
    "    plt.plot(degrees, loss_te.T, 'r', linestyle=\"-\", label='test', linewidth=0.3)\n",
    "    plt.plot(degrees, loss_tr_mean.T, 'b', linestyle=\"-\", label='train', linewidth=3)\n",
    "    plt.plot(degrees, loss_te_mean.T, 'r', linestyle=\"-\", label='test', linewidth=3)\n",
    "    plt.xlabel(\"degree\")\n",
    "    plt.ylabel(\"error\")\n",
    "    plt.ylim(0, 10)\n",
    "    plt.title(\"Bias-Variance Decomposition\")"
   ]
  },
  {
   "cell_type": "code",
   "execution_count": 19,
   "metadata": {},
   "outputs": [],
   "source": [
    "ratio_train = 0.1\n",
    "seeds = range(50)"
   ]
  },
  {
   "cell_type": "code",
   "execution_count": 20,
   "metadata": {},
   "outputs": [],
   "source": [
    "rmse_tr_bv = np.empty((len(seeds), len(degrees)))\n",
    "rmse_te_bv = np.empty((len(seeds), len(degrees)))\n",
    "\n",
    "for index_seed, seed in enumerate(seeds):\n",
    "    np.random.seed(seed)\n",
    "    x_tr, x_te, y_tr, y_te = split_data(tX, y, ratio_train, seed)        \n",
    "    \n",
    "    for index_deg, deg in enumerate(degrees): \n",
    "        tx_tr = build_poly(x_tr, deg)\n",
    "        tx_te = build_poly(x_te, deg)\n",
    "            \n",
    "        w_tr, mse_tr = ridge_regression(y_tr, tx_tr, lambda_ri)\n",
    "        mse_te = compute_mse(y_te, tx_te, w_tr)\n",
    "            \n",
    "        rmse_tr_bv[index_seed][index_deg] = np.sqrt(2*mse_tr)\n",
    "        rmse_te_bv[index_seed][index_deg] = np.sqrt(2*mse_te)"
   ]
  },
  {
   "cell_type": "code",
   "execution_count": 21,
   "metadata": {},
   "outputs": [
    {
     "data": {
      "image/png": "[encoded data removed]",
      "text/plain": [
       "<Figure size 432x288 with 1 Axes>"
      ]
     },
     "metadata": {
      "needs_background": "light"
     },
     "output_type": "display_data"
    }
   ],
   "source": [
    "bias_variance_decomposition_visualization(degrees, rmse_tr_bv, rmse_te_bv)"
   ]
  },
  {
   "cell_type": "markdown",
   "metadata": {},
   "source": [
    "Based on the plot above, change the value of `degree_ri` manually. "
   ]
  },
  {
   "cell_type": "code",
   "execution_count": 22,
   "metadata": {},
   "outputs": [
    {
     "name": "stdout",
     "output_type": "stream",
     "text": [
      "degree*=6\n",
      "\n",
      "rmse train=0.8042428668643291\n",
      "\n",
      "rmse test=0.8224029943754054\n"
     ]
    }
   ],
   "source": [
    "rmse_te_bv = np.array(rmse_te_bv)\n",
    "rmse_tr_bv = np.array(rmse_tr_bv)\n",
    "\n",
    "idx = np.nanargmin(np.abs(np.mean(rmse_te_bv-rmse_tr_bv, axis=0)))\n",
    "\n",
    "degree_ri = degree_ri\n",
    "\n",
    "print(\"degree*={degree}\\n\\nrmse train={rmse_tr}\\n\\nrmse test={rmse_te}\".format(\n",
    "    degree=degree_ri, rmse_tr=rmse_tr_bv[idx].mean(), rmse_te=rmse_te_bv[idx].mean()))"
   ]
  },
  {
   "cell_type": "code",
   "execution_count": 23,
   "metadata": {},
   "outputs": [
    {
     "name": "stdout",
     "output_type": "stream",
     "text": [
      "final w* shape=(139,)\n",
      "\n",
      "final degree*=6\n",
      "\n",
      "final lambda*=1e-12\n",
      "\n",
      "mse=0.3187567342820838\n"
     ]
    }
   ],
   "source": [
    "tX_poly = build_poly(tX, degree_ri)\n",
    "            \n",
    "w_ri, mse_ri = ridge_regression(y, tX_poly, lambda_ri)\n",
    "\n",
    "print(\"final w* shape={w}\\n\\nfinal degree*={degree}\\n\\nfinal lambda*={lambda_}\\n\\nmse={loss}\".format(w=w_ri.shape, \\\n",
    "            degree=degree_ri, lambda_=lambda_ri, loss = mse_ri))"
   ]
  },
  {
   "cell_type": "markdown",
   "metadata": {},
   "source": [
    "**Logistic regression**"
   ]
  },
  {
   "cell_type": "code",
   "execution_count": 24,
   "metadata": {},
   "outputs": [],
   "source": [
    "y = np.where(y==-1, 0, y)\n",
    "initial_w = np.zeros(tX.shape[1])\n",
    "max_iters = 1000\n",
    "gammas = np.logspace(-10, -1, 20)"
   ]
  },
  {
   "cell_type": "code",
   "execution_count": 25,
   "metadata": {},
   "outputs": [
    {
     "name": "stderr",
     "output_type": "stream",
     "text": [
      "/Users/camille/Documents/EPFL/Master3/ml chris/Machine-learning-Project-2019/scripts/implementations.py:55: RuntimeWarning: divide by zero encountered in log\n",
      "  return -y.T.dot(np.log(h))-(1-y).T.dot(np.log(1-h))\n"
     ]
    }
   ],
   "source": [
    "losses_lr = np.empty(len(gammas))\n",
    "ws_lr = np.empty((len(gammas), len(initial_w)))\n",
    "for idx, gamma in enumerate(gammas):\n",
    "    (w, loss) = logistic_regression(y, tX, initial_w, max_iters, gamma)\n",
    "    losses_lr[idx] = loss\n",
    "    ws_lr[idx, :] = w"
   ]
  },
  {
   "cell_type": "code",
   "execution_count": 26,
   "metadata": {},
   "outputs": [
    {
     "data": {
      "image/png": "[encoded data removed]",
      "text/plain": [
       "<Figure size 432x288 with 1 Axes>"
      ]
     },
     "metadata": {
      "needs_background": "light"
     },
     "output_type": "display_data"
    }
   ],
   "source": [
    "#plot the losses per gamma used\n",
    "fig, ax = plt.subplots()\n",
    "ax.semilogx(gammas, losses_lr)\n",
    "\n",
    "ax.set(xlabel='gamma', ylabel='loglikelihood',\n",
    "       title='Log likelihood per choice of learning rate')\n",
    "ax.grid()\n",
    "plt.show()"
   ]
  },
  {
   "cell_type": "code",
   "execution_count": 27,
   "metadata": {},
   "outputs": [
    {
     "name": "stdout",
     "output_type": "stream",
     "text": [
      "w* =[ 0.03617218  0.32279767 -1.49097953 -0.65858368  0.15361016  0.24731652\n",
      " -0.31494863  0.48359585 -0.04044532  0.32055352  1.30776829  0.07779247\n",
      "  0.05415266 -0.16555179  0.07805405  0.10026063 -0.01036583  0.06624886\n",
      " -0.14978005 -0.09873603  0.0839565   0.08439951 -0.48728799]\n",
      "\n",
      "loglikelihood loss=132361.7419256777\n",
      "\n",
      "gamma=1.8329807108324337e-06\n"
     ]
    }
   ],
   "source": [
    "idx = np.nanargmin(losses_lr)\n",
    "\n",
    "w_lr = ws_lr[idx]\n",
    "gamma_lr = gammas[idx]\n",
    "\n",
    "print(\"w* ={w}\\n\\nloglikelihood loss={loss}\\n\\ngamma={gamma}\".format(\n",
    "    w=w_lr, loss=losses_lr[idx], gamma = gamma_lr))"
   ]
  },
  {
   "cell_type": "markdown",
   "metadata": {},
   "source": [
    "***Cross-validation for hyperparameter determination***"
   ]
  },
  {
   "cell_type": "code",
   "execution_count": 28,
   "metadata": {},
   "outputs": [],
   "source": [
    "seed = 1\n",
    "k_fold = 4\n",
    "degrees = range(1, 9)\n",
    "\n",
    "k_indices = build_k_indices(y, k_fold, seed)\n",
    "\n",
    "loss_tr_lr, loss_te_lr = cross_validation(y, tX, k_indices, k_fold, degrees, \n",
    "                                          lambdas=[0], ml_function = 'lr', max_iters = 1000, gamma = gamma_lr)"
   ]
  },
  {
   "cell_type": "code",
   "execution_count": 29,
   "metadata": {},
   "outputs": [
    {
     "data": {
      "image/png": "[encoded data removed]",
      "text/plain": [
       "<Figure size 432x288 with 1 Axes>"
      ]
     },
     "metadata": {
      "needs_background": "light"
     },
     "output_type": "display_data"
    }
   ],
   "source": [
    "cross_validation_visualization(degrees, loss_tr_lr, loss_te_lr)"
   ]
  },
  {
   "cell_type": "code",
   "execution_count": 30,
   "metadata": {},
   "outputs": [
    {
     "name": "stdout",
     "output_type": "stream",
     "text": [
      "degree*=6\n",
      "\n",
      "loglikelihood train=98868.87610186261\n",
      "\n",
      "loglikelihood test=32960.30616265061\n"
     ]
    }
   ],
   "source": [
    "loss_te_lr = np.array(loss_te_lr)\n",
    "loss_tr_lr = np.array(loss_tr_lr)\n",
    "\n",
    "idx = np.nanargmin(loss_te_lr)\n",
    "\n",
    "degree_lr = degrees[idx]\n",
    "\n",
    "print(\"degree*={degree}\\n\\nloglikelihood train={loss_tr}\\n\\nloglikelihood test={loss_te}\".format(\n",
    "    degree=degree_ri, loss_tr=loss_tr_lr.flatten()[idx], loss_te=loss_te_lr.flatten()[idx]))"
   ]
  },
  {
   "cell_type": "markdown",
   "metadata": {},
   "source": [
    "**Regularized logistic regression**"
   ]
  },
  {
   "cell_type": "code",
   "execution_count": 31,
   "metadata": {},
   "outputs": [],
   "source": [
    "initial_w = np.zeros(tX.shape[1])\n",
    "max_iters = 1000\n",
    "gammas = np.logspace(-10, -1, 20)\n",
    "lambda_rlr =lambda_ri"
   ]
  },
  {
   "cell_type": "code",
   "execution_count": 32,
   "metadata": {},
   "outputs": [],
   "source": [
    "losses_rlr = np.empty(len(gammas))\n",
    "ws_rlr = np.empty((len(gammas), len(initial_w)))\n",
    "for idx, gamma in enumerate(gammas):\n",
    "    (w, loss) = reg_logistic_regression(y, tX, lambda_rlr, initial_w, max_iters, gamma)\n",
    "    losses_rlr[idx] = loss\n",
    "    ws_rlr[idx, :] = w"
   ]
  },
  {
   "cell_type": "code",
   "execution_count": 33,
   "metadata": {},
   "outputs": [
    {
     "data": {
      "image/png": "[encoded data removed]",
      "text/plain": [
       "<Figure size 432x288 with 1 Axes>"
      ]
     },
     "metadata": {
      "needs_background": "light"
     },
     "output_type": "display_data"
    }
   ],
   "source": [
    "#plot the losses per gamma used\n",
    "fig, ax = plt.subplots()\n",
    "ax.semilogx(gammas, losses_rlr)\n",
    "\n",
    "ax.set(xlabel='gamma', ylabel='loglikelihood',\n",
    "       title='Log likelihood per choice of learning rate')\n",
    "ax.grid()\n",
    "plt.show()"
   ]
  },
  {
   "cell_type": "code",
   "execution_count": 34,
   "metadata": {},
   "outputs": [
    {
     "name": "stdout",
     "output_type": "stream",
     "text": [
      "w* =[ 0.03617218  0.32279767 -1.49097953 -0.65858368  0.15361016  0.24731652\n",
      " -0.31494863  0.48359585 -0.04044532  0.32055352  1.30776829  0.07779247\n",
      "  0.05415266 -0.16555179  0.07805405  0.10026063 -0.01036583  0.06624886\n",
      " -0.14978005 -0.09873603  0.0839565   0.08439951 -0.48728799]\n",
      "\n",
      "loglikelihood loss=132361.7419256777\n",
      "\n",
      "gamma=1.8329807108324337e-06\n"
     ]
    }
   ],
   "source": [
    "idx = np.nanargmin(losses_rlr)\n",
    "\n",
    "w_rlr = ws_rlr[idx]\n",
    "gamma_rlr = gammas[idx]\n",
    "\n",
    "print(\"w* ={w}\\n\\nloglikelihood loss={loss}\\n\\ngamma={gamma}\".format(\n",
    "    w=w_rlr, loss=losses_rlr[idx], gamma = gamma_rlr))"
   ]
  },
  {
   "cell_type": "markdown",
   "metadata": {},
   "source": [
    "***Cross-validation hyperparameter selection***"
   ]
  },
  {
   "cell_type": "code",
   "execution_count": 35,
   "metadata": {},
   "outputs": [],
   "source": [
    "seed = 1\n",
    "degree_rlr = 1\n",
    "k_fold = 4\n",
    "lambdas = np.logspace(-12, 0, 10)\n",
    "degrees = range(1, 9)\n",
    "\n",
    "k_indices = build_k_indices(y, k_fold, seed)"
   ]
  },
  {
   "cell_type": "code",
   "execution_count": 36,
   "metadata": {},
   "outputs": [],
   "source": [
    "loss_tr_rlr, loss_te_rlr = cross_validation(y, tX, k_indices, k_fold, degrees, \n",
    "                                          lambdas, ml_function = 'lr', max_iters = 1000, gamma = gamma_rlr)"
   ]
  },
  {
   "cell_type": "code",
   "execution_count": 37,
   "metadata": {},
   "outputs": [
    {
     "data": {
      "image/png": "[encoded data removed]",
      "text/plain": [
       "<Figure size 432x288 with 1 Axes>"
      ]
     },
     "metadata": {
      "needs_background": "light"
     },
     "output_type": "display_data"
    }
   ],
   "source": [
    "cross_validation_visualization(degrees, loss_tr_rlr, loss_te_rlr, lambdas)"
   ]
  },
  {
   "cell_type": "code",
   "execution_count": 38,
   "metadata": {},
   "outputs": [
    {
     "name": "stdout",
     "output_type": "stream",
     "text": [
      "lambda* =1e-12n\n",
      "degree*=1\n",
      "\n",
      "loglikelihood train=98868.87610186261\n",
      "\n",
      "loglikelihood test=32960.30616265061\n"
     ]
    }
   ],
   "source": [
    "idx = np.unravel_index(np.nanargmin(loss_te_rlr), loss_te_rlr.shape)\n",
    "lambda_rlr = lambdas[idx[0]]\n",
    "degree_rlr = degrees[idx[1]]\n",
    "\n",
    "print(\"lambda* ={lambda_}n\\ndegree*={degree}\\n\\nloglikelihood train={log_tr}\\n\\nloglikelihood test={log_te}\".format(\n",
    "    lambda_=lambda_rlr, degree=degree_rlr, log_tr=loss_tr_rlr[idx], log_te=loss_te_rlr[idx]))"
   ]
  },
  {
   "cell_type": "markdown",
   "metadata": {},
   "source": [
    "***Bias-variance decomposition for complexity determination***"
   ]
  },
  {
   "cell_type": "code",
   "execution_count": 39,
   "metadata": {},
   "outputs": [],
   "source": [
    "ratio_train = 0.1\n",
    "seeds = range(50)\n",
    "degrees = range(1, 9)\n",
    "lambda_rlr = lambda_ri"
   ]
  },
  {
   "cell_type": "code",
   "execution_count": 40,
   "metadata": {},
   "outputs": [],
   "source": [
    "loss_tr_bv = np.empty((len(seeds), len(degrees)))\n",
    "loss_te_bv = np.empty((len(seeds), len(degrees)))\n",
    "\n",
    "for index_seed, seed in enumerate(seeds):\n",
    "    np.random.seed(seed)\n",
    "        \n",
    "    x_tr, x_te, y_tr, y_te = split_data(tX, y, ratio_train, seed)        \n",
    "\n",
    "    for index_deg, deg in enumerate(degrees): \n",
    "        tx_tr = build_poly(x_tr, deg)\n",
    "        tx_te = build_poly(x_te, deg)\n",
    "        \n",
    "        initial_w = np.zeros(tx_tr.shape[1])\n",
    "        \n",
    "        w_tr, log_tr = reg_logistic_regression(y_tr, tx_tr, lambda_rlr, initial_w, max_iters, gamma_rlr)\n",
    "        log_te = compute_loglikelihood(y_te, tx_te, w_tr)\n",
    "            \n",
    "        loss_tr_bv[index_seed][index_deg] = log_tr\n",
    "        loss_tr_bv[index_seed][index_deg] = log_te"
   ]
  },
  {
   "cell_type": "code",
   "execution_count": 41,
   "metadata": {},
   "outputs": [
    {
     "data": {
      "image/png": "[encoded data removed]",
      "text/plain": [
       "<Figure size 432x288 with 1 Axes>"
      ]
     },
     "metadata": {
      "needs_background": "light"
     },
     "output_type": "display_data"
    }
   ],
   "source": [
    "bias_variance_decomposition_visualization(degrees, loss_tr_bv, loss_te_bv)"
   ]
  },
  {
   "cell_type": "markdown",
   "metadata": {},
   "source": [
    "Based on the plot above, change the value of `degree_rlr` manually. "
   ]
  },
  {
   "cell_type": "code",
   "execution_count": 42,
   "metadata": {},
   "outputs": [
    {
     "name": "stdout",
     "output_type": "stream",
     "text": [
      "degree* =4\n",
      "\n",
      "loglikelihood train=122511.334736726\n",
      "\n",
      "loglikelihood test=-5.572032563088583e-91\n"
     ]
    }
   ],
   "source": [
    "loss_te_bv = np.array(loss_te_bv)\n",
    "loss_tr_bv = np.array(loss_tr_bv)\n",
    "\n",
    "idx = np.nanargmin(np.nanmean(loss_tr_bv, axis=1))\n",
    "\n",
    "degree_rlr = 4\n",
    "lambda_rlr = 1.8329807108324375e-11\n",
    "\n",
    "print(\"degree* ={degree}\\n\\nloglikelihood train={loss_tr}\\n\\nloglikelihood test={loss_te}\".format(\n",
    "    degree=degree_rlr, loss_tr=np.nanmean(loss_tr_bv[idx]), loss_te=np.nanmean(loss_te_bv[idx])))"
   ]
  },
  {
   "cell_type": "code",
   "execution_count": 43,
   "metadata": {},
   "outputs": [
    {
     "name": "stdout",
     "output_type": "stream",
     "text": [
      "final w* shape=(93,)\n",
      "\n",
      "final degree*=4\n",
      "\n",
      "final lambda*=1.8329807108324375e-11\n",
      "\n",
      "log-likelihood=nan\n"
     ]
    }
   ],
   "source": [
    "tX_poly = build_poly(tX, degree_rlr)\n",
    "initial_w = np.empty(tX_poly.shape[1])            \n",
    "w_rlr, log_rlr = reg_logistic_regression(y, tX_poly, lambda_rlr, initial_w, max_iters, gamma_rlr)\n",
    "\n",
    "print(\"final w* shape={w}\\n\\nfinal degree*={degree}\\n\\nfinal lambda*={lambda_}\\n\\nlog-likelihood={loss}\".format(w=w_rlr.shape, \\\n",
    "            degree=degree_rlr, lambda_=lambda_rlr, loss = log_rlr))"
   ]
  },
  {
   "cell_type": "markdown",
   "metadata": {},
   "source": [
    "### Overfitting vs Underfitting"
   ]
  },
  {
   "cell_type": "markdown",
   "metadata": {},
   "source": [
    "### Methods application and visualization"
   ]
  },
  {
   "cell_type": "code",
   "execution_count": 44,
   "metadata": {},
   "outputs": [],
   "source": [
    "#save the calculated variables to keep them without having to re-run everything\n",
    "# w_ls, w_gd, gamma_gd, w_sgd, gamma_sgd, w_ri, degree_ri, lambda_ri\n",
    "# w_lr, gamma_lr, w_rlr, gamma_rlr, lambda_rlr, degree_rlr\n",
    "ws = (w_ls, w_gd, w_sgd, w_ri, w_lr, w_rlr)\n",
    "degs = (degree_ri , degree_rlr)\n",
    "gammas = (gamma_gd, gamma_sgd, gamma_lr, gamma_rlr)\n",
    "lambdas = (lambda_ri, lambda_rlr)\n",
    "\n",
    "np.savetxt('weights.txt', ws, fmt='%s', delimiter=',', newline='\\n')\n",
    "np.savetxt('degrees.txt', degs, fmt='%s', delimiter=',', newline='\\n')\n",
    "np.savetxt('gammas.txt', gammas, fmt='%s', delimiter=',', newline='\\n')\n",
    "np.savetxt('lambdas.txt', lambdas, fmt='%s', delimiter=',', newline='\\n')"
   ]
  },
  {
   "cell_type": "markdown",
   "metadata": {},
   "source": [
    "## Generate predictions and save ouput in csv format for submission:"
   ]
  },
  {
   "cell_type": "code",
   "execution_count": 45,
   "metadata": {},
   "outputs": [],
   "source": [
    "DATA_TEST_PATH = '../data/test.csv' \n",
    "_, tX_test, ids_test = load_csv_data(DATA_TEST_PATH)"
   ]
  },
  {
   "cell_type": "code",
   "execution_count": 46,
   "metadata": {},
   "outputs": [
    {
     "name": "stdout",
     "output_type": "stream",
     "text": [
      "(568238, 23)\n",
      "(139,)\n",
      "(568238, 162)\n"
     ]
    }
   ],
   "source": [
    "weights = w_ri\n",
    "#weights = np.insert(weights, rmX, 0, axis = 0)\n",
    "tX_test = np.delete(tX_test, rmX, axis=1)\n",
    "# keep only columns that do not have too much missing data\n",
    "tX_test, rmX_test = train_data_formatting(tX_test, degree = 1, cutoff = 1.0, \n",
    "                      imputation = impute_median, interaction = False)\n",
    "tX_test = np.apply_along_axis(standardize, 1, tX_test)\n",
    "tX_poly = build_poly(tX_test, 7)\n",
    "\n",
    "print(tX_test.shape)\n",
    "print(weights.shape)\n",
    "print(tX_poly.shape)"
   ]
  },
  {
   "cell_type": "code",
   "execution_count": 47,
   "metadata": {},
   "outputs": [
    {
     "ename": "ValueError",
     "evalue": "shapes (568238,162) and (139,) not aligned: 162 (dim 1) != 139 (dim 0)",
     "output_type": "error",
     "traceback": [
      "\u001b[0;31m---------------------------------------------------------------------------\u001b[0m",
      "\u001b[0;31mValueError\u001b[0m                                Traceback (most recent call last)",
      "\u001b[0;32m<ipython-input-47-dac28594bcd1>\u001b[0m in \u001b[0;36m<module>\u001b[0;34m\u001b[0m\n\u001b[1;32m      1\u001b[0m \u001b[0mOUTPUT_PATH\u001b[0m \u001b[0;34m=\u001b[0m \u001b[0;34m'../data/sample-submission.csv'\u001b[0m\u001b[0;34m\u001b[0m\u001b[0;34m\u001b[0m\u001b[0m\n\u001b[0;32m----> 2\u001b[0;31m \u001b[0my_pred\u001b[0m \u001b[0;34m=\u001b[0m \u001b[0mpredict_labels\u001b[0m\u001b[0;34m(\u001b[0m\u001b[0mweights\u001b[0m\u001b[0;34m,\u001b[0m \u001b[0mtX_poly\u001b[0m\u001b[0;34m)\u001b[0m\u001b[0;34m\u001b[0m\u001b[0;34m\u001b[0m\u001b[0m\n\u001b[0m\u001b[1;32m      3\u001b[0m \u001b[0mcreate_csv_submission\u001b[0m\u001b[0;34m(\u001b[0m\u001b[0mids_test\u001b[0m\u001b[0;34m,\u001b[0m \u001b[0my_pred\u001b[0m\u001b[0;34m,\u001b[0m \u001b[0mOUTPUT_PATH\u001b[0m\u001b[0;34m)\u001b[0m\u001b[0;34m\u001b[0m\u001b[0;34m\u001b[0m\u001b[0m\n",
      "\u001b[0;32m~/Documents/EPFL/Master3/ml chris/Machine-learning-Project-2019/scripts/proj1_helpers.py\u001b[0m in \u001b[0;36mpredict_labels\u001b[0;34m(weights, data)\u001b[0m\n\u001b[1;32m     27\u001b[0m \u001b[0;32mdef\u001b[0m \u001b[0mpredict_labels\u001b[0m\u001b[0;34m(\u001b[0m\u001b[0mweights\u001b[0m\u001b[0;34m,\u001b[0m \u001b[0mdata\u001b[0m\u001b[0;34m)\u001b[0m\u001b[0;34m:\u001b[0m\u001b[0;34m\u001b[0m\u001b[0;34m\u001b[0m\u001b[0m\n\u001b[1;32m     28\u001b[0m     \u001b[0;34m\"\"\"Generates class predictions given weights, and a test data matrix\"\"\"\u001b[0m\u001b[0;34m\u001b[0m\u001b[0;34m\u001b[0m\u001b[0m\n\u001b[0;32m---> 29\u001b[0;31m     \u001b[0my_pred\u001b[0m \u001b[0;34m=\u001b[0m \u001b[0mnp\u001b[0m\u001b[0;34m.\u001b[0m\u001b[0mdot\u001b[0m\u001b[0;34m(\u001b[0m\u001b[0mdata\u001b[0m\u001b[0;34m,\u001b[0m \u001b[0mweights\u001b[0m\u001b[0;34m)\u001b[0m\u001b[0;34m\u001b[0m\u001b[0;34m\u001b[0m\u001b[0m\n\u001b[0m\u001b[1;32m     30\u001b[0m     \u001b[0my_pred\u001b[0m\u001b[0;34m[\u001b[0m\u001b[0mnp\u001b[0m\u001b[0;34m.\u001b[0m\u001b[0mwhere\u001b[0m\u001b[0;34m(\u001b[0m\u001b[0my_pred\u001b[0m \u001b[0;34m<=\u001b[0m \u001b[0;36m0\u001b[0m\u001b[0;34m)\u001b[0m\u001b[0;34m]\u001b[0m \u001b[0;34m=\u001b[0m \u001b[0;34m-\u001b[0m\u001b[0;36m1\u001b[0m\u001b[0;34m\u001b[0m\u001b[0;34m\u001b[0m\u001b[0m\n\u001b[1;32m     31\u001b[0m     \u001b[0my_pred\u001b[0m\u001b[0;34m[\u001b[0m\u001b[0mnp\u001b[0m\u001b[0;34m.\u001b[0m\u001b[0mwhere\u001b[0m\u001b[0;34m(\u001b[0m\u001b[0my_pred\u001b[0m \u001b[0;34m>\u001b[0m \u001b[0;36m0\u001b[0m\u001b[0;34m)\u001b[0m\u001b[0;34m]\u001b[0m \u001b[0;34m=\u001b[0m \u001b[0;36m1\u001b[0m\u001b[0;34m\u001b[0m\u001b[0;34m\u001b[0m\u001b[0m\n",
      "\u001b[0;31mValueError\u001b[0m: shapes (568238,162) and (139,) not aligned: 162 (dim 1) != 139 (dim 0)"
     ]
    }
   ],
   "source": [
    "OUTPUT_PATH = '../data/sample-submission.csv'\n",
    "y_pred = predict_labels(weights, tX_poly)\n",
    "create_csv_submission(ids_test, y_pred, OUTPUT_PATH)"
   ]
  },
  {
   "cell_type": "code",
   "execution_count": null,
   "metadata": {},
   "outputs": [],
   "source": []
  },
  {
   "cell_type": "code",
   "execution_count": null,
   "metadata": {},
   "outputs": [],
   "source": []
  }
 ],
 "metadata": {
  "anaconda-cloud": {},
  "kernelspec": {
   "display_name": "Python 3",
   "language": "python",
   "name": "python3"
  },
  "language_info": {
   "codemirror_mode": {
    "name": "ipython",
    "version": 3
   },
   "file_extension": ".py",
   "mimetype": "text/x-python",
   "name": "python",
   "nbconvert_exporter": "python",
   "pygments_lexer": "ipython3",
   "version": "3.7.4"
  }
 },
 "nbformat": 4,
 "nbformat_minor": 1
}
